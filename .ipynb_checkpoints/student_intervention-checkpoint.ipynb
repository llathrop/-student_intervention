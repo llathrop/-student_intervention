{
 "cells": [
  {
   "cell_type": "markdown",
   "metadata": {},
   "source": [
    "# Project 2: Supervised Learning\n",
    "### Building a Student Intervention System"
   ]
  },
  {
   "cell_type": "markdown",
   "metadata": {},
   "source": [
    "## 1. Classification vs Regression\n",
    "\n",
    "*Your goal is to identify students who might need early intervention - which type of supervised machine learning problem is this, classification or regression? Why?*\n",
    "\n",
    "This problem is best suited for classificaton. This is due to the binary nature of the output, where we require a determination of the student as \"need early intervention\", or not. The current problem does not include a need to predict a specific value, such as a grade, for each student. If it did, this would be a regression problem."
   ]
  },
  {
   "cell_type": "markdown",
   "metadata": {},
   "source": [
    "## 2. Exploring the Data\n",
    "\n",
    "Let's go ahead and read in the student dataset first.\n",
    "\n",
    "_To execute a code cell, click inside it and press **Shift+Enter**._"
   ]
  },
  {
   "cell_type": "code",
   "execution_count": 54,
   "metadata": {
    "collapsed": false,
    "scrolled": true
   },
   "outputs": [],
   "source": [
    "# Import libraries\n",
    "import numpy as np\n",
    "import pandas as pd\n",
    "\n",
    "from matplotlib import pyplot as plt\n",
    "from matplotlib.colors import ListedColormap\n",
    "from IPython.display import display\n",
    "%matplotlib inline  \n"
   ]
  },
  {
   "cell_type": "code",
   "execution_count": 42,
   "metadata": {
    "collapsed": false,
    "scrolled": true
   },
   "outputs": [
    {
     "name": "stdout",
     "output_type": "stream",
     "text": [
      "Student data read successfully!\n"
     ]
    }
   ],
   "source": [
    "# Read student data\n",
    "student_data = pd.read_csv(\"student-data.csv\")\n",
    "print \"Student data read successfully!\"\n",
    "# Note: The last column 'passed' is the target/label, all other are feature columns\n"
   ]
  },
  {
   "cell_type": "markdown",
   "metadata": {},
   "source": [
    "Now, can you find out the following facts about the dataset?\n",
    "- Total number of students\n",
    "- Number of students who passed\n",
    "- Number of students who failed\n",
    "- Graduation rate of the class (%)\n",
    "- Number of features\n",
    "\n",
    "_Use the code block below to compute these values. Instructions/steps are marked using **TODO**s._"
   ]
  },
  {
   "cell_type": "code",
   "execution_count": 45,
   "metadata": {
    "collapsed": false,
    "scrolled": true
   },
   "outputs": [
    {
     "name": "stdout",
     "output_type": "stream",
     "text": [
      "Total number of students: 395\n",
      "Number of students who passed: 265\n",
      "Number of students who failed: 130\n",
      "Number of features: 30\n",
      "Graduation rate of the class: 67.09%\n"
     ]
    }
   ],
   "source": [
    "# TODO: Compute desired values - replace each '?' with an appropriate expression/function call\n",
    "n_students =student_data.shape[0]\n",
    "n_features = student_data.shape[1]-1\n",
    "n_passed = student_data[student_data['passed']=='yes'].shape[0]\n",
    "n_failed = student_data[student_data['passed']=='no'].shape[0]\n",
    "grad_rate = n_passed/float(n_students)*100\n",
    "print \"Total number of students: {}\".format(n_students)\n",
    "print \"Number of students who passed: {}\".format(n_passed)\n",
    "print \"Number of students who failed: {}\".format(n_failed)\n",
    "print \"Number of features: {}\".format(n_features)\n",
    "print \"Graduation rate of the class: {:.2f}%\".format(grad_rate)"
   ]
  },
  {
   "cell_type": "markdown",
   "metadata": {},
   "source": [
    "## 3. Preparing the Data\n",
    "In this section, we will prepare the data for modeling, training and testing.\n",
    "\n",
    "### Identify feature and target columns\n",
    "It is often the case that the data you obtain contains non-numeric features. This can be a problem, as most machine learning algorithms expect numeric data to perform computations with.\n",
    "\n",
    "Let's first separate our data into feature and target columns, and see if any features are non-numeric.<br/>\n",
    "**Note**: For this dataset, the last column (`'passed'`) is the target or label we are trying to predict."
   ]
  },
  {
   "cell_type": "code",
   "execution_count": 4,
   "metadata": {
    "collapsed": false,
    "scrolled": true
   },
   "outputs": [
    {
     "name": "stdout",
     "output_type": "stream",
     "text": [
      "Feature column(s):-\n",
      "['school', 'sex', 'age', 'address', 'famsize', 'Pstatus', 'Medu', 'Fedu', 'Mjob', 'Fjob', 'reason', 'guardian', 'traveltime', 'studytime', 'failures', 'schoolsup', 'famsup', 'paid', 'activities', 'nursery', 'higher', 'internet', 'romantic', 'famrel', 'freetime', 'goout', 'Dalc', 'Walc', 'health', 'absences']\n",
      "Target column: passed\n",
      "\n",
      "Feature values:-\n",
      "  school sex  age address famsize Pstatus  Medu  Fedu     Mjob      Fjob  \\\n",
      "0     GP   F   18       U     GT3       A     4     4  at_home   teacher   \n",
      "1     GP   F   17       U     GT3       T     1     1  at_home     other   \n",
      "2     GP   F   15       U     LE3       T     1     1  at_home     other   \n",
      "3     GP   F   15       U     GT3       T     4     2   health  services   \n",
      "4     GP   F   16       U     GT3       T     3     3    other     other   \n",
      "\n",
      "    ...    higher internet  romantic  famrel  freetime goout Dalc Walc health  \\\n",
      "0   ...       yes       no        no       4         3     4    1    1      3   \n",
      "1   ...       yes      yes        no       5         3     3    1    1      3   \n",
      "2   ...       yes      yes        no       4         3     2    2    3      3   \n",
      "3   ...       yes      yes       yes       3         2     2    1    1      5   \n",
      "4   ...       yes       no        no       4         3     2    1    2      5   \n",
      "\n",
      "  absences  \n",
      "0        6  \n",
      "1        4  \n",
      "2       10  \n",
      "3        2  \n",
      "4        4  \n",
      "\n",
      "[5 rows x 30 columns]\n"
     ]
    }
   ],
   "source": [
    "# Extract feature (X) and target (y) columns\n",
    "feature_cols = list(student_data.columns[:-1])  # all columns but last are features\n",
    "target_col = student_data.columns[-1]  # last column is the target/label\n",
    "print \"Feature column(s):-\\n{}\".format(feature_cols)\n",
    "print \"Target column: {}\".format(target_col)\n",
    "\n",
    "X_all = student_data[feature_cols]  # feature values for all students\n",
    "y_all = student_data[target_col]  # corresponding targets/labels\n",
    "print \"\\nFeature values:-\"\n",
    "print X_all.head()  # print the first 5 rows"
   ]
  },
  {
   "cell_type": "markdown",
   "metadata": {},
   "source": [
    "### Preprocess feature columns\n",
    "\n",
    "As you can see, there are several non-numeric columns that need to be converted! Many of them are simply `yes`/`no`, e.g. `internet`. These can be reasonably converted into `1`/`0` (binary) values.\n",
    "\n",
    "Other columns, like `Mjob` and `Fjob`, have more than two values, and are known as _categorical variables_. The recommended way to handle such a column is to create as many columns as possible values (e.g. `Fjob_teacher`, `Fjob_other`, `Fjob_services`, etc.), and assign a `1` to one of them and `0` to all others.\n",
    "\n",
    "These generated columns are sometimes called _dummy variables_, and we will use the [`pandas.get_dummies()`](http://pandas.pydata.org/pandas-docs/stable/generated/pandas.get_dummies.html?highlight=get_dummies#pandas.get_dummies) function to perform this transformation."
   ]
  },
  {
   "cell_type": "code",
   "execution_count": 5,
   "metadata": {
    "collapsed": false,
    "scrolled": false
   },
   "outputs": [
    {
     "name": "stdout",
     "output_type": "stream",
     "text": [
      "Processed feature columns (48):-\n",
      "['school_GP', 'school_MS', 'sex_F', 'sex_M', 'age', 'address_R', 'address_U', 'famsize_GT3', 'famsize_LE3', 'Pstatus_A', 'Pstatus_T', 'Medu', 'Fedu', 'Mjob_at_home', 'Mjob_health', 'Mjob_other', 'Mjob_services', 'Mjob_teacher', 'Fjob_at_home', 'Fjob_health', 'Fjob_other', 'Fjob_services', 'Fjob_teacher', 'reason_course', 'reason_home', 'reason_other', 'reason_reputation', 'guardian_father', 'guardian_mother', 'guardian_other', 'traveltime', 'studytime', 'failures', 'schoolsup', 'famsup', 'paid', 'activities', 'nursery', 'higher', 'internet', 'romantic', 'famrel', 'freetime', 'goout', 'Dalc', 'Walc', 'health', 'absences']\n"
     ]
    }
   ],
   "source": [
    "# Preprocess feature columns\n",
    "def preprocess_features(X):\n",
    "    outX = pd.DataFrame(index=X.index)  # output dataframe, initially empty\n",
    "\n",
    "    # Check each column\n",
    "    for col, col_data in X.iteritems():\n",
    "        # If data type is non-numeric, try to replace all yes/no values with 1/0\n",
    "        if col_data.dtype == object:\n",
    "            col_data = col_data.replace(['yes', 'no'], [1, 0])\n",
    "        # Note: This should change the data type for yes/no columns to int\n",
    "\n",
    "        # If still non-numeric, convert to one or more dummy variables\n",
    "        if col_data.dtype == object:\n",
    "            col_data = pd.get_dummies(col_data, prefix=col)  # e.g. 'school' => 'school_GP', 'school_MS'\n",
    "\n",
    "        outX = outX.join(col_data)  # collect column(s) in output dataframe\n",
    "\n",
    "    return outX\n",
    "\n",
    "X_all = preprocess_features(X_all)\n",
    "#y_all = y_all.replace(['yes', 'no'], [1, 0]) #swap yes/no to a numeric\n",
    "print \"Processed feature columns ({}):-\\n{}\".format(len(X_all.columns), list(X_all.columns))"
   ]
  },
  {
   "cell_type": "markdown",
   "metadata": {},
   "source": [
    "### Split data into training and test sets\n",
    "\n",
    "So far, we have converted all _categorical_ features into numeric values. In this next step, we split the data (both features and corresponding labels) into training and test sets."
   ]
  },
  {
   "cell_type": "code",
   "execution_count": 48,
   "metadata": {
    "collapsed": false,
    "scrolled": true
   },
   "outputs": [
    {
     "name": "stdout",
     "output_type": "stream",
     "text": [
      "Training set: 300 samples\n",
      "Test set: 95 samples\n"
     ]
    }
   ],
   "source": [
    "# First, decide how many training vs test samples you want\n",
    "num_all = student_data.shape[0]  # same as len(student_data)\n",
    "num_train = 300  # about 75% of the data\n",
    "num_test = num_all - num_train\n",
    "\n",
    "# TODO: Then, select features (X) and corresponding labels (y) for the training and test sets\n",
    "# Note: Shuffle the data or randomly select samples to avoid any bias due to ordering in the dataset\n",
    "\n",
    "from sklearn.cross_validation import train_test_split\n",
    "X_train,X_test,y_train,y_test = train_test_split( X_all, y_all, test_size=num_test, random_state=40)\n",
    "\n",
    "print \"Training set: {} samples\".format(X_train.shape[0])\n",
    "print \"Test set: {} samples\".format(X_test.shape[0])\n",
    "# Note: If you need a validation set, extract it from within training data"
   ]
  },
  {
   "cell_type": "markdown",
   "metadata": {},
   "source": [
    "## 4. Training and Evaluating Models\n",
    "Choose 3 supervised learning models that are available in scikit-learn, and appropriate for this problem. For each model:\n",
    "\n",
    "- What is the theoretical O(n) time & space complexity in terms of input size?\n",
    "- What are the general applications of this model? What are its strengths and weaknesses?\n",
    "- Given what you know about the data so far, why did you choose this model to apply?\n",
    "- Fit this model to the training data, try to predict labels (for both training and test sets), and measure the F<sub>1</sub> score. Repeat this process with different training set sizes (100, 200, 300), keeping test set constant.\n",
    "\n",
    "Produce a table showing training time, prediction time, F<sub>1</sub> score on training set and F<sub>1</sub> score on test set, for each training set size.\n",
    "\n",
    "Note: You need to produce 3 such tables - one for each model.\n",
    "\n",
    "#### Experimentation showed three different models that may best classify the data: LogisticRegression, AdaBoost, and KNeighbors.\n",
    "\n",
    "####  Logistic Regression\n",
    " * Space& Complexity - LogisticRegression is fast to query(test/train Delta), and is an eager learner, implying a lower resource usage and quicker prediction times.\n",
    " \n",
    " * General Applications(strengths/weaknesses) - This model is used for binary classification type problems.It has many advantages, including speed, and it may be able to avoid overfitting in many cases. It does require more data to perform at it's best, as can be seen in the charts above. Additionally, the data should be linearly seperable.\n",
    " \n",
    " * Why this model? This model is a good fit due to it's classification capabilities and it's speed. Another advantage in this case is that it is possible to output a probability, to use, for instance, as a probability that a student is in need of intervention.\n",
    "\n",
    "#### AdaBoost \n",
    " * Space& Complexity - AdaBoost is a boost algorithim, and we can see that it has the longest training time in any of the candidates (by 2 order of magnitude), although prediction time is good. \n",
    " \n",
    " * General Applications(strengths/weaknesses) - AdaBoost is a powerful classifier that has the advantage of needing less configuration to acheive good results, as well as being good at avoiding overfitting due to the use of multiple weak learners. It is however more sensitive to noisy data, and has very high resource usage.\n",
    " \n",
    " * Why this model? This model may be a good fit to it's ability to acheive good results with little training, and the ability to avoid overfitting the data\n",
    "\n",
    "#### KNeighbors\n",
    "* Space& Complexity - KNeighbors is a lazy learner, and requires more memory resources, although training time is very fast. Prediction time(testDelta&trainDelta) are highest of the candidates. This model uses the neighbors with similar features features to predict the label.\n",
    "\n",
    "* General Applications(strengths/weaknesses) - KNeighbors ability as a binary classifier make it an appropriate candidate. It has the advantage of quick training, but is held back by slowed prediction time. It also has an advantage in that data may be added to the model easily as it is aquired. \n",
    "\n",
    "* Why this model? This model has the advantage of speedy training with good accuracy as a classifier, and would be well suited to an application that continuously adds data but has a reduced need for predictions."
   ]
  },
  {
   "cell_type": "code",
   "execution_count": 58,
   "metadata": {
    "collapsed": false,
    "scrolled": true
   },
   "outputs": [
    {
     "name": "stdout",
     "output_type": "stream",
     "text": [
      "Training GaussianNB...\n",
      "Done!\n",
      "Training time (secs): 0.002\n",
      "GaussianNB()\n"
     ]
    }
   ],
   "source": [
    "# Train a model\n",
    "import time\n",
    "\n",
    "def train_classifier(clf, X_train, y_train):\n",
    "    start = time.time()\n",
    "    clf.fit(X_train, y_train)\n",
    "    end = time.time()\n",
    "    return end - start\n",
    "    #print \"Done!\\nTraining time (secs): {:.3f}\".format(end - start)\n",
    "\n",
    "# TODO: Choose a model, import it and instantiate an object\n",
    "from sklearn.naive_bayes import GaussianNB\n",
    "clf = GaussianNB()\n",
    "\n",
    "# Fit model to training data\n",
    "print \"Training {}...\".format(clf.__class__.__name__)\n",
    "timeDelta=train_classifier(clf, X_train, y_train)  # note: using entire training set here\n",
    "print \"Done!\\nTraining time (secs): {:.3f}\".format(timeDelta)\n",
    "print clf  # you can inspect the learned model by printing it"
   ]
  },
  {
   "cell_type": "code",
   "execution_count": 59,
   "metadata": {
    "collapsed": false,
    "scrolled": true
   },
   "outputs": [
    {
     "name": "stdout",
     "output_type": "stream",
     "text": [
      "Predicting labels using GaussianNB...\n",
      "Done!\n",
      "Prediction time (secs): 0.000\n",
      "F1 score for training set: 0.777506112469\n"
     ]
    }
   ],
   "source": [
    "# Predict on training set and compute F1 score\n",
    "from sklearn.metrics import f1_score\n",
    "\n",
    "def predict_labels(clf, features, target):\n",
    "    #print \"Predicting labels using {}...\".format(clf.__class__.__name__)\n",
    "    start = time.time()\n",
    "    y_pred = clf.predict(features)\n",
    "    end = time.time()\n",
    "    #print \"Done!\\nPrediction time (secs): {:.3f}\".format(end - start)\n",
    "    return f1_score(target.values, y_pred, pos_label='yes'),end - start\n",
    "\n",
    "print \"Predicting labels using {}...\".format(clf.__class__.__name__)\n",
    "train_f1_score,timeDelta = predict_labels(clf, X_train, y_train)\n",
    "print \"Done!\\nPrediction time (secs): {:.3f}\".format(timeDelta)\n",
    "print \"F1 score for training set: {}\".format(train_f1_score)\n"
   ]
  },
  {
   "cell_type": "code",
   "execution_count": 60,
   "metadata": {
    "collapsed": false,
    "scrolled": true
   },
   "outputs": [
    {
     "name": "stdout",
     "output_type": "stream",
     "text": [
      "Predicting labels using GaussianNB...\n",
      "Done!\n",
      "Prediction time (secs): 0.001\n",
      "F1 score for test set: 0.777506112469\n"
     ]
    }
   ],
   "source": [
    "# Predict on test data\n",
    "\n",
    "print \"Predicting labels using {}...\".format(clf.__class__.__name__)\n",
    "test_f1_score,timeDelta = predict_labels(clf, X_train, y_train)\n",
    "print \"Done!\\nPrediction time (secs): {:.3f}\".format(timeDelta)\n",
    "print \"F1 score for test set: {}\".format(test_f1_score)"
   ]
  },
  {
   "cell_type": "code",
   "execution_count": 61,
   "metadata": {
    "collapsed": false,
    "scrolled": true
   },
   "outputs": [
    {
     "name": "stdout",
     "output_type": "stream",
     "text": [
      "------------------------------------------\n",
      "Training set size: 300, Train time (secs): 0.001\n",
      "F1 score for training set: 0.797101449275, Prediction time (secs): 0.001\n",
      "F1 score for test set: 0.777506112469, Prediction time (secs): 0.001\n"
     ]
    }
   ],
   "source": [
    "# Train and predict using different training set sizes\n",
    "def train_predict(clf, X_train, y_train, X_test, y_test):\n",
    "\n",
    "    timeTrain=train_classifier(clf, X_train, y_train)\n",
    "    predict_train,trainDelta=predict_labels(clf, X_train, y_train)\n",
    "    predict_test,testDelta=predict_labels(clf, X_test, y_test)\n",
    "    return predict_test,testDelta,predict_train,trainDelta,timeTrain # let's return the scores, so we can use them for comparisons\n",
    "\n",
    "# TODO: Run the helper function above for desired subsets of training data\n",
    "# Note: Keep the test set constant\n",
    "\n",
    "test,testDelta,train,trainDelta,timeTrain = train_predict(clf, X_train, y_train, X_test, y_test)\n",
    "print \"------------------------------------------\"\n",
    "print \"Training set size: {},\".format(len(X_train)),\"Train time (secs): {:.3f}\".format(timeTrain)\n",
    "print \"F1 score for training set: {},\".format(test),\"Prediction time (secs): {:.3f}\".format(testDelta)\n",
    "print \"F1 score for test set: {},\".format(train),\"Prediction time (secs): {:.3f}\".format(trainDelta)\n"
   ]
  },
  {
   "cell_type": "code",
   "execution_count": 62,
   "metadata": {
    "collapsed": false,
    "scrolled": true
   },
   "outputs": [
    {
     "name": "stdout",
     "output_type": "stream",
     "text": [
      "calculating the 100 set\n",
      "calculating the 200 set\n",
      "calculating the 300 set\n"
     ]
    }
   ],
   "source": [
    "# TODO: Train and predict using two other models\n",
    "from sklearn.tree import DecisionTreeClassifier\n",
    "from sklearn.neighbors import KNeighborsClassifier\n",
    "from sklearn.svm import SVC, LinearSVC\n",
    "from sklearn import linear_model, decomposition, datasets, ensemble\n",
    "from sklearn.naive_bayes import GaussianNB\n",
    "#from sklearn.neural_network import MLPClassifier # not in vesion .17\n",
    "\n",
    "def runCLF(X_train, y_train, X_test, y_test, runall=False):\n",
    "    scores={}\n",
    "\n",
    "    clf = KNeighborsClassifier(n_jobs =-1)\n",
    "    scores[clf.__class__.__name__]= train_predict(clf, X_train, y_train, X_test, y_test)\n",
    "\n",
    "    clf=linear_model.LogisticRegression(n_jobs =-1)\n",
    "    scores[clf.__class__.__name__]= train_predict(clf, X_train, y_train, X_test, y_test)\n",
    "\n",
    "    clf = ensemble.AdaBoostClassifier()\n",
    "    scores[clf.__class__.__name__+\"-plain\"]= train_predict(clf, X_train, y_train, X_test, y_test)\n",
    "    \n",
    "    # for testing purposes, some other possible classifiers\n",
    "    if runall == True:    \n",
    "        clf = ensemble.AdaBoostClassifier(GaussianNB())\n",
    "        scores[clf.__class__.__name__+\"-GNB\"]= train_predict(clf, X_train, y_train, X_test, y_test)\n",
    "\n",
    "        clf = ensemble.AdaBoostClassifier(DecisionTreeClassifier(max_depth=2,class_weight =\"balanced\"))\n",
    "        scores[clf.__class__.__name__+\"-DCT\"]= train_predict(clf, X_train, y_train, X_test, y_test)\n",
    "\n",
    "        clf = ensemble.RandomForestClassifier(n_jobs =-1,class_weight=\"balanced\")\n",
    "        scores[clf.__class__.__name__]= train_predict(clf, X_train, y_train, X_test, y_test)\n",
    "\n",
    "        clf = DecisionTreeClassifier(class_weight =\"balanced\")\n",
    "        scores[clf.__class__.__name__]= train_predict(clf, X_train, y_train, X_test, y_test)\n",
    "\n",
    "        clf=LinearSVC(class_weight=\"balanced\")\n",
    "        scores[clf.__class__.__name__]= train_predict(clf, X_train, y_train, X_test, y_test)\n",
    "\n",
    "        clf=SVC(class_weight='balanced')\n",
    "        scores[clf.__class__.__name__]= train_predict(clf, X_train, y_train, X_test, y_test)\n",
    "\n",
    "    scoresDF= pd.DataFrame(scores,index=['testF1','testDelta','trainF1','trainDelta','timeToTrain']).T\n",
    "    return scoresDF.sort_values('testF1',ascending=False)\n",
    "\n",
    " \n",
    "runs = 3\n",
    "holdData=[]\n",
    "for r in range(runs) :\n",
    "    runNum=(r+1)*100\n",
    "    print \"calculating the\" ,runNum,\"set\"\n",
    "    holdData.append([runNum,runCLF(X_train[:runNum], y_train[:runNum], X_test, y_test, runall=False)])\n",
    "   \n"
   ]
  },
  {
   "cell_type": "code",
   "execution_count": 96,
   "metadata": {
    "collapsed": false,
    "scrolled": false
   },
   "outputs": [
    {
     "name": "stdout",
     "output_type": "stream",
     "text": [
      "\n",
      "training data size: 100\n"
     ]
    },
    {
     "data": {
      "text/html": [
       "<div>\n",
       "<table border=\"1\" class=\"dataframe\">\n",
       "  <thead>\n",
       "    <tr style=\"text-align: right;\">\n",
       "      <th></th>\n",
       "      <th>testF1</th>\n",
       "      <th>testDelta</th>\n",
       "      <th>trainF1</th>\n",
       "      <th>trainDelta</th>\n",
       "      <th>timeToTrain</th>\n",
       "    </tr>\n",
       "  </thead>\n",
       "  <tbody>\n",
       "    <tr>\n",
       "      <th>LogisticRegression</th>\n",
       "      <td>0.771429</td>\n",
       "      <td>0.000</td>\n",
       "      <td>0.885906</td>\n",
       "      <td>0.000</td>\n",
       "      <td>0.003</td>\n",
       "    </tr>\n",
       "    <tr>\n",
       "      <th>KNeighborsClassifier</th>\n",
       "      <td>0.741259</td>\n",
       "      <td>0.126</td>\n",
       "      <td>0.847682</td>\n",
       "      <td>0.118</td>\n",
       "      <td>0.000</td>\n",
       "    </tr>\n",
       "    <tr>\n",
       "      <th>AdaBoostClassifier-plain</th>\n",
       "      <td>0.725926</td>\n",
       "      <td>0.005</td>\n",
       "      <td>0.992806</td>\n",
       "      <td>0.006</td>\n",
       "      <td>0.098</td>\n",
       "    </tr>\n",
       "  </tbody>\n",
       "</table>\n",
       "</div>"
      ],
      "text/plain": [
       "                            testF1  testDelta   trainF1  trainDelta  \\\n",
       "LogisticRegression        0.771429      0.000  0.885906       0.000   \n",
       "KNeighborsClassifier      0.741259      0.126  0.847682       0.118   \n",
       "AdaBoostClassifier-plain  0.725926      0.005  0.992806       0.006   \n",
       "\n",
       "                          timeToTrain  \n",
       "LogisticRegression              0.003  \n",
       "KNeighborsClassifier            0.000  \n",
       "AdaBoostClassifier-plain        0.098  "
      ]
     },
     "metadata": {},
     "output_type": "display_data"
    },
    {
     "name": "stdout",
     "output_type": "stream",
     "text": [
      "\n",
      "training data size: 200\n"
     ]
    },
    {
     "data": {
      "text/html": [
       "<div>\n",
       "<table border=\"1\" class=\"dataframe\">\n",
       "  <thead>\n",
       "    <tr style=\"text-align: right;\">\n",
       "      <th></th>\n",
       "      <th>testF1</th>\n",
       "      <th>testDelta</th>\n",
       "      <th>trainF1</th>\n",
       "      <th>trainDelta</th>\n",
       "      <th>timeToTrain</th>\n",
       "    </tr>\n",
       "  </thead>\n",
       "  <tbody>\n",
       "    <tr>\n",
       "      <th>LogisticRegression</th>\n",
       "      <td>0.841379</td>\n",
       "      <td>0.001</td>\n",
       "      <td>0.825503</td>\n",
       "      <td>0.001</td>\n",
       "      <td>0.006</td>\n",
       "    </tr>\n",
       "    <tr>\n",
       "      <th>AdaBoostClassifier-plain</th>\n",
       "      <td>0.833333</td>\n",
       "      <td>0.005</td>\n",
       "      <td>0.868966</td>\n",
       "      <td>0.006</td>\n",
       "      <td>0.106</td>\n",
       "    </tr>\n",
       "    <tr>\n",
       "      <th>KNeighborsClassifier</th>\n",
       "      <td>0.744828</td>\n",
       "      <td>0.119</td>\n",
       "      <td>0.821053</td>\n",
       "      <td>0.119</td>\n",
       "      <td>0.001</td>\n",
       "    </tr>\n",
       "  </tbody>\n",
       "</table>\n",
       "</div>"
      ],
      "text/plain": [
       "                            testF1  testDelta   trainF1  trainDelta  \\\n",
       "LogisticRegression        0.841379      0.001  0.825503       0.001   \n",
       "AdaBoostClassifier-plain  0.833333      0.005  0.868966       0.006   \n",
       "KNeighborsClassifier      0.744828      0.119  0.821053       0.119   \n",
       "\n",
       "                          timeToTrain  \n",
       "LogisticRegression              0.006  \n",
       "AdaBoostClassifier-plain        0.106  \n",
       "KNeighborsClassifier            0.001  "
      ]
     },
     "metadata": {},
     "output_type": "display_data"
    },
    {
     "name": "stdout",
     "output_type": "stream",
     "text": [
      "\n",
      "training data size: 300\n"
     ]
    },
    {
     "data": {
      "text/html": [
       "<div>\n",
       "<table border=\"1\" class=\"dataframe\">\n",
       "  <thead>\n",
       "    <tr style=\"text-align: right;\">\n",
       "      <th></th>\n",
       "      <th>testF1</th>\n",
       "      <th>testDelta</th>\n",
       "      <th>trainF1</th>\n",
       "      <th>trainDelta</th>\n",
       "      <th>timeToTrain</th>\n",
       "    </tr>\n",
       "  </thead>\n",
       "  <tbody>\n",
       "    <tr>\n",
       "      <th>AdaBoostClassifier-plain</th>\n",
       "      <td>0.823529</td>\n",
       "      <td>0.005</td>\n",
       "      <td>0.860520</td>\n",
       "      <td>0.006</td>\n",
       "      <td>0.102</td>\n",
       "    </tr>\n",
       "    <tr>\n",
       "      <th>LogisticRegression</th>\n",
       "      <td>0.816901</td>\n",
       "      <td>0.000</td>\n",
       "      <td>0.822727</td>\n",
       "      <td>0.000</td>\n",
       "      <td>0.003</td>\n",
       "    </tr>\n",
       "    <tr>\n",
       "      <th>KNeighborsClassifier</th>\n",
       "      <td>0.783784</td>\n",
       "      <td>0.117</td>\n",
       "      <td>0.850467</td>\n",
       "      <td>0.121</td>\n",
       "      <td>0.003</td>\n",
       "    </tr>\n",
       "  </tbody>\n",
       "</table>\n",
       "</div>"
      ],
      "text/plain": [
       "                            testF1  testDelta   trainF1  trainDelta  \\\n",
       "AdaBoostClassifier-plain  0.823529      0.005  0.860520       0.006   \n",
       "LogisticRegression        0.816901      0.000  0.822727       0.000   \n",
       "KNeighborsClassifier      0.783784      0.117  0.850467       0.121   \n",
       "\n",
       "                          timeToTrain  \n",
       "AdaBoostClassifier-plain        0.102  \n",
       "LogisticRegression              0.003  \n",
       "KNeighborsClassifier            0.003  "
      ]
     },
     "metadata": {},
     "output_type": "display_data"
    },
    {
     "data": {
      "image/png": "[encoded data removed]",
      "text/plain": [
       "<matplotlib.figure.Figure at 0x20f84f98>"
      ]
     },
     "metadata": {},
     "output_type": "display_data"
    }
   ],
   "source": [
    "fig, axes = plt.subplots(nrows=3, ncols=1)\n",
    "i=0\n",
    "leg=True\n",
    "for h in holdData:\n",
    "    print \"\\ntraining data size:\",h[0]\n",
    "    display( h[1][['testF1','testDelta','trainF1','trainDelta','timeToTrain']][:3])\n",
    "    h[1][['testF1','testDelta','trainF1','trainDelta','timeToTrain']][:3].plot(\n",
    "                                                                            kind='barh',\n",
    "                                                                            ax=axes[i],\n",
    "                                                                            legend=leg,\n",
    "                                                                            figsize=(10,10),\n",
    "                                                                            title=\"\\ntraining data size:\"+str(h[0]))\n",
    "    leg=False\n",
    "    i+=1\n",
    "    \n",
    "fig.suptitle('Top 3 classifiers, per run', fontsize=18, y=1.03)\n",
    "#fig.figsize=(10,8)\n",
    "fig.show()"
   ]
  },
  {
   "cell_type": "markdown",
   "metadata": {},
   "source": [
    "## 5. Choosing the Best Model\n",
    "\n",
    "- Based on the experiments you performed earlier, in 1-2 paragraphs explain to the board of supervisors what single model you chose as the best model. Which model is generally the most appropriate based on the available data, limited resources, cost, and performance?\n",
    "- In 1-2 paragraphs explain to the board of supervisors in layman's terms how the final model chosen is supposed to work (for example if you chose a Decision Tree or Support Vector Machine, how does it make a prediction).\n",
    "- Fine-tune the model. Use Gridsearch with at least one important parameter tuned and with at least 3 settings. Use the entire training set for this.\n",
    "- What is the model's final F<sub>1</sub> score?"
   ]
  },
  {
   "cell_type": "markdown",
   "metadata": {},
   "source": [
    "We have selected Logistic Regression as our initial classifier due to it's speed and low resource usage. As more data is added to the model, we should continue to expect lower resource usage and prediction speed. We also have the possibility to express prediction about students as a probability of the need for intervention. As compared to the other tested classifiers, we may see that time taken for prediction is very significantly lower than KNeighbors, and it's training time (as well as prediction time) is significantly lower than AdaBoost. While these may have been a good reason to choose the model, it also happens that it has performed within a few percentage points of a tuned AdaBoost, and better than a tuned Kneighbors. \n",
    "\n",
    "Logistic Regression works by coming up with a probability function based on the training data that can give us the chance that an input may belong to one of the classes. It works out the function by fitting the data to an s-shaped(sigmoid) distribution, based on the frequency within the data. A prediction is made by using this function to output a position within the distribution, giving us a probability that the input is in the class or not.\n",
    "\n",
    "After tuning the model below we see a final score of F1 score: 0.0.83870. "
   ]
  },
  {
   "cell_type": "code",
   "execution_count": 91,
   "metadata": {
    "collapsed": false,
    "scrolled": true
   },
   "outputs": [],
   "source": [
    "# TODO: Fine-tune your model and report the best F1 score\n",
    "\n",
    "from sklearn.grid_search import GridSearchCV\n",
    "from sklearn.metrics import make_scorer, f1_score\n",
    "from sklearn.cross_validation import StratifiedShuffleSplit\n",
    "\n",
    "def modelTune(clf, params, X, y):\n",
    "    #Fine tune model with grid search\n",
    "    grid_search = GridSearchCV(clf, \n",
    "                               param_grid=params, \n",
    "                               cv=StratifiedShuffleSplit(y,n_iter=50, random_state=42), \n",
    "                               n_jobs= 5, # num CPU*2+1 is a good guide, and should allow good CPU utilization.\n",
    "                               scoring=make_scorer(f1_score, \n",
    "                                                   pos_label=\"yes\",\n",
    "                                                   greater_is_better=True)) \n",
    "\n",
    "    grid_search.fit(X, y)\n",
    "\n",
    "    #reach into the grid search and pull out the best parameters, and set those on clf. probably not necesary, but easier to deal with\n",
    "    bestGridParams={}\n",
    "    for bp in grid_search.best_params_:\n",
    "        bestGridParams[bp]=grid_search.best_params_[bp]\n",
    "    clf.set_params(**bestGridParams)\n",
    "    return clf\n",
    "\n",
    "    # Check out each parameter combination and it's score:\n",
    "    #for gs in grid_search.grid_scores_:\n",
    "    #    print gs\n"
   ]
  },
  {
   "cell_type": "code",
   "execution_count": 92,
   "metadata": {
    "collapsed": false,
    "scrolled": true
   },
   "outputs": [
    {
     "name": "stdout",
     "output_type": "stream",
     "text": [
      "best classifier was:\n",
      "\n",
      "Original clf:\n",
      "LogisticRegression(C=1.0, class_weight=None, dual=False, fit_intercept=True,\n",
      "          intercept_scaling=1, max_iter=100, multi_class='ovr', n_jobs=-1,\n",
      "          penalty='l2', random_state=None, solver='liblinear', tol=0.0001,\n",
      "          verbose=0, warm_start=False)\n",
      "GridSearch best clf:\n",
      "LogisticRegression(C=0.08, class_weight=None, dual=False, fit_intercept=True,\n",
      "          intercept_scaling=1, max_iter=100, multi_class='ovr', n_jobs=-1,\n",
      "          penalty='l1', random_state=None, solver='liblinear', tol=1e-05,\n",
      "          verbose=0, warm_start=False)\n",
      "------------------------------------------\n",
      "\n",
      "Final clf_GS, F1 score: 0.838709677419  def F1: 0.816901408451 \n",
      "\n"
     ]
    }
   ],
   "source": [
    "\n",
    "print \"best classifier was:\"\n",
    "clf=linear_model.LogisticRegression(n_jobs =-1)\n",
    "\n",
    "params={'C' : [8,1.,.8,.08,.008],\n",
    "        'fit_intercept' : [True, False],\n",
    "        'class_weight': [ None,'balanced'],\n",
    "        #'random_state' : [None,42],\n",
    "        #'solver' : ['newton-cg', 'lbfgs', 'liblinear'],#, 'sag'],\n",
    "        'tol': [0.00001,0.0001,.001],\n",
    "        'penalty': ['l1', 'l2']\n",
    "       }\n",
    "print \"\\nOriginal clf:\\n\",clf #compare after gridsearch\n",
    "test_def,testDelta_def,train_def,trainDelta_def,timeTrainf_def=train_predict(clf, X_train, y_train, X_test, y_test)\n",
    "\n",
    "clf_tuned=modelTune(clf, params,X_train,y_train)\n",
    "test_GS,testDelta_GS,train_GS,trainDelta_GS,timeTrainf_GS=train_predict(clf_tuned, X_train, y_train, X_test, y_test)\n",
    "\n",
    "print \"GridSearch best clf:\\n\",clf_tuned \n",
    "\n",
    "# the dataset is small gridsearch may not provide a better set of parameters than the default\n",
    "# We'll check for that situation and return the best options F1 score for the full data set\n",
    "print \"------------------------------------------\"\n",
    "if test_GS >test_def: \n",
    "    print \"\\nFinal clf_GS, F1 score:\",test_GS,\" def F1:\",test_def,\"\\n\" #after gridseach\n",
    "\n",
    "else:\n",
    "    print \"\\nFinal clf_def, F1 score:\",test_def,\" GS F1:\",test_GS,\"\\n\" #after gridseach"
   ]
  },
  {
   "cell_type": "code",
   "execution_count": 94,
   "metadata": {
    "collapsed": false,
    "scrolled": true
   },
   "outputs": [
    {
     "name": "stdout",
     "output_type": "stream",
     "text": [
      "next best: AdaBoostClassifier\n",
      "AdaBoostClassifier(algorithm='SAMME.R', base_estimator=None,\n",
      "          learning_rate=1.0, n_estimators=50, random_state=None)\n",
      "GridSearch best clf:\n",
      "AdaBoostClassifier(algorithm='SAMME.R', base_estimator=None,\n",
      "          learning_rate=0.8, n_estimators=13, random_state=None)\n",
      "------------------------------------------\n",
      "\n",
      "Final clf_GS, F1 score: 0.830985915493  def F1: 0.823529411765 \n",
      "\n"
     ]
    }
   ],
   "source": [
    "clf=ensemble.AdaBoostClassifier()\n",
    "params={'n_estimators' : [13,25,50,60], \n",
    "        'learning_rate' :[.8,.96,1,1.4]\n",
    "       }\n",
    "print \"next best: AdaBoostClassifier\\n\",clf\n",
    "test_def,testDelta_def,train_def,trainDelta_def,timeTrainf_def=train_predict(clf, X_train, y_train, X_test, y_test)\n",
    "\n",
    "clf_tuned=modelTune(clf, params,X_train,y_train)\n",
    "test_GS,testDelta_GS,train_GS,trainDelta_GS,timeTrainf_GS=train_predict(clf_tuned, X_train, y_train, X_test, y_test)\n",
    "\n",
    "print \"GridSearch best clf:\\n\",clf_tuned \n",
    "\n",
    "# the dataset is small gridsearch may not provide a better set of parameters than the default\n",
    "# We'll check for that situation and return the best options F1 score for the full data set\n",
    "print \"------------------------------------------\"\n",
    "if test_GS >test_def: \n",
    "    print \"\\nFinal clf_GS, F1 score:\",test_GS,\" def F1:\",test_def,\"\\n\" #after gridseach\n",
    "\n",
    "else:\n",
    "    print \"\\nFinal clf_def, F1 score:\",test_def,\" GS F1:\",test_GS,\"\\n\" #after gridseach"
   ]
  },
  {
   "cell_type": "code",
   "execution_count": 89,
   "metadata": {
    "collapsed": false,
    "scrolled": true
   },
   "outputs": [
    {
     "name": "stdout",
     "output_type": "stream",
     "text": [
      "next best: KNeighborsClassifier\n",
      "KNeighborsClassifier(algorithm='auto', leaf_size=30, metric='minkowski',\n",
      "           metric_params=None, n_jobs=-1, n_neighbors=5, p=2,\n",
      "           weights='uniform')\n",
      "GridSearch best clf:\n",
      "KNeighborsClassifier(algorithm='auto', leaf_size=15, metric='minkowski',\n",
      "           metric_params=None, n_jobs=-1, n_neighbors=37, p=1,\n",
      "           weights='uniform')\n",
      "------------------------------------------\n",
      "\n",
      "Final clf_GS, F1 score: 0.825  def F1: 0.783783783784 \n",
      "\n"
     ]
    }
   ],
   "source": [
    "clf=KNeighborsClassifier(n_jobs =-1)\n",
    "params={'leaf_size' : [7,15,22,30,60], \n",
    "        'n_neighbors' : [5,15,25,37,45], \n",
    "        #'weights':['uniform','distance'], \n",
    "        'p':[1,2]\n",
    "       }\n",
    "print \"next best: KNeighborsClassifier\\n\",clf\n",
    "test_def,testDelta_def,train_def,trainDelta_def,timeTrainf_def=train_predict(clf, X_train, y_train, X_test, y_test)\n",
    "\n",
    "clf_tuned=modelTune(clf, params,X_train,y_train)\n",
    "test_GS,testDelta_GS,train_GS,trainDelta_GS,timeTrainf_GS=train_predict(clf_tuned, X_train, y_train, X_test, y_test)\n",
    "\n",
    "print \"GridSearch best clf:\\n\",clf_tuned \n",
    "\n",
    "# the dataset is small gridsearch may not provide a better set of parameters than the default\n",
    "# We'll check for that situation and return the best options F1 score for the full data set\n",
    "print \"------------------------------------------\"\n",
    "if test_GS >test_def: \n",
    "    print \"\\nFinal clf_GS, F1 score:\",test_GS,\" def F1:\",test_def,\"\\n\" #after gridseach\n",
    "\n",
    "else:\n",
    "    print \"\\nFinal clf_def, F1 score:\",test_def,\" GS F1:\",test_GS,\"\\n\" #after gridseach"
   ]
  },
  {
   "cell_type": "markdown",
   "metadata": {},
   "source": [
    "#EOF"
   ]
  }
 ],
 "metadata": {
  "kernelspec": {
   "display_name": "Python 2",
   "language": "python",
   "name": "python2"
  },
  "language_info": {
   "codemirror_mode": {
    "name": "ipython",
    "version": 2
   },
   "file_extension": ".py",
   "mimetype": "text/x-python",
   "name": "python",
   "nbconvert_exporter": "python",
   "pygments_lexer": "ipython2",
   "version": "2.7.11"
  }
 },
 "nbformat": 4,
 "nbformat_minor": 0
}
