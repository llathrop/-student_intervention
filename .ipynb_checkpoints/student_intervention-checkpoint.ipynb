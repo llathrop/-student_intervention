{
 "cells": [
  {
   "cell_type": "markdown",
   "metadata": {},
   "source": [
    "# Project 2: Supervised Learning\n",
    "### Building a Student Intervention System"
   ]
  },
  {
   "cell_type": "markdown",
   "metadata": {},
   "source": [
    "## 1. Classification vs Regression\n",
    "\n",
    "*Your goal is to identify students who might need early intervention - which type of supervised machine learning problem is this, classification or regression? Why?*\n",
    "\n",
    "This problem is best suited for Classificaton. This is due to the nature of the output, where we require a determination of the student as \"need early intervention\", or not."
   ]
  },
  {
   "cell_type": "markdown",
   "metadata": {},
   "source": [
    "## 2. Exploring the Data\n",
    "\n",
    "Let's go ahead and read in the student dataset first.\n",
    "\n",
    "_To execute a code cell, click inside it and press **Shift+Enter**._"
   ]
  },
  {
   "cell_type": "code",
   "execution_count": 393,
   "metadata": {
    "collapsed": false,
    "scrolled": true
   },
   "outputs": [],
   "source": [
    "# Import libraries\n",
    "import numpy as np\n",
    "import pandas as pd\n",
    "\n",
    "from matplotlib import pyplot as plt\n",
    "from matplotlib.colors import ListedColormap\n",
    "%matplotlib inline  \n"
   ]
  },
  {
   "cell_type": "code",
   "execution_count": 394,
   "metadata": {
    "collapsed": false,
    "scrolled": true
   },
   "outputs": [
    {
     "name": "stdout",
     "output_type": "stream",
     "text": [
      "Student data read successfully!\n"
     ]
    }
   ],
   "source": [
    "# Read student data\n",
    "student_data = pd.read_csv(\"student-data.csv\")\n",
    "print \"Student data read successfully!\"\n",
    "# Note: The last column 'passed' is the target/label, all other are feature columns\n"
   ]
  },
  {
   "cell_type": "markdown",
   "metadata": {},
   "source": [
    "Now, can you find out the following facts about the dataset?\n",
    "- Total number of students\n",
    "- Number of students who passed\n",
    "- Number of students who failed\n",
    "- Graduation rate of the class (%)\n",
    "- Number of features\n",
    "\n",
    "_Use the code block below to compute these values. Instructions/steps are marked using **TODO**s._"
   ]
  },
  {
   "cell_type": "code",
   "execution_count": 395,
   "metadata": {
    "collapsed": false,
    "scrolled": true
   },
   "outputs": [
    {
     "name": "stdout",
     "output_type": "stream",
     "text": [
      "Total number of students: 395\n",
      "Number of students who passed: 265\n",
      "Number of students who failed: 130\n",
      "Number of features: 31\n",
      "Graduation rate of the class: 0.67%\n"
     ]
    }
   ],
   "source": [
    "# TODO: Compute desired values - replace each '?' with an appropriate expression/function call\n",
    "n_students =student_data.shape[0]\n",
    "n_features = student_data.shape[1]\n",
    "n_passed = student_data[student_data['passed']=='yes'].shape[0]\n",
    "n_failed = student_data[student_data['passed']=='no'].shape[0]\n",
    "grad_rate = n_passed/float(n_students)\n",
    "print \"Total number of students: {}\".format(n_students)\n",
    "print \"Number of students who passed: {}\".format(n_passed)\n",
    "print \"Number of students who failed: {}\".format(n_failed)\n",
    "print \"Number of features: {}\".format(n_features)\n",
    "print \"Graduation rate of the class: {:.2f}%\".format(grad_rate)"
   ]
  },
  {
   "cell_type": "markdown",
   "metadata": {},
   "source": [
    "## 3. Preparing the Data\n",
    "In this section, we will prepare the data for modeling, training and testing.\n",
    "\n",
    "### Identify feature and target columns\n",
    "It is often the case that the data you obtain contains non-numeric features. This can be a problem, as most machine learning algorithms expect numeric data to perform computations with.\n",
    "\n",
    "Let's first separate our data into feature and target columns, and see if any features are non-numeric.<br/>\n",
    "**Note**: For this dataset, the last column (`'passed'`) is the target or label we are trying to predict."
   ]
  },
  {
   "cell_type": "code",
   "execution_count": 397,
   "metadata": {
    "collapsed": false,
    "scrolled": true
   },
   "outputs": [
    {
     "name": "stdout",
     "output_type": "stream",
     "text": [
      "Feature column(s):-\n",
      "['school', 'sex', 'age', 'address', 'famsize', 'Pstatus', 'Medu', 'Fedu', 'Mjob', 'Fjob', 'reason', 'guardian', 'traveltime', 'studytime', 'failures', 'schoolsup', 'famsup', 'paid', 'activities', 'nursery', 'higher', 'internet', 'romantic', 'famrel', 'freetime', 'goout', 'Dalc', 'Walc', 'health', 'absences']\n",
      "Target column: passed\n",
      "\n",
      "Feature values:-\n",
      "  school sex  age address famsize Pstatus  Medu  Fedu     Mjob      Fjob  \\\n",
      "0     GP   F   18       U     GT3       A     4     4  at_home   teacher   \n",
      "1     GP   F   17       U     GT3       T     1     1  at_home     other   \n",
      "2     GP   F   15       U     LE3       T     1     1  at_home     other   \n",
      "3     GP   F   15       U     GT3       T     4     2   health  services   \n",
      "4     GP   F   16       U     GT3       T     3     3    other     other   \n",
      "\n",
      "    ...    higher internet  romantic  famrel  freetime goout Dalc Walc health  \\\n",
      "0   ...       yes       no        no       4         3     4    1    1      3   \n",
      "1   ...       yes      yes        no       5         3     3    1    1      3   \n",
      "2   ...       yes      yes        no       4         3     2    2    3      3   \n",
      "3   ...       yes      yes       yes       3         2     2    1    1      5   \n",
      "4   ...       yes       no        no       4         3     2    1    2      5   \n",
      "\n",
      "  absences  \n",
      "0        6  \n",
      "1        4  \n",
      "2       10  \n",
      "3        2  \n",
      "4        4  \n",
      "\n",
      "[5 rows x 30 columns]\n"
     ]
    }
   ],
   "source": [
    "# Extract feature (X) and target (y) columns\n",
    "feature_cols = list(student_data.columns[:-1])  # all columns but last are features\n",
    "target_col = student_data.columns[-1]  # last column is the target/label\n",
    "print \"Feature column(s):-\\n{}\".format(feature_cols)\n",
    "print \"Target column: {}\".format(target_col)\n",
    "\n",
    "X_all = student_data[feature_cols]  # feature values for all students\n",
    "y_all = student_data[target_col]  # corresponding targets/labels\n",
    "print \"\\nFeature values:-\"\n",
    "print X_all.head()  # print the first 5 rows"
   ]
  },
  {
   "cell_type": "markdown",
   "metadata": {},
   "source": [
    "### Preprocess feature columns\n",
    "\n",
    "As you can see, there are several non-numeric columns that need to be converted! Many of them are simply `yes`/`no`, e.g. `internet`. These can be reasonably converted into `1`/`0` (binary) values.\n",
    "\n",
    "Other columns, like `Mjob` and `Fjob`, have more than two values, and are known as _categorical variables_. The recommended way to handle such a column is to create as many columns as possible values (e.g. `Fjob_teacher`, `Fjob_other`, `Fjob_services`, etc.), and assign a `1` to one of them and `0` to all others.\n",
    "\n",
    "These generated columns are sometimes called _dummy variables_, and we will use the [`pandas.get_dummies()`](http://pandas.pydata.org/pandas-docs/stable/generated/pandas.get_dummies.html?highlight=get_dummies#pandas.get_dummies) function to perform this transformation."
   ]
  },
  {
   "cell_type": "code",
   "execution_count": 399,
   "metadata": {
    "collapsed": false,
    "scrolled": true
   },
   "outputs": [
    {
     "name": "stdout",
     "output_type": "stream",
     "text": [
      "Processed feature columns (48):-\n",
      "['school_GP', 'school_MS', 'sex_F', 'sex_M', 'age', 'address_R', 'address_U', 'famsize_GT3', 'famsize_LE3', 'Pstatus_A', 'Pstatus_T', 'Medu', 'Fedu', 'Mjob_at_home', 'Mjob_health', 'Mjob_other', 'Mjob_services', 'Mjob_teacher', 'Fjob_at_home', 'Fjob_health', 'Fjob_other', 'Fjob_services', 'Fjob_teacher', 'reason_course', 'reason_home', 'reason_other', 'reason_reputation', 'guardian_father', 'guardian_mother', 'guardian_other', 'traveltime', 'studytime', 'failures', 'schoolsup', 'famsup', 'paid', 'activities', 'nursery', 'higher', 'internet', 'romantic', 'famrel', 'freetime', 'goout', 'Dalc', 'Walc', 'health', 'absences']\n"
     ]
    }
   ],
   "source": [
    "# Preprocess feature columns\n",
    "def preprocess_features(X):\n",
    "    outX = pd.DataFrame(index=X.index)  # output dataframe, initially empty\n",
    "\n",
    "    # Check each column\n",
    "    for col, col_data in X.iteritems():\n",
    "        # If data type is non-numeric, try to replace all yes/no values with 1/0\n",
    "        if col_data.dtype == object:\n",
    "            col_data = col_data.replace(['yes', 'no'], [1, 0])\n",
    "        # Note: This should change the data type for yes/no columns to int\n",
    "\n",
    "        # If still non-numeric, convert to one or more dummy variables\n",
    "        if col_data.dtype == object:\n",
    "            col_data = pd.get_dummies(col_data, prefix=col)  # e.g. 'school' => 'school_GP', 'school_MS'\n",
    "\n",
    "        outX = outX.join(col_data)  # collect column(s) in output dataframe\n",
    "\n",
    "    return outX\n",
    "\n",
    "X_all = preprocess_features(X_all)\n",
    "#y_all = y_all.replace(['yes', 'no'], [1, 0]) #swap yes/no to a numeric\n",
    "print \"Processed feature columns ({}):-\\n{}\".format(len(X_all.columns), list(X_all.columns))"
   ]
  },
  {
   "cell_type": "markdown",
   "metadata": {},
   "source": [
    "### Split data into training and test sets\n",
    "\n",
    "So far, we have converted all _categorical_ features into numeric values. In this next step, we split the data (both features and corresponding labels) into training and test sets."
   ]
  },
  {
   "cell_type": "code",
   "execution_count": 400,
   "metadata": {
    "collapsed": false,
    "scrolled": true
   },
   "outputs": [
    {
     "name": "stdout",
     "output_type": "stream",
     "text": [
      "Training set: 300 samples\n",
      "Test set: 95 samples\n"
     ]
    }
   ],
   "source": [
    "# First, decide how many training vs test samples you want\n",
    "num_all = student_data.shape[0]  # same as len(student_data)\n",
    "num_train = 300  # about 75% of the data\n",
    "num_test = num_all - num_train\n",
    "\n",
    "# TODO: Then, select features (X) and corresponding labels (y) for the training and test sets\n",
    "# Note: Shuffle the data or randomly select samples to avoid any bias due to ordering in the dataset\n",
    "\n",
    "from sklearn.cross_validation import train_test_split\n",
    "X_train,X_test,y_train,y_test = train_test_split( X_all, y_all, test_size=num_test, random_state=42)\n",
    "\n",
    "print \"Training set: {} samples\".format(X_train.shape[0])\n",
    "print \"Test set: {} samples\".format(X_test.shape[0])\n",
    "# Note: If you need a validation set, extract it from within training data"
   ]
  },
  {
   "cell_type": "markdown",
   "metadata": {},
   "source": [
    "## 4. Training and Evaluating Models\n",
    "Choose 3 supervised learning models that are available in scikit-learn, and appropriate for this problem. For each model:\n",
    "\n",
    "- What is the theoretical O(n) time & space complexity in terms of input size?\n",
    "- What are the general applications of this model? What are its strengths and weaknesses?\n",
    "- Given what you know about the data so far, why did you choose this model to apply?\n",
    "- Fit this model to the training data, try to predict labels (for both training and test sets), and measure the F<sub>1</sub> score. Repeat this process with different training set sizes (100, 200, 300), keeping test set constant.\n",
    "\n",
    "Produce a table showing training time, prediction time, F<sub>1</sub> score on training set and F<sub>1</sub> score on test set, for each training set size.\n",
    "\n",
    "Note: You need to produce 3 such tables - one for each model."
   ]
  },
  {
   "cell_type": "code",
   "execution_count": 401,
   "metadata": {
    "collapsed": false,
    "scrolled": true
   },
   "outputs": [
    {
     "name": "stdout",
     "output_type": "stream",
     "text": [
      "Training GaussianNB...\n",
      "Done!\n",
      "Training time (secs): 0.001\n",
      "GaussianNB()\n"
     ]
    }
   ],
   "source": [
    "# Train a model\n",
    "import time\n",
    "\n",
    "def train_classifier(clf, X_train, y_train):\n",
    "    start = time.time()\n",
    "    clf.fit(X_train, y_train)\n",
    "    end = time.time()\n",
    "    return end - start\n",
    "    #print \"Done!\\nTraining time (secs): {:.3f}\".format(end - start)\n",
    "\n",
    "# TODO: Choose a model, import it and instantiate an object\n",
    "from sklearn.naive_bayes import GaussianNB\n",
    "clf = GaussianNB()\n",
    "\n",
    "# Fit model to training data\n",
    "print \"Training {}...\".format(clf.__class__.__name__)\n",
    "timeDelta=train_classifier(clf, X_train, y_train)  # note: using entire training set here\n",
    "print \"Done!\\nTraining time (secs): {:.3f}\".format(timeDelta)\n",
    "print clf  # you can inspect the learned model by printing it"
   ]
  },
  {
   "cell_type": "code",
   "execution_count": 402,
   "metadata": {
    "collapsed": false,
    "scrolled": true
   },
   "outputs": [
    {
     "name": "stdout",
     "output_type": "stream",
     "text": [
      "Predicting labels using GaussianNB...\n",
      "Done!\n",
      "Prediction time (secs): 0.002\n",
      "F1 score for training set: 0.80378250591\n"
     ]
    }
   ],
   "source": [
    "# Predict on training set and compute F1 score\n",
    "from sklearn.metrics import f1_score\n",
    "\n",
    "def predict_labels(clf, features, target):\n",
    "    #print \"Predicting labels using {}...\".format(clf.__class__.__name__)\n",
    "    start = time.time()\n",
    "    y_pred = clf.predict(features)\n",
    "    end = time.time()\n",
    "    #print \"Done!\\nPrediction time (secs): {:.3f}\".format(end - start)\n",
    "    return f1_score(target.values, y_pred, pos_label='yes'),end - start\n",
    "\n",
    "print \"Predicting labels using {}...\".format(clf.__class__.__name__)\n",
    "train_f1_score,timeDelta = predict_labels(clf, X_train, y_train)\n",
    "print \"Done!\\nPrediction time (secs): {:.3f}\".format(timeDelta)\n",
    "print \"F1 score for training set: {}\".format(train_f1_score)\n"
   ]
  },
  {
   "cell_type": "code",
   "execution_count": 403,
   "metadata": {
    "collapsed": false,
    "scrolled": true
   },
   "outputs": [
    {
     "name": "stdout",
     "output_type": "stream",
     "text": [
      "Predicting labels using GaussianNB...\n",
      "Done!\n",
      "Prediction time (secs): 0.001\n",
      "F1 score for test set: 0.80378250591\n"
     ]
    }
   ],
   "source": [
    "# Predict on test data\n",
    "\n",
    "print \"Predicting labels using {}...\".format(clf.__class__.__name__)\n",
    "test_f1_score,timeDelta = predict_labels(clf, X_train, y_train)\n",
    "print \"Done!\\nPrediction time (secs): {:.3f}\".format(timeDelta)\n",
    "print \"F1 score for test set: {}\".format(test_f1_score)"
   ]
  },
  {
   "cell_type": "code",
   "execution_count": 404,
   "metadata": {
    "collapsed": false,
    "scrolled": true
   },
   "outputs": [
    {
     "name": "stdout",
     "output_type": "stream",
     "text": [
      "------------------------------------------\n",
      "Training set size: 300, Train time (secs): 0.001\n",
      "F1 score for training set: 0.763358778626, Prediction time (secs): 0.001\n",
      "F1 score for test set: 0.80378250591, Prediction time (secs): 0.001\n"
     ]
    }
   ],
   "source": [
    "# Train and predict using different training set sizes\n",
    "def train_predict(clf, X_train, y_train, X_test, y_test):\n",
    "\n",
    "    timeTrain=train_classifier(clf, X_train, y_train)\n",
    "    predict_train,trainDelta=predict_labels(clf, X_train, y_train)\n",
    "    predict_test,testDelta=predict_labels(clf, X_test, y_test)\n",
    "    return predict_test,testDelta,predict_train,trainDelta,timeTrain # let's return the scores, so we can use them for comparisons\n",
    "\n",
    "# TODO: Run the helper function above for desired subsets of training data\n",
    "# Note: Keep the test set constant\n",
    "\n",
    "test,testDelta,train,trainDelta,timeTrain = train_predict(clf, X_train, y_train, X_test, y_test)\n",
    "print \"------------------------------------------\"\n",
    "print \"Training set size: {},\".format(len(X_train)),\"Train time (secs): {:.3f}\".format(timeTrain)\n",
    "print \"F1 score for training set: {},\".format(test),\"Prediction time (secs): {:.3f}\".format(testDelta)\n",
    "print \"F1 score for test set: {},\".format(train),\"Prediction time (secs): {:.3f}\".format(trainDelta)\n"
   ]
  },
  {
   "cell_type": "code",
   "execution_count": 405,
   "metadata": {
    "collapsed": false,
    "scrolled": true
   },
   "outputs": [
    {
     "name": "stdout",
     "output_type": "stream",
     "text": [
      "calculating the 100 set\n",
      "calculating the 200 set\n",
      "calculating the 300 set\n"
     ]
    }
   ],
   "source": [
    "# TODO: Train and predict using two other models\n",
    "from sklearn.tree import DecisionTreeClassifier\n",
    "from sklearn.neighbors import KNeighborsClassifier\n",
    "from sklearn.svm import SVC, LinearSVC\n",
    "from sklearn import linear_model, decomposition, datasets, ensemble\n",
    "from sklearn.naive_bayes import GaussianNB\n",
    "#from sklearn.neural_network import MLPClassifier # not in vesion .17\n",
    "\n",
    "def runCLF(X_train, y_train, X_test, y_test):\n",
    "    scores={}\n",
    "\n",
    "    clf = DecisionTreeClassifier(class_weight =\"balanced\")\n",
    "    scores[clf.__class__.__name__]= train_predict(clf, X_train, y_train, X_test, y_test)\n",
    "    \n",
    "    clf = KNeighborsClassifier(n_jobs =-1)\n",
    "    scores[clf.__class__.__name__]= train_predict(clf, X_train, y_train, X_test, y_test)\n",
    "\n",
    "    clf=LinearSVC(class_weight=\"balanced\")\n",
    "    scores[clf.__class__.__name__]= train_predict(clf, X_train, y_train, X_test, y_test)\n",
    "\n",
    "    clf=SVC(class_weight='balanced')\n",
    "    scores[clf.__class__.__name__]= train_predict(clf, X_train, y_train, X_test, y_test)\n",
    "\n",
    "    clf=linear_model.LogisticRegression(n_jobs =-1)\n",
    "    scores[clf.__class__.__name__]= train_predict(clf, X_train, y_train, X_test, y_test)\n",
    "\n",
    "    clf = ensemble.AdaBoostClassifier()\n",
    "    scores[clf.__class__.__name__+\"-plain\"]= train_predict(clf, X_train, y_train, X_test, y_test)\n",
    "\n",
    "    clf = ensemble.AdaBoostClassifier(GaussianNB())\n",
    "    scores[clf.__class__.__name__+\"-GNB\"]= train_predict(clf, X_train, y_train, X_test, y_test)\n",
    "\n",
    "    clf = ensemble.AdaBoostClassifier(DecisionTreeClassifier(max_depth=2,class_weight =\"balanced\"))\n",
    "    scores[clf.__class__.__name__+\"-DCT\"]= train_predict(clf, X_train, y_train, X_test, y_test)\n",
    "    \n",
    "    clf = ensemble.RandomForestClassifier(n_jobs =-1,class_weight=\"balanced\")\n",
    "    scores[clf.__class__.__name__]= train_predict(clf, X_train, y_train, X_test, y_test)\n",
    "\n",
    "    scoresDF= pd.DataFrame(scores,index=['testF1','testDelta','trainF1','trainDelta','timeTrain']).T\n",
    "    return scoresDF.sort_values('testF1',ascending=False)\n",
    "\n",
    " \n",
    "runs = 3\n",
    "holdData=[]\n",
    "for r in range(runs) :\n",
    "    runNum=(r+1)*100\n",
    "    print \"calculating the\" ,runNum,\"set\"\n",
    "    holdData.append([runNum,runCLF(X_train[:runNum], y_train[:runNum], X_test, y_test)])\n",
    "   \n"
   ]
  },
  {
   "cell_type": "code",
   "execution_count": 406,
   "metadata": {
    "collapsed": false
   },
   "outputs": [
    {
     "name": "stdout",
     "output_type": "stream",
     "text": [
      "\n",
      "training data size: 100\n",
      "                            testF1  testDelta   trainF1  trainDelta  timeTrain\n",
      "AdaBoostClassifier-plain  0.766917      0.006  0.948148       0.006      0.113\n",
      "LogisticRegression        0.764706      0.000  0.859259       0.000      0.001\n",
      "RandomForestClassifier    0.748092      0.120  0.992126       0.118      0.161\n",
      "\n",
      "training data size: 200\n",
      "                            testF1  testDelta   trainF1  trainDelta  timeTrain\n",
      "AdaBoostClassifier-plain  0.828125      0.005  0.892734       0.006      0.103\n",
      "LogisticRegression        0.791367      0.000  0.856187       0.000      0.002\n",
      "KNeighborsClassifier      0.769231      0.118  0.880000       0.121      0.001\n",
      "\n",
      "training data size: 300\n",
      "                            testF1  testDelta   trainF1  trainDelta  timeTrain\n",
      "LogisticRegression        0.805970      0.000  0.846847       0.000      0.003\n",
      "AdaBoostClassifier-plain  0.781955      0.007  0.863741       0.006      0.125\n",
      "KNeighborsClassifier      0.780142      0.117  0.880899       0.131      0.002\n"
     ]
    },
    {
     "data": {
      "image/png": "[encoded data removed]",
      "text/plain": [
       "<matplotlib.figure.Figure at 0x21d045c0>"
      ]
     },
     "metadata": {},
     "output_type": "display_data"
    }
   ],
   "source": [
    "fig, axes = plt.subplots(nrows=3, ncols=1)\n",
    "i=0\n",
    "leg=True\n",
    "for h in holdData:\n",
    "    print \"\\ntraining data size:\",h[0]\n",
    "    print h[1][['testF1','testDelta','trainF1','trainDelta','timeTrain']][:3]\n",
    "    h[1][['testF1','testDelta','trainF1','trainDelta','timeTrain']][:3].plot(\n",
    "                                                                            kind='barh',\n",
    "                                                                            ax=axes[i],\n",
    "                                                                            legend=leg,\n",
    "                                                                            figsize=(10,10),\n",
    "                                                                            title=\"\\ntraining data size:\"+str(h[0]))\n",
    "    leg=False\n",
    "    i+=1\n",
    "fig.suptitle('Top 3 classifiers, per run', fontsize=18, y=1.03)\n",
    "#fig.figsize=(10,8)\n",
    "fig.show()"
   ]
  },
  {
   "cell_type": "markdown",
   "metadata": {},
   "source": [
    "\n",
    "* What is the theoretical O(n) time & space complexity in terms of input size?\n",
    "* What are the general applications of this model? What are its strengths and weaknesses?\n",
    "* Given what you know about the data so far, why did you choose this model to apply?\n",
    "\n",
    "Experimentaion showed three different models that may best classify the data: LogisticRegression, AdaBoost, and KNeighbors.\n",
    "\n",
    "LogisticRegression has an advantage over the others best methods, in that it is fast to query, and an eager learner, implying a lower resource usage and quicker prediction times. One disadvantage is that it must be retrained to use new data, but it's training time is also fairly quick.\n",
    "\n",
    "AdaBoost is a boost algorithim, and we can see that it has the longest training time in any of the candidates, although prediction time is good.\n",
    "\n",
    "KNeighbors is a lazy learner, and requires more memory resources, but timeTrain is very fast. Prediction time(testDelta&trainDelta) are highest of the candidates. This model uses the neighbors with similar features features to predict the label, and has an advantage in that data may be added to the model easily as it is aquired."
   ]
  },
  {
   "cell_type": "markdown",
   "metadata": {},
   "source": [
    "## 5. Choosing the Best Model\n",
    "\n",
    "- Based on the experiments you performed earlier, in 1-2 paragraphs explain to the board of supervisors what single model you chose as the best model. Which model is generally the most appropriate based on the available data, limited resources, cost, and performance?\n",
    "- In 1-2 paragraphs explain to the board of supervisors in layman's terms how the final model chosen is supposed to work (for example if you chose a Decision Tree or Support Vector Machine, how does it make a prediction).\n",
    "- Fine-tune the model. Use Gridsearch with at least one important parameter tuned and with at least 3 settings. Use the entire training set for this.\n",
    "- What is the model's final F<sub>1</sub> score?"
   ]
  },
  {
   "cell_type": "code",
   "execution_count": 388,
   "metadata": {
    "collapsed": false,
    "scrolled": true
   },
   "outputs": [],
   "source": [
    "# TODO: Fine-tune your model and report the best F1 score\n",
    "\n",
    "def modelTune(clf, params, X, y):\n",
    "    #Fine tune model with grid search\n",
    "    from sklearn.grid_search import GridSearchCV\n",
    "    from sklearn.metrics import make_scorer, f1_score\n",
    "    from sklearn.cross_validation import StratifiedShuffleSplit\n",
    "\n",
    "    grid_search = GridSearchCV(clf, \n",
    "                               param_grid=params, \n",
    "                               cv=StratifiedShuffleSplit(y, random_state=42), \n",
    "                               n_jobs= -1,\n",
    "                               scoring=make_scorer(f1_score, \n",
    "                                                   pos_label=\"yes\",\n",
    "                                                   greater_is_better=True)) \n",
    "\n",
    "    grid_search.fit(X, y)\n",
    "\n",
    "    #reach into the grid search and pull out the best parameters, and set those on clf. probably not necesary, but easier to deal with\n",
    "    bestGridParams={}\n",
    "    for bp in grid_search.best_params_:\n",
    "        bestGridParams[bp]=grid_search.best_params_[bp]\n",
    "\n",
    "    clf.set_params(**bestGridParams)\n",
    "    return clf\n",
    "\n",
    "    # Check out each parameter combination and it's score:\n",
    "    #for gs in grid_search.grid_scores_:\n",
    "    #    print gs\n"
   ]
  },
  {
   "cell_type": "code",
   "execution_count": 389,
   "metadata": {
    "collapsed": false
   },
   "outputs": [
    {
     "name": "stdout",
     "output_type": "stream",
     "text": [
      "best classifier was:\n",
      "\n",
      "Original clf:\n",
      "LogisticRegression(C=1.0, class_weight=None, dual=False, fit_intercept=True,\n",
      "          intercept_scaling=1, max_iter=100, multi_class='ovr', n_jobs=-1,\n",
      "          penalty='l2', random_state=None, solver='liblinear', tol=0.0001,\n",
      "          verbose=0, warm_start=False)\n"
     ]
    },
    {
     "ename": "JoblibValueError",
     "evalue": "JoblibValueError\n___________________________________________________________________________\nMultiprocessing exception:\n...........................................................................\nC:\\Anaconda2\\lib\\runpy.py in _run_module_as_main(mod_name='ipykernel.__main__', alter_argv=1)\n    157     pkg_name = mod_name.rpartition('.')[0]\n    158     main_globals = sys.modules[\"__main__\"].__dict__\n    159     if alter_argv:\n    160         sys.argv[0] = fname\n    161     return _run_code(code, main_globals, None,\n--> 162                      \"__main__\", fname, loader, pkg_name)\n        fname = r'C:\\Anaconda2\\lib\\site-packages\\ipykernel\\__main__.py'\n        loader = <pkgutil.ImpLoader instance>\n        pkg_name = 'ipykernel'\n    163 \n    164 def run_module(mod_name, init_globals=None,\n    165                run_name=None, alter_sys=False):\n    166     \"\"\"Execute a module's code without importing it\n\n...........................................................................\nC:\\Anaconda2\\lib\\runpy.py in _run_code(code=<code object <module> at 000000000226FBB0, file ...lib\\site-packages\\ipykernel\\__main__.py\", line 1>, run_globals={'__builtins__': <module '__builtin__' (built-in)>, '__doc__': None, '__file__': r'C:\\Anaconda2\\lib\\site-packages\\ipykernel\\__main__.py', '__loader__': <pkgutil.ImpLoader instance>, '__name__': '__main__', '__package__': 'ipykernel', 'app': <module 'ipykernel.kernelapp' from 'C:\\Anaconda2\\lib\\site-packages\\ipykernel\\kernelapp.pyc'>}, init_globals=None, mod_name='__main__', mod_fname=r'C:\\Anaconda2\\lib\\site-packages\\ipykernel\\__main__.py', mod_loader=<pkgutil.ImpLoader instance>, pkg_name='ipykernel')\n     67         run_globals.update(init_globals)\n     68     run_globals.update(__name__ = mod_name,\n     69                        __file__ = mod_fname,\n     70                        __loader__ = mod_loader,\n     71                        __package__ = pkg_name)\n---> 72     exec code in run_globals\n        code = <code object <module> at 000000000226FBB0, file ...lib\\site-packages\\ipykernel\\__main__.py\", line 1>\n        run_globals = {'__builtins__': <module '__builtin__' (built-in)>, '__doc__': None, '__file__': r'C:\\Anaconda2\\lib\\site-packages\\ipykernel\\__main__.py', '__loader__': <pkgutil.ImpLoader instance>, '__name__': '__main__', '__package__': 'ipykernel', 'app': <module 'ipykernel.kernelapp' from 'C:\\Anaconda2\\lib\\site-packages\\ipykernel\\kernelapp.pyc'>}\n     73     return run_globals\n     74 \n     75 def _run_module_code(code, init_globals=None,\n     76                     mod_name=None, mod_fname=None,\n\n...........................................................................\nC:\\Anaconda2\\lib\\site-packages\\ipykernel\\__main__.py in <module>()\n      1 \n      2 \n----> 3 \n      4 if __name__ == '__main__':\n      5     from ipykernel import kernelapp as app\n      6     app.launch_new_instance()\n      7 \n      8 \n      9 \n     10 \n\n...........................................................................\nC:\\Anaconda2\\lib\\site-packages\\traitlets\\config\\application.py in launch_instance(cls=<class 'ipykernel.kernelapp.IPKernelApp'>, argv=None, **kwargs={})\n    584         \n    585         If a global instance already exists, this reinitializes and starts it\n    586         \"\"\"\n    587         app = cls.instance(**kwargs)\n    588         app.initialize(argv)\n--> 589         app.start()\n        app.start = <bound method IPKernelApp.start of <ipykernel.kernelapp.IPKernelApp object>>\n    590 \n    591 #-----------------------------------------------------------------------------\n    592 # utility functions, for convenience\n    593 #-----------------------------------------------------------------------------\n\n...........................................................................\nC:\\Anaconda2\\lib\\site-packages\\ipykernel\\kernelapp.py in start(self=<ipykernel.kernelapp.IPKernelApp object>)\n    398         \n    399         if self.poller is not None:\n    400             self.poller.start()\n    401         self.kernel.start()\n    402         try:\n--> 403             ioloop.IOLoop.instance().start()\n    404         except KeyboardInterrupt:\n    405             pass\n    406 \n    407 launch_new_instance = IPKernelApp.launch_instance\n\n...........................................................................\nC:\\Anaconda2\\lib\\site-packages\\zmq\\eventloop\\ioloop.py in start(self=<zmq.eventloop.ioloop.ZMQIOLoop object>)\n    146             PollIOLoop.configure(ZMQIOLoop)\n    147         return PollIOLoop.instance()\n    148     \n    149     def start(self):\n    150         try:\n--> 151             super(ZMQIOLoop, self).start()\n        self.start = <bound method ZMQIOLoop.start of <zmq.eventloop.ioloop.ZMQIOLoop object>>\n    152         except ZMQError as e:\n    153             if e.errno == ETERM:\n    154                 # quietly return on ETERM\n    155                 pass\n\n...........................................................................\nC:\\Anaconda2\\lib\\site-packages\\tornado\\ioloop.py in start(self=<zmq.eventloop.ioloop.ZMQIOLoop object>)\n    878                 self._events.update(event_pairs)\n    879                 while self._events:\n    880                     fd, events = self._events.popitem()\n    881                     try:\n    882                         fd_obj, handler_func = self._handlers[fd]\n--> 883                         handler_func(fd_obj, events)\n        handler_func = <function null_wrapper>\n        fd_obj = <zmq.sugar.socket.Socket object>\n        events = 1\n    884                     except (OSError, IOError) as e:\n    885                         if errno_from_exception(e) == errno.EPIPE:\n    886                             # Happens when the client closes the connection\n    887                             pass\n\n...........................................................................\nC:\\Anaconda2\\lib\\site-packages\\tornado\\stack_context.py in null_wrapper(*args=(<zmq.sugar.socket.Socket object>, 1), **kwargs={})\n    270         # Fast path when there are no active contexts.\n    271         def null_wrapper(*args, **kwargs):\n    272             try:\n    273                 current_state = _state.contexts\n    274                 _state.contexts = cap_contexts[0]\n--> 275                 return fn(*args, **kwargs)\n        args = (<zmq.sugar.socket.Socket object>, 1)\n        kwargs = {}\n    276             finally:\n    277                 _state.contexts = current_state\n    278         null_wrapper._wrapped = True\n    279         return null_wrapper\n\n...........................................................................\nC:\\Anaconda2\\lib\\site-packages\\zmq\\eventloop\\zmqstream.py in _handle_events(self=<zmq.eventloop.zmqstream.ZMQStream object>, fd=<zmq.sugar.socket.Socket object>, events=1)\n    428             # dispatch events:\n    429             if events & IOLoop.ERROR:\n    430                 gen_log.error(\"got POLLERR event on ZMQStream, which doesn't make sense\")\n    431                 return\n    432             if events & IOLoop.READ:\n--> 433                 self._handle_recv()\n        self._handle_recv = <bound method ZMQStream._handle_recv of <zmq.eventloop.zmqstream.ZMQStream object>>\n    434                 if not self.socket:\n    435                     return\n    436             if events & IOLoop.WRITE:\n    437                 self._handle_send()\n\n...........................................................................\nC:\\Anaconda2\\lib\\site-packages\\zmq\\eventloop\\zmqstream.py in _handle_recv(self=<zmq.eventloop.zmqstream.ZMQStream object>)\n    460                 gen_log.error(\"RECV Error: %s\"%zmq.strerror(e.errno))\n    461         else:\n    462             if self._recv_callback:\n    463                 callback = self._recv_callback\n    464                 # self._recv_callback = None\n--> 465                 self._run_callback(callback, msg)\n        self._run_callback = <bound method ZMQStream._run_callback of <zmq.eventloop.zmqstream.ZMQStream object>>\n        callback = <function null_wrapper>\n        msg = [<zmq.sugar.frame.Frame object>, <zmq.sugar.frame.Frame object>, <zmq.sugar.frame.Frame object>, <zmq.sugar.frame.Frame object>, <zmq.sugar.frame.Frame object>, <zmq.sugar.frame.Frame object>, <zmq.sugar.frame.Frame object>]\n    466                 \n    467         # self.update_state()\n    468         \n    469 \n\n...........................................................................\nC:\\Anaconda2\\lib\\site-packages\\zmq\\eventloop\\zmqstream.py in _run_callback(self=<zmq.eventloop.zmqstream.ZMQStream object>, callback=<function null_wrapper>, *args=([<zmq.sugar.frame.Frame object>, <zmq.sugar.frame.Frame object>, <zmq.sugar.frame.Frame object>, <zmq.sugar.frame.Frame object>, <zmq.sugar.frame.Frame object>, <zmq.sugar.frame.Frame object>, <zmq.sugar.frame.Frame object>],), **kwargs={})\n    402         close our socket.\"\"\"\n    403         try:\n    404             # Use a NullContext to ensure that all StackContexts are run\n    405             # inside our blanket exception handler rather than outside.\n    406             with stack_context.NullContext():\n--> 407                 callback(*args, **kwargs)\n        callback = <function null_wrapper>\n        args = ([<zmq.sugar.frame.Frame object>, <zmq.sugar.frame.Frame object>, <zmq.sugar.frame.Frame object>, <zmq.sugar.frame.Frame object>, <zmq.sugar.frame.Frame object>, <zmq.sugar.frame.Frame object>, <zmq.sugar.frame.Frame object>],)\n        kwargs = {}\n    408         except:\n    409             gen_log.error(\"Uncaught exception, closing connection.\",\n    410                           exc_info=True)\n    411             # Close the socket on an uncaught exception from a user callback\n\n...........................................................................\nC:\\Anaconda2\\lib\\site-packages\\tornado\\stack_context.py in null_wrapper(*args=([<zmq.sugar.frame.Frame object>, <zmq.sugar.frame.Frame object>, <zmq.sugar.frame.Frame object>, <zmq.sugar.frame.Frame object>, <zmq.sugar.frame.Frame object>, <zmq.sugar.frame.Frame object>, <zmq.sugar.frame.Frame object>],), **kwargs={})\n    270         # Fast path when there are no active contexts.\n    271         def null_wrapper(*args, **kwargs):\n    272             try:\n    273                 current_state = _state.contexts\n    274                 _state.contexts = cap_contexts[0]\n--> 275                 return fn(*args, **kwargs)\n        args = ([<zmq.sugar.frame.Frame object>, <zmq.sugar.frame.Frame object>, <zmq.sugar.frame.Frame object>, <zmq.sugar.frame.Frame object>, <zmq.sugar.frame.Frame object>, <zmq.sugar.frame.Frame object>, <zmq.sugar.frame.Frame object>],)\n        kwargs = {}\n    276             finally:\n    277                 _state.contexts = current_state\n    278         null_wrapper._wrapped = True\n    279         return null_wrapper\n\n...........................................................................\nC:\\Anaconda2\\lib\\site-packages\\ipykernel\\kernelbase.py in dispatcher(msg=[<zmq.sugar.frame.Frame object>, <zmq.sugar.frame.Frame object>, <zmq.sugar.frame.Frame object>, <zmq.sugar.frame.Frame object>, <zmq.sugar.frame.Frame object>, <zmq.sugar.frame.Frame object>, <zmq.sugar.frame.Frame object>])\n    255         if self.control_stream:\n    256             self.control_stream.on_recv(self.dispatch_control, copy=False)\n    257 \n    258         def make_dispatcher(stream):\n    259             def dispatcher(msg):\n--> 260                 return self.dispatch_shell(stream, msg)\n        msg = [<zmq.sugar.frame.Frame object>, <zmq.sugar.frame.Frame object>, <zmq.sugar.frame.Frame object>, <zmq.sugar.frame.Frame object>, <zmq.sugar.frame.Frame object>, <zmq.sugar.frame.Frame object>, <zmq.sugar.frame.Frame object>]\n    261             return dispatcher\n    262 \n    263         for s in self.shell_streams:\n    264             s.on_recv(make_dispatcher(s), copy=False)\n\n...........................................................................\nC:\\Anaconda2\\lib\\site-packages\\ipykernel\\kernelbase.py in dispatch_shell(self=<ipykernel.ipkernel.IPythonKernel object>, stream=<zmq.eventloop.zmqstream.ZMQStream object>, msg={'buffers': [], 'content': {u'allow_stdin': True, u'code': u'\\nprint \"best classifier was:\"\\nclf=linear_mod...est_def,\" GS F1:\",test_GS,\"\\\\n\" #after gridseach', u'silent': False, u'stop_on_error': True, u'store_history': True, u'user_expressions': {}}, 'header': {'date': '2016-04-01T16:11:43.726000', u'msg_id': u'6B55CDE241B048508451C1991E72CA54', u'msg_type': u'execute_request', u'session': u'719FA251CC25477D9400B6D16AE9084D', u'username': u'username', u'version': u'5.0'}, 'metadata': {}, 'msg_id': u'6B55CDE241B048508451C1991E72CA54', 'msg_type': u'execute_request', 'parent_header': {}})\n    207             self.log.error(\"UNKNOWN MESSAGE TYPE: %r\", msg_type)\n    208         else:\n    209             self.log.debug(\"%s: %s\", msg_type, msg)\n    210             self.pre_handler_hook()\n    211             try:\n--> 212                 handler(stream, idents, msg)\n        handler = <bound method IPythonKernel.execute_request of <ipykernel.ipkernel.IPythonKernel object>>\n        stream = <zmq.eventloop.zmqstream.ZMQStream object>\n        idents = ['719FA251CC25477D9400B6D16AE9084D']\n        msg = {'buffers': [], 'content': {u'allow_stdin': True, u'code': u'\\nprint \"best classifier was:\"\\nclf=linear_mod...est_def,\" GS F1:\",test_GS,\"\\\\n\" #after gridseach', u'silent': False, u'stop_on_error': True, u'store_history': True, u'user_expressions': {}}, 'header': {'date': '2016-04-01T16:11:43.726000', u'msg_id': u'6B55CDE241B048508451C1991E72CA54', u'msg_type': u'execute_request', u'session': u'719FA251CC25477D9400B6D16AE9084D', u'username': u'username', u'version': u'5.0'}, 'metadata': {}, 'msg_id': u'6B55CDE241B048508451C1991E72CA54', 'msg_type': u'execute_request', 'parent_header': {}}\n    213             except Exception:\n    214                 self.log.error(\"Exception in message handler:\", exc_info=True)\n    215             finally:\n    216                 self.post_handler_hook()\n\n...........................................................................\nC:\\Anaconda2\\lib\\site-packages\\ipykernel\\kernelbase.py in execute_request(self=<ipykernel.ipkernel.IPythonKernel object>, stream=<zmq.eventloop.zmqstream.ZMQStream object>, ident=['719FA251CC25477D9400B6D16AE9084D'], parent={'buffers': [], 'content': {u'allow_stdin': True, u'code': u'\\nprint \"best classifier was:\"\\nclf=linear_mod...est_def,\" GS F1:\",test_GS,\"\\\\n\" #after gridseach', u'silent': False, u'stop_on_error': True, u'store_history': True, u'user_expressions': {}}, 'header': {'date': '2016-04-01T16:11:43.726000', u'msg_id': u'6B55CDE241B048508451C1991E72CA54', u'msg_type': u'execute_request', u'session': u'719FA251CC25477D9400B6D16AE9084D', u'username': u'username', u'version': u'5.0'}, 'metadata': {}, 'msg_id': u'6B55CDE241B048508451C1991E72CA54', 'msg_type': u'execute_request', 'parent_header': {}})\n    365         if not silent:\n    366             self.execution_count += 1\n    367             self._publish_execute_input(code, parent, self.execution_count)\n    368 \n    369         reply_content = self.do_execute(code, silent, store_history,\n--> 370                                         user_expressions, allow_stdin)\n        user_expressions = {}\n        allow_stdin = True\n    371 \n    372         # Flush output before sending the reply.\n    373         sys.stdout.flush()\n    374         sys.stderr.flush()\n\n...........................................................................\nC:\\Anaconda2\\lib\\site-packages\\ipykernel\\ipkernel.py in do_execute(self=<ipykernel.ipkernel.IPythonKernel object>, code=u'\\nprint \"best classifier was:\"\\nclf=linear_mod...est_def,\" GS F1:\",test_GS,\"\\\\n\" #after gridseach', silent=False, store_history=True, user_expressions={}, allow_stdin=True)\n    170 \n    171         reply_content = {}\n    172         # FIXME: the shell calls the exception handler itself.\n    173         shell._reply_content = None\n    174         try:\n--> 175             shell.run_cell(code, store_history=store_history, silent=silent)\n        shell.run_cell = <bound method ZMQInteractiveShell.run_cell of <ipykernel.zmqshell.ZMQInteractiveShell object>>\n        code = u'\\nprint \"best classifier was:\"\\nclf=linear_mod...est_def,\" GS F1:\",test_GS,\"\\\\n\" #after gridseach'\n        store_history = True\n        silent = False\n    176         except:\n    177             status = u'error'\n    178             # FIXME: this code right now isn't being used yet by default,\n    179             # because the run_cell() call above directly fires off exception\n\n...........................................................................\nC:\\Anaconda2\\lib\\site-packages\\IPython\\core\\interactiveshell.py in run_cell(self=<ipykernel.zmqshell.ZMQInteractiveShell object>, raw_cell=u'\\nprint \"best classifier was:\"\\nclf=linear_mod...est_def,\" GS F1:\",test_GS,\"\\\\n\" #after gridseach', store_history=True, silent=False, shell_futures=True)\n   2718                 self.displayhook.exec_result = result\n   2719 \n   2720                 # Execute the user code\n   2721                 interactivity = \"none\" if silent else self.ast_node_interactivity\n   2722                 self.run_ast_nodes(code_ast.body, cell_name,\n-> 2723                    interactivity=interactivity, compiler=compiler, result=result)\n        interactivity = 'last_expr'\n        compiler = <IPython.core.compilerop.CachingCompiler instance>\n   2724 \n   2725                 # Reset this so later displayed values do not modify the\n   2726                 # ExecutionResult\n   2727                 self.displayhook.exec_result = None\n\n...........................................................................\nC:\\Anaconda2\\lib\\site-packages\\IPython\\core\\interactiveshell.py in run_ast_nodes(self=<ipykernel.zmqshell.ZMQInteractiveShell object>, nodelist=[<_ast.Print object>, <_ast.Assign object>, <_ast.Assign object>, <_ast.Print object>, <_ast.Assign object>, <_ast.Assign object>, <_ast.Assign object>, <_ast.Print object>, <_ast.Print object>, <_ast.If object>], cell_name='<ipython-input-389-238ccd5d1420>', interactivity='none', compiler=<IPython.core.compilerop.CachingCompiler instance>, result=<IPython.core.interactiveshell.ExecutionResult object>)\n   2820 \n   2821         try:\n   2822             for i, node in enumerate(to_run_exec):\n   2823                 mod = ast.Module([node])\n   2824                 code = compiler(mod, cell_name, \"exec\")\n-> 2825                 if self.run_code(code, result):\n        self.run_code = <bound method ZMQInteractiveShell.run_code of <ipykernel.zmqshell.ZMQInteractiveShell object>>\n        code = <code object <module> at 000000002113FAB0, file \"<ipython-input-389-238ccd5d1420>\", line 16>\n        result = <IPython.core.interactiveshell.ExecutionResult object>\n   2826                     return True\n   2827 \n   2828             for i, node in enumerate(to_run_interactive):\n   2829                 mod = ast.Interactive([node])\n\n...........................................................................\nC:\\Anaconda2\\lib\\site-packages\\IPython\\core\\interactiveshell.py in run_code(self=<ipykernel.zmqshell.ZMQInteractiveShell object>, code_obj=<code object <module> at 000000002113FAB0, file \"<ipython-input-389-238ccd5d1420>\", line 16>, result=<IPython.core.interactiveshell.ExecutionResult object>)\n   2880         outflag = 1  # happens in more places, so it's easier as default\n   2881         try:\n   2882             try:\n   2883                 self.hooks.pre_run_code_hook()\n   2884                 #rprint('Running code', repr(code_obj)) # dbg\n-> 2885                 exec(code_obj, self.user_global_ns, self.user_ns)\n        code_obj = <code object <module> at 000000002113FAB0, file \"<ipython-input-389-238ccd5d1420>\", line 16>\n        self.user_global_ns = {'ALLOW_THREADS': 1, 'Annotation': <class 'matplotlib.text.Annotation'>, 'Arrow': <class 'matplotlib.patches.Arrow'>, 'Artist': <class 'matplotlib.artist.Artist'>, 'AutoLocator': <class 'matplotlib.ticker.AutoLocator'>, 'Axes': <class 'matplotlib.axes._axes.Axes'>, 'BUFSIZE': 8192, 'Button': <class 'matplotlib.widgets.Button'>, 'CLIP': 0, 'Circle': <class 'matplotlib.patches.Circle'>, ...}\n        self.user_ns = {'ALLOW_THREADS': 1, 'Annotation': <class 'matplotlib.text.Annotation'>, 'Arrow': <class 'matplotlib.patches.Arrow'>, 'Artist': <class 'matplotlib.artist.Artist'>, 'AutoLocator': <class 'matplotlib.ticker.AutoLocator'>, 'Axes': <class 'matplotlib.axes._axes.Axes'>, 'BUFSIZE': 8192, 'Button': <class 'matplotlib.widgets.Button'>, 'CLIP': 0, 'Circle': <class 'matplotlib.patches.Circle'>, ...}\n   2886             finally:\n   2887                 # Reset our crash handler in place\n   2888                 sys.excepthook = old_excepthook\n   2889         except SystemExit as e:\n\n...........................................................................\nC:\\cygwin\\home\\llathrop\\projects\\udacity-Projects\\student_intervention\\<ipython-input-389-238ccd5d1420> in <module>()\n     11         #'penalty': ['l1', 'l2']\n     12        }\n     13 print \"\\nOriginal clf:\\n\",clf #compare after gridsearch\n     14 test_def,testDelta_def,train_def,trainDelta_def,timeTrainf_def=train_predict(clf, X_train, y_train, X_test, y_test)\n     15 \n---> 16 clf_tuned=modelTune(clf, params,X_train,y_train)\n     17 test_GS,testDelta_GS,train_GS,trainDelta_GS,timeTrainf_GS=train_predict(clf_tuned, X_train, y_train, X_test, y_test)\n     18 \n     19 print \"GridSearch best clf:\\n\",clf_tuned \n     20 \n\n...........................................................................\nC:\\cygwin\\home\\llathrop\\projects\\udacity-Projects\\student_intervention\\<ipython-input-388-205d55bcc19c> in modelTune(clf=LogisticRegression(C=1.0, class_weight=None, dua...ol=0.0001,\n          verbose=0, warm_start=False), params={'C': [0.005, 0.05, 0.5, 1.0, 10.0, 100.0, 0.08]}, X=     school_GP  school_MS  sex_F  sex_M  age  ad...   1       5         4  \n\n[300 rows x 48 columns], y=210    0\n75     1\n104    1\n374    1\n16     1\n66 ...   0\n348    1\n102    1\nName: passed, dtype: int64)\n     12                                n_jobs= -1,\n     13                                scoring=make_scorer(f1_score, \n     14                                                    pos_label=\"yes\",\n     15                                                    greater_is_better=True)) \n     16 \n---> 17     grid_search.fit(X, y)\n     18 \n     19     #reach into the grid search and pull out the best parameters, and set those on clf. probably not necesary, but easier to deal with\n     20     bestGridParams={}\n     21     for bp in grid_search.best_params_:\n\n...........................................................................\nC:\\Anaconda2\\lib\\site-packages\\sklearn\\grid_search.py in fit(self=GridSearchCV(cv=StratifiedShuffleSplit(labels=[0...=make_scorer(f1_score, pos_label=yes), verbose=0), X=     school_GP  school_MS  sex_F  sex_M  age  ad...   1       5         4  \n\n[300 rows x 48 columns], y=210    0\n75     1\n104    1\n374    1\n16     1\n66 ...   0\n348    1\n102    1\nName: passed, dtype: int64)\n    799         y : array-like, shape = [n_samples] or [n_samples, n_output], optional\n    800             Target relative to X for classification or regression;\n    801             None for unsupervised learning.\n    802 \n    803         \"\"\"\n--> 804         return self._fit(X, y, ParameterGrid(self.param_grid))\n        self._fit = <bound method GridSearchCV._fit of GridSearchCV(...make_scorer(f1_score, pos_label=yes), verbose=0)>\n        X =      school_GP  school_MS  sex_F  sex_M  age  ad...   1       5         4  \n\n[300 rows x 48 columns]\n        y = 210    0\n75     1\n104    1\n374    1\n16     1\n66 ...   0\n348    1\n102    1\nName: passed, dtype: int64\n        self.param_grid = {'C': [0.005, 0.05, 0.5, 1.0, 10.0, 100.0, 0.08]}\n    805 \n    806 \n    807 class RandomizedSearchCV(BaseSearchCV):\n    808     \"\"\"Randomized search on hyper parameters.\n\n...........................................................................\nC:\\Anaconda2\\lib\\site-packages\\sklearn\\grid_search.py in _fit(self=GridSearchCV(cv=StratifiedShuffleSplit(labels=[0...=make_scorer(f1_score, pos_label=yes), verbose=0), X=     school_GP  school_MS  sex_F  sex_M  age  ad...   1       5         4  \n\n[300 rows x 48 columns], y=210    0\n75     1\n104    1\n374    1\n16     1\n66 ...   0\n348    1\n102    1\nName: passed, dtype: int64, parameter_iterable=<sklearn.grid_search.ParameterGrid object>)\n    548         )(\n    549             delayed(_fit_and_score)(clone(base_estimator), X, y, self.scorer_,\n    550                                     train, test, self.verbose, parameters,\n    551                                     self.fit_params, return_parameters=True,\n    552                                     error_score=self.error_score)\n--> 553                 for parameters in parameter_iterable\n        parameters = undefined\n        parameter_iterable = <sklearn.grid_search.ParameterGrid object>\n    554                 for train, test in cv)\n    555 \n    556         # Out is a list of triplet: score, estimator, n_test_samples\n    557         n_fits = len(out)\n\n...........................................................................\nC:\\Anaconda2\\lib\\site-packages\\sklearn\\externals\\joblib\\parallel.py in __call__(self=Parallel(n_jobs=-1), iterable=<generator object <genexpr>>)\n    807             if pre_dispatch == \"all\" or n_jobs == 1:\n    808                 # The iterable was consumed all at once by the above for loop.\n    809                 # No need to wait for async callbacks to trigger to\n    810                 # consumption.\n    811                 self._iterating = False\n--> 812             self.retrieve()\n        self.retrieve = <bound method Parallel.retrieve of Parallel(n_jobs=-1)>\n    813             # Make sure that we get a last message telling us we are done\n    814             elapsed_time = time.time() - self._start_time\n    815             self._print('Done %3i out of %3i | elapsed: %s finished',\n    816                         (len(self._output), len(self._output),\n\n---------------------------------------------------------------------------\nSub-process traceback:\n---------------------------------------------------------------------------\nValueError                                         Fri Apr 01 16:11:45 2016\nPID: 15024                           Python 2.7.11: C:\\Anaconda2\\python.exe\n...........................................................................\nC:\\Anaconda2\\lib\\site-packages\\sklearn\\externals\\joblib\\parallel.pyc in __call__(self=<sklearn.externals.joblib.parallel.BatchedCalls object>)\n     67     def __init__(self, iterator_slice):\n     68         self.items = list(iterator_slice)\n     69         self._size = len(self.items)\n     70 \n     71     def __call__(self):\n---> 72         return [func(*args, **kwargs) for func, args, kwargs in self.items]\n     73 \n     74     def __len__(self):\n     75         return self._size\n     76 \n\n...........................................................................\nC:\\Anaconda2\\lib\\site-packages\\sklearn\\cross_validation.pyc in _fit_and_score(estimator=LogisticRegression(C=0.005, class_weight=None, d...ol=0.0001,\n          verbose=0, warm_start=False), X=     school_GP  school_MS  sex_F  sex_M  age  ad...   1       5         4  \n\n[300 rows x 48 columns], y=210    0\n75     1\n104    1\n374    1\n16     1\n66 ...   0\n348    1\n102    1\nName: passed, dtype: int64, scorer=make_scorer(f1_score, pos_label=yes), train=array([119, 150, 250,  77, 297,  40, 188, 218, 1... 146, 113, 127, 247, 111, 102, 255], dtype=int64), test=array([ 61, 241, 277, 235, 294,  44,  72, 200,  ... 5, 180,\n        20, 197,  34, 158], dtype=int64), verbose=0, parameters={'C': 0.005}, fit_params={}, return_train_score=False, return_parameters=True, error_score='raise')\n   1545                              \" numeric value. (Hint: if using 'raise', please\"\n   1546                              \" make sure that it has been spelled correctly.)\"\n   1547                              )\n   1548 \n   1549     else:\n-> 1550         test_score = _score(estimator, X_test, y_test, scorer)\n   1551         if return_train_score:\n   1552             train_score = _score(estimator, X_train, y_train, scorer)\n   1553 \n   1554     scoring_time = time.time() - start_time\n\n...........................................................................\nC:\\Anaconda2\\lib\\site-packages\\sklearn\\cross_validation.pyc in _score(estimator=LogisticRegression(C=0.005, class_weight=None, d...ol=0.0001,\n          verbose=0, warm_start=False), X_test=     school_GP  school_MS  sex_F  sex_M  age  ad...    1       3         0  \n\n[30 rows x 48 columns], y_test=366    1\n205    0\n191    0\n259    0\n188    0\n287...   1\n261    0\n242    0\nName: passed, dtype: int64, scorer=make_scorer(f1_score, pos_label=yes))\n   1601 def _score(estimator, X_test, y_test, scorer):\n   1602     \"\"\"Compute the score of an estimator on a given test set.\"\"\"\n   1603     if y_test is None:\n   1604         score = scorer(estimator, X_test)\n   1605     else:\n-> 1606         score = scorer(estimator, X_test, y_test)\n   1607     if not isinstance(score, numbers.Number):\n   1608         raise ValueError(\"scoring must return a number, got %s (%s) instead.\"\n   1609                          % (str(score), type(score)))\n   1610     return score\n\n...........................................................................\nC:\\Anaconda2\\lib\\site-packages\\sklearn\\metrics\\scorer.pyc in __call__(self=make_scorer(f1_score, pos_label=yes), estimator=LogisticRegression(C=0.005, class_weight=None, d...ol=0.0001,\n          verbose=0, warm_start=False), X=     school_GP  school_MS  sex_F  sex_M  age  ad...    1       3         0  \n\n[30 rows x 48 columns], y_true=366    1\n205    0\n191    0\n259    0\n188    0\n287...   1\n261    0\n242    0\nName: passed, dtype: int64, sample_weight=None)\n     85             return self._sign * self._score_func(y_true, y_pred,\n     86                                                  sample_weight=sample_weight,\n     87                                                  **self._kwargs)\n     88         else:\n     89             return self._sign * self._score_func(y_true, y_pred,\n---> 90                                                  **self._kwargs)\n     91 \n     92 \n     93 class _ProbaScorer(_BaseScorer):\n     94     def __call__(self, clf, X, y, sample_weight=None):\n\n...........................................................................\nC:\\Anaconda2\\lib\\site-packages\\sklearn\\metrics\\classification.pyc in f1_score(y_true=366    1\n205    0\n191    0\n259    0\n188    0\n287...   1\n261    0\n242    0\nName: passed, dtype: int64, y_pred=array([1, 1, 1, 1, 1, 1, 1, 1, 1, 1, 1, 1, 1, 1,..., 1, 1,\n       1, 1, 1, 1, 1, 1, 1], dtype=int64), labels=None, pos_label='yes', average='binary', sample_weight=None)\n    634 \n    635 \n    636     \"\"\"\n    637     return fbeta_score(y_true, y_pred, 1, labels=labels,\n    638                        pos_label=pos_label, average=average,\n--> 639                        sample_weight=sample_weight)\n        average = 'binary'\n    640 \n    641 \n    642 def fbeta_score(y_true, y_pred, beta, labels=None, pos_label=1,\n    643                 average='binary', sample_weight=None):\n\n...........................................................................\nC:\\Anaconda2\\lib\\site-packages\\sklearn\\metrics\\classification.pyc in fbeta_score(y_true=366    1\n205    0\n191    0\n259    0\n188    0\n287...   1\n261    0\n242    0\nName: passed, dtype: int64, y_pred=array([1, 1, 1, 1, 1, 1, 1, 1, 1, 1, 1, 1, 1, 1,..., 1, 1,\n       1, 1, 1, 1, 1, 1, 1], dtype=int64), beta=1, labels=None, pos_label='yes', average='binary', sample_weight=None)\n    751                                                  beta=beta,\n    752                                                  labels=labels,\n    753                                                  pos_label=pos_label,\n    754                                                  average=average,\n    755                                                  warn_for=('f-score',),\n--> 756                                                  sample_weight=sample_weight)\n    757     return f\n    758 \n    759 \n    760 def _prf_divide(numerator, denominator, metric, modifier, average, warn_for):\n\n...........................................................................\nC:\\Anaconda2\\lib\\site-packages\\sklearn\\metrics\\classification.pyc in precision_recall_fscore_support(y_true=array([1, 0, 0, 0, 0, 1, 1, 1, 1, 1, 1, 1, 1, 1,..., 1, 1,\n       1, 1, 1, 1, 1, 0, 0], dtype=int64), y_pred=array([1, 1, 1, 1, 1, 1, 1, 1, 1, 1, 1, 1, 1, 1,..., 1, 1,\n       1, 1, 1, 1, 1, 1, 1], dtype=int64), beta=1, labels=None, pos_label='yes', average='binary', warn_for=('f-score',), sample_weight=None)\n    979                 if len(present_labels) < 2:\n    980                     # Only negative labels\n    981                     return (0., 0., 0., 0)\n    982                 else:\n    983                     raise ValueError(\"pos_label=%r is not a valid label: %r\" %\n--> 984                                      (pos_label, present_labels))\n    985             labels = [pos_label]\n    986     if labels is None:\n    987         labels = present_labels\n    988         n_labels = None\n\nValueError: pos_label='yes' is not a valid label: array([0, 1], dtype=int64)\n___________________________________________________________________________",
     "output_type": "error",
     "traceback": [
      "\u001b[1;31m---------------------------------------------------------------------------\u001b[0m",
      "\u001b[1;31mJoblibValueError\u001b[0m                          Traceback (most recent call last)",
      "\u001b[1;32m<ipython-input-389-238ccd5d1420>\u001b[0m in \u001b[0;36m<module>\u001b[1;34m()\u001b[0m\n\u001b[0;32m     14\u001b[0m \u001b[0mtest_def\u001b[0m\u001b[1;33m,\u001b[0m\u001b[0mtestDelta_def\u001b[0m\u001b[1;33m,\u001b[0m\u001b[0mtrain_def\u001b[0m\u001b[1;33m,\u001b[0m\u001b[0mtrainDelta_def\u001b[0m\u001b[1;33m,\u001b[0m\u001b[0mtimeTrainf_def\u001b[0m\u001b[1;33m=\u001b[0m\u001b[0mtrain_predict\u001b[0m\u001b[1;33m(\u001b[0m\u001b[0mclf\u001b[0m\u001b[1;33m,\u001b[0m \u001b[0mX_train\u001b[0m\u001b[1;33m,\u001b[0m \u001b[0my_train\u001b[0m\u001b[1;33m,\u001b[0m \u001b[0mX_test\u001b[0m\u001b[1;33m,\u001b[0m \u001b[0my_test\u001b[0m\u001b[1;33m)\u001b[0m\u001b[1;33m\u001b[0m\u001b[0m\n\u001b[0;32m     15\u001b[0m \u001b[1;33m\u001b[0m\u001b[0m\n\u001b[1;32m---> 16\u001b[1;33m \u001b[0mclf_tuned\u001b[0m\u001b[1;33m=\u001b[0m\u001b[0mmodelTune\u001b[0m\u001b[1;33m(\u001b[0m\u001b[0mclf\u001b[0m\u001b[1;33m,\u001b[0m \u001b[0mparams\u001b[0m\u001b[1;33m,\u001b[0m\u001b[0mX_train\u001b[0m\u001b[1;33m,\u001b[0m\u001b[0my_train\u001b[0m\u001b[1;33m)\u001b[0m\u001b[1;33m\u001b[0m\u001b[0m\n\u001b[0m\u001b[0;32m     17\u001b[0m \u001b[0mtest_GS\u001b[0m\u001b[1;33m,\u001b[0m\u001b[0mtestDelta_GS\u001b[0m\u001b[1;33m,\u001b[0m\u001b[0mtrain_GS\u001b[0m\u001b[1;33m,\u001b[0m\u001b[0mtrainDelta_GS\u001b[0m\u001b[1;33m,\u001b[0m\u001b[0mtimeTrainf_GS\u001b[0m\u001b[1;33m=\u001b[0m\u001b[0mtrain_predict\u001b[0m\u001b[1;33m(\u001b[0m\u001b[0mclf_tuned\u001b[0m\u001b[1;33m,\u001b[0m \u001b[0mX_train\u001b[0m\u001b[1;33m,\u001b[0m \u001b[0my_train\u001b[0m\u001b[1;33m,\u001b[0m \u001b[0mX_test\u001b[0m\u001b[1;33m,\u001b[0m \u001b[0my_test\u001b[0m\u001b[1;33m)\u001b[0m\u001b[1;33m\u001b[0m\u001b[0m\n\u001b[0;32m     18\u001b[0m \u001b[1;33m\u001b[0m\u001b[0m\n",
      "\u001b[1;32m<ipython-input-388-205d55bcc19c>\u001b[0m in \u001b[0;36mmodelTune\u001b[1;34m(clf, params, X, y)\u001b[0m\n\u001b[0;32m     15\u001b[0m                                                    greater_is_better=True)) \n\u001b[0;32m     16\u001b[0m \u001b[1;33m\u001b[0m\u001b[0m\n\u001b[1;32m---> 17\u001b[1;33m     \u001b[0mgrid_search\u001b[0m\u001b[1;33m.\u001b[0m\u001b[0mfit\u001b[0m\u001b[1;33m(\u001b[0m\u001b[0mX\u001b[0m\u001b[1;33m,\u001b[0m \u001b[0my\u001b[0m\u001b[1;33m)\u001b[0m\u001b[1;33m\u001b[0m\u001b[0m\n\u001b[0m\u001b[0;32m     18\u001b[0m \u001b[1;33m\u001b[0m\u001b[0m\n\u001b[0;32m     19\u001b[0m     \u001b[1;31m#reach into the grid search and pull out the best parameters, and set those on clf. probably not necesary, but easier to deal with\u001b[0m\u001b[1;33m\u001b[0m\u001b[1;33m\u001b[0m\u001b[0m\n",
      "\u001b[1;32mC:\\Anaconda2\\lib\\site-packages\\sklearn\\grid_search.pyc\u001b[0m in \u001b[0;36mfit\u001b[1;34m(self, X, y)\u001b[0m\n\u001b[0;32m    802\u001b[0m \u001b[1;33m\u001b[0m\u001b[0m\n\u001b[0;32m    803\u001b[0m         \"\"\"\n\u001b[1;32m--> 804\u001b[1;33m         \u001b[1;32mreturn\u001b[0m \u001b[0mself\u001b[0m\u001b[1;33m.\u001b[0m\u001b[0m_fit\u001b[0m\u001b[1;33m(\u001b[0m\u001b[0mX\u001b[0m\u001b[1;33m,\u001b[0m \u001b[0my\u001b[0m\u001b[1;33m,\u001b[0m \u001b[0mParameterGrid\u001b[0m\u001b[1;33m(\u001b[0m\u001b[0mself\u001b[0m\u001b[1;33m.\u001b[0m\u001b[0mparam_grid\u001b[0m\u001b[1;33m)\u001b[0m\u001b[1;33m)\u001b[0m\u001b[1;33m\u001b[0m\u001b[0m\n\u001b[0m\u001b[0;32m    805\u001b[0m \u001b[1;33m\u001b[0m\u001b[0m\n\u001b[0;32m    806\u001b[0m \u001b[1;33m\u001b[0m\u001b[0m\n",
      "\u001b[1;32mC:\\Anaconda2\\lib\\site-packages\\sklearn\\grid_search.pyc\u001b[0m in \u001b[0;36m_fit\u001b[1;34m(self, X, y, parameter_iterable)\u001b[0m\n\u001b[0;32m    551\u001b[0m                                     \u001b[0mself\u001b[0m\u001b[1;33m.\u001b[0m\u001b[0mfit_params\u001b[0m\u001b[1;33m,\u001b[0m \u001b[0mreturn_parameters\u001b[0m\u001b[1;33m=\u001b[0m\u001b[0mTrue\u001b[0m\u001b[1;33m,\u001b[0m\u001b[1;33m\u001b[0m\u001b[0m\n\u001b[0;32m    552\u001b[0m                                     error_score=self.error_score)\n\u001b[1;32m--> 553\u001b[1;33m                 \u001b[1;32mfor\u001b[0m \u001b[0mparameters\u001b[0m \u001b[1;32min\u001b[0m \u001b[0mparameter_iterable\u001b[0m\u001b[1;33m\u001b[0m\u001b[0m\n\u001b[0m\u001b[0;32m    554\u001b[0m                 for train, test in cv)\n\u001b[0;32m    555\u001b[0m \u001b[1;33m\u001b[0m\u001b[0m\n",
      "\u001b[1;32mC:\\Anaconda2\\lib\\site-packages\\sklearn\\externals\\joblib\\parallel.pyc\u001b[0m in \u001b[0;36m__call__\u001b[1;34m(self, iterable)\u001b[0m\n\u001b[0;32m    810\u001b[0m                 \u001b[1;31m# consumption.\u001b[0m\u001b[1;33m\u001b[0m\u001b[1;33m\u001b[0m\u001b[0m\n\u001b[0;32m    811\u001b[0m                 \u001b[0mself\u001b[0m\u001b[1;33m.\u001b[0m\u001b[0m_iterating\u001b[0m \u001b[1;33m=\u001b[0m \u001b[0mFalse\u001b[0m\u001b[1;33m\u001b[0m\u001b[0m\n\u001b[1;32m--> 812\u001b[1;33m             \u001b[0mself\u001b[0m\u001b[1;33m.\u001b[0m\u001b[0mretrieve\u001b[0m\u001b[1;33m(\u001b[0m\u001b[1;33m)\u001b[0m\u001b[1;33m\u001b[0m\u001b[0m\n\u001b[0m\u001b[0;32m    813\u001b[0m             \u001b[1;31m# Make sure that we get a last message telling us we are done\u001b[0m\u001b[1;33m\u001b[0m\u001b[1;33m\u001b[0m\u001b[0m\n\u001b[0;32m    814\u001b[0m             \u001b[0melapsed_time\u001b[0m \u001b[1;33m=\u001b[0m \u001b[0mtime\u001b[0m\u001b[1;33m.\u001b[0m\u001b[0mtime\u001b[0m\u001b[1;33m(\u001b[0m\u001b[1;33m)\u001b[0m \u001b[1;33m-\u001b[0m \u001b[0mself\u001b[0m\u001b[1;33m.\u001b[0m\u001b[0m_start_time\u001b[0m\u001b[1;33m\u001b[0m\u001b[0m\n",
      "\u001b[1;32mC:\\Anaconda2\\lib\\site-packages\\sklearn\\externals\\joblib\\parallel.pyc\u001b[0m in \u001b[0;36mretrieve\u001b[1;34m(self)\u001b[0m\n\u001b[0;32m    760\u001b[0m                         \u001b[1;31m# a working pool as they expect.\u001b[0m\u001b[1;33m\u001b[0m\u001b[1;33m\u001b[0m\u001b[0m\n\u001b[0;32m    761\u001b[0m                         \u001b[0mself\u001b[0m\u001b[1;33m.\u001b[0m\u001b[0m_initialize_pool\u001b[0m\u001b[1;33m(\u001b[0m\u001b[1;33m)\u001b[0m\u001b[1;33m\u001b[0m\u001b[0m\n\u001b[1;32m--> 762\u001b[1;33m                 \u001b[1;32mraise\u001b[0m \u001b[0mexception\u001b[0m\u001b[1;33m\u001b[0m\u001b[0m\n\u001b[0m\u001b[0;32m    763\u001b[0m \u001b[1;33m\u001b[0m\u001b[0m\n\u001b[0;32m    764\u001b[0m     \u001b[1;32mdef\u001b[0m \u001b[0m__call__\u001b[0m\u001b[1;33m(\u001b[0m\u001b[0mself\u001b[0m\u001b[1;33m,\u001b[0m \u001b[0miterable\u001b[0m\u001b[1;33m)\u001b[0m\u001b[1;33m:\u001b[0m\u001b[1;33m\u001b[0m\u001b[0m\n",
      "\u001b[1;31mJoblibValueError\u001b[0m: JoblibValueError\n___________________________________________________________________________\nMultiprocessing exception:\n...........................................................................\nC:\\Anaconda2\\lib\\runpy.py in _run_module_as_main(mod_name='ipykernel.__main__', alter_argv=1)\n    157     pkg_name = mod_name.rpartition('.')[0]\n    158     main_globals = sys.modules[\"__main__\"].__dict__\n    159     if alter_argv:\n    160         sys.argv[0] = fname\n    161     return _run_code(code, main_globals, None,\n--> 162                      \"__main__\", fname, loader, pkg_name)\n        fname = r'C:\\Anaconda2\\lib\\site-packages\\ipykernel\\__main__.py'\n        loader = <pkgutil.ImpLoader instance>\n        pkg_name = 'ipykernel'\n    163 \n    164 def run_module(mod_name, init_globals=None,\n    165                run_name=None, alter_sys=False):\n    166     \"\"\"Execute a module's code without importing it\n\n...........................................................................\nC:\\Anaconda2\\lib\\runpy.py in _run_code(code=<code object <module> at 000000000226FBB0, file ...lib\\site-packages\\ipykernel\\__main__.py\", line 1>, run_globals={'__builtins__': <module '__builtin__' (built-in)>, '__doc__': None, '__file__': r'C:\\Anaconda2\\lib\\site-packages\\ipykernel\\__main__.py', '__loader__': <pkgutil.ImpLoader instance>, '__name__': '__main__', '__package__': 'ipykernel', 'app': <module 'ipykernel.kernelapp' from 'C:\\Anaconda2\\lib\\site-packages\\ipykernel\\kernelapp.pyc'>}, init_globals=None, mod_name='__main__', mod_fname=r'C:\\Anaconda2\\lib\\site-packages\\ipykernel\\__main__.py', mod_loader=<pkgutil.ImpLoader instance>, pkg_name='ipykernel')\n     67         run_globals.update(init_globals)\n     68     run_globals.update(__name__ = mod_name,\n     69                        __file__ = mod_fname,\n     70                        __loader__ = mod_loader,\n     71                        __package__ = pkg_name)\n---> 72     exec code in run_globals\n        code = <code object <module> at 000000000226FBB0, file ...lib\\site-packages\\ipykernel\\__main__.py\", line 1>\n        run_globals = {'__builtins__': <module '__builtin__' (built-in)>, '__doc__': None, '__file__': r'C:\\Anaconda2\\lib\\site-packages\\ipykernel\\__main__.py', '__loader__': <pkgutil.ImpLoader instance>, '__name__': '__main__', '__package__': 'ipykernel', 'app': <module 'ipykernel.kernelapp' from 'C:\\Anaconda2\\lib\\site-packages\\ipykernel\\kernelapp.pyc'>}\n     73     return run_globals\n     74 \n     75 def _run_module_code(code, init_globals=None,\n     76                     mod_name=None, mod_fname=None,\n\n...........................................................................\nC:\\Anaconda2\\lib\\site-packages\\ipykernel\\__main__.py in <module>()\n      1 \n      2 \n----> 3 \n      4 if __name__ == '__main__':\n      5     from ipykernel import kernelapp as app\n      6     app.launch_new_instance()\n      7 \n      8 \n      9 \n     10 \n\n...........................................................................\nC:\\Anaconda2\\lib\\site-packages\\traitlets\\config\\application.py in launch_instance(cls=<class 'ipykernel.kernelapp.IPKernelApp'>, argv=None, **kwargs={})\n    584         \n    585         If a global instance already exists, this reinitializes and starts it\n    586         \"\"\"\n    587         app = cls.instance(**kwargs)\n    588         app.initialize(argv)\n--> 589         app.start()\n        app.start = <bound method IPKernelApp.start of <ipykernel.kernelapp.IPKernelApp object>>\n    590 \n    591 #-----------------------------------------------------------------------------\n    592 # utility functions, for convenience\n    593 #-----------------------------------------------------------------------------\n\n...........................................................................\nC:\\Anaconda2\\lib\\site-packages\\ipykernel\\kernelapp.py in start(self=<ipykernel.kernelapp.IPKernelApp object>)\n    398         \n    399         if self.poller is not None:\n    400             self.poller.start()\n    401         self.kernel.start()\n    402         try:\n--> 403             ioloop.IOLoop.instance().start()\n    404         except KeyboardInterrupt:\n    405             pass\n    406 \n    407 launch_new_instance = IPKernelApp.launch_instance\n\n...........................................................................\nC:\\Anaconda2\\lib\\site-packages\\zmq\\eventloop\\ioloop.py in start(self=<zmq.eventloop.ioloop.ZMQIOLoop object>)\n    146             PollIOLoop.configure(ZMQIOLoop)\n    147         return PollIOLoop.instance()\n    148     \n    149     def start(self):\n    150         try:\n--> 151             super(ZMQIOLoop, self).start()\n        self.start = <bound method ZMQIOLoop.start of <zmq.eventloop.ioloop.ZMQIOLoop object>>\n    152         except ZMQError as e:\n    153             if e.errno == ETERM:\n    154                 # quietly return on ETERM\n    155                 pass\n\n...........................................................................\nC:\\Anaconda2\\lib\\site-packages\\tornado\\ioloop.py in start(self=<zmq.eventloop.ioloop.ZMQIOLoop object>)\n    878                 self._events.update(event_pairs)\n    879                 while self._events:\n    880                     fd, events = self._events.popitem()\n    881                     try:\n    882                         fd_obj, handler_func = self._handlers[fd]\n--> 883                         handler_func(fd_obj, events)\n        handler_func = <function null_wrapper>\n        fd_obj = <zmq.sugar.socket.Socket object>\n        events = 1\n    884                     except (OSError, IOError) as e:\n    885                         if errno_from_exception(e) == errno.EPIPE:\n    886                             # Happens when the client closes the connection\n    887                             pass\n\n...........................................................................\nC:\\Anaconda2\\lib\\site-packages\\tornado\\stack_context.py in null_wrapper(*args=(<zmq.sugar.socket.Socket object>, 1), **kwargs={})\n    270         # Fast path when there are no active contexts.\n    271         def null_wrapper(*args, **kwargs):\n    272             try:\n    273                 current_state = _state.contexts\n    274                 _state.contexts = cap_contexts[0]\n--> 275                 return fn(*args, **kwargs)\n        args = (<zmq.sugar.socket.Socket object>, 1)\n        kwargs = {}\n    276             finally:\n    277                 _state.contexts = current_state\n    278         null_wrapper._wrapped = True\n    279         return null_wrapper\n\n...........................................................................\nC:\\Anaconda2\\lib\\site-packages\\zmq\\eventloop\\zmqstream.py in _handle_events(self=<zmq.eventloop.zmqstream.ZMQStream object>, fd=<zmq.sugar.socket.Socket object>, events=1)\n    428             # dispatch events:\n    429             if events & IOLoop.ERROR:\n    430                 gen_log.error(\"got POLLERR event on ZMQStream, which doesn't make sense\")\n    431                 return\n    432             if events & IOLoop.READ:\n--> 433                 self._handle_recv()\n        self._handle_recv = <bound method ZMQStream._handle_recv of <zmq.eventloop.zmqstream.ZMQStream object>>\n    434                 if not self.socket:\n    435                     return\n    436             if events & IOLoop.WRITE:\n    437                 self._handle_send()\n\n...........................................................................\nC:\\Anaconda2\\lib\\site-packages\\zmq\\eventloop\\zmqstream.py in _handle_recv(self=<zmq.eventloop.zmqstream.ZMQStream object>)\n    460                 gen_log.error(\"RECV Error: %s\"%zmq.strerror(e.errno))\n    461         else:\n    462             if self._recv_callback:\n    463                 callback = self._recv_callback\n    464                 # self._recv_callback = None\n--> 465                 self._run_callback(callback, msg)\n        self._run_callback = <bound method ZMQStream._run_callback of <zmq.eventloop.zmqstream.ZMQStream object>>\n        callback = <function null_wrapper>\n        msg = [<zmq.sugar.frame.Frame object>, <zmq.sugar.frame.Frame object>, <zmq.sugar.frame.Frame object>, <zmq.sugar.frame.Frame object>, <zmq.sugar.frame.Frame object>, <zmq.sugar.frame.Frame object>, <zmq.sugar.frame.Frame object>]\n    466                 \n    467         # self.update_state()\n    468         \n    469 \n\n...........................................................................\nC:\\Anaconda2\\lib\\site-packages\\zmq\\eventloop\\zmqstream.py in _run_callback(self=<zmq.eventloop.zmqstream.ZMQStream object>, callback=<function null_wrapper>, *args=([<zmq.sugar.frame.Frame object>, <zmq.sugar.frame.Frame object>, <zmq.sugar.frame.Frame object>, <zmq.sugar.frame.Frame object>, <zmq.sugar.frame.Frame object>, <zmq.sugar.frame.Frame object>, <zmq.sugar.frame.Frame object>],), **kwargs={})\n    402         close our socket.\"\"\"\n    403         try:\n    404             # Use a NullContext to ensure that all StackContexts are run\n    405             # inside our blanket exception handler rather than outside.\n    406             with stack_context.NullContext():\n--> 407                 callback(*args, **kwargs)\n        callback = <function null_wrapper>\n        args = ([<zmq.sugar.frame.Frame object>, <zmq.sugar.frame.Frame object>, <zmq.sugar.frame.Frame object>, <zmq.sugar.frame.Frame object>, <zmq.sugar.frame.Frame object>, <zmq.sugar.frame.Frame object>, <zmq.sugar.frame.Frame object>],)\n        kwargs = {}\n    408         except:\n    409             gen_log.error(\"Uncaught exception, closing connection.\",\n    410                           exc_info=True)\n    411             # Close the socket on an uncaught exception from a user callback\n\n...........................................................................\nC:\\Anaconda2\\lib\\site-packages\\tornado\\stack_context.py in null_wrapper(*args=([<zmq.sugar.frame.Frame object>, <zmq.sugar.frame.Frame object>, <zmq.sugar.frame.Frame object>, <zmq.sugar.frame.Frame object>, <zmq.sugar.frame.Frame object>, <zmq.sugar.frame.Frame object>, <zmq.sugar.frame.Frame object>],), **kwargs={})\n    270         # Fast path when there are no active contexts.\n    271         def null_wrapper(*args, **kwargs):\n    272             try:\n    273                 current_state = _state.contexts\n    274                 _state.contexts = cap_contexts[0]\n--> 275                 return fn(*args, **kwargs)\n        args = ([<zmq.sugar.frame.Frame object>, <zmq.sugar.frame.Frame object>, <zmq.sugar.frame.Frame object>, <zmq.sugar.frame.Frame object>, <zmq.sugar.frame.Frame object>, <zmq.sugar.frame.Frame object>, <zmq.sugar.frame.Frame object>],)\n        kwargs = {}\n    276             finally:\n    277                 _state.contexts = current_state\n    278         null_wrapper._wrapped = True\n    279         return null_wrapper\n\n...........................................................................\nC:\\Anaconda2\\lib\\site-packages\\ipykernel\\kernelbase.py in dispatcher(msg=[<zmq.sugar.frame.Frame object>, <zmq.sugar.frame.Frame object>, <zmq.sugar.frame.Frame object>, <zmq.sugar.frame.Frame object>, <zmq.sugar.frame.Frame object>, <zmq.sugar.frame.Frame object>, <zmq.sugar.frame.Frame object>])\n    255         if self.control_stream:\n    256             self.control_stream.on_recv(self.dispatch_control, copy=False)\n    257 \n    258         def make_dispatcher(stream):\n    259             def dispatcher(msg):\n--> 260                 return self.dispatch_shell(stream, msg)\n        msg = [<zmq.sugar.frame.Frame object>, <zmq.sugar.frame.Frame object>, <zmq.sugar.frame.Frame object>, <zmq.sugar.frame.Frame object>, <zmq.sugar.frame.Frame object>, <zmq.sugar.frame.Frame object>, <zmq.sugar.frame.Frame object>]\n    261             return dispatcher\n    262 \n    263         for s in self.shell_streams:\n    264             s.on_recv(make_dispatcher(s), copy=False)\n\n...........................................................................\nC:\\Anaconda2\\lib\\site-packages\\ipykernel\\kernelbase.py in dispatch_shell(self=<ipykernel.ipkernel.IPythonKernel object>, stream=<zmq.eventloop.zmqstream.ZMQStream object>, msg={'buffers': [], 'content': {u'allow_stdin': True, u'code': u'\\nprint \"best classifier was:\"\\nclf=linear_mod...est_def,\" GS F1:\",test_GS,\"\\\\n\" #after gridseach', u'silent': False, u'stop_on_error': True, u'store_history': True, u'user_expressions': {}}, 'header': {'date': '2016-04-01T16:11:43.726000', u'msg_id': u'6B55CDE241B048508451C1991E72CA54', u'msg_type': u'execute_request', u'session': u'719FA251CC25477D9400B6D16AE9084D', u'username': u'username', u'version': u'5.0'}, 'metadata': {}, 'msg_id': u'6B55CDE241B048508451C1991E72CA54', 'msg_type': u'execute_request', 'parent_header': {}})\n    207             self.log.error(\"UNKNOWN MESSAGE TYPE: %r\", msg_type)\n    208         else:\n    209             self.log.debug(\"%s: %s\", msg_type, msg)\n    210             self.pre_handler_hook()\n    211             try:\n--> 212                 handler(stream, idents, msg)\n        handler = <bound method IPythonKernel.execute_request of <ipykernel.ipkernel.IPythonKernel object>>\n        stream = <zmq.eventloop.zmqstream.ZMQStream object>\n        idents = ['719FA251CC25477D9400B6D16AE9084D']\n        msg = {'buffers': [], 'content': {u'allow_stdin': True, u'code': u'\\nprint \"best classifier was:\"\\nclf=linear_mod...est_def,\" GS F1:\",test_GS,\"\\\\n\" #after gridseach', u'silent': False, u'stop_on_error': True, u'store_history': True, u'user_expressions': {}}, 'header': {'date': '2016-04-01T16:11:43.726000', u'msg_id': u'6B55CDE241B048508451C1991E72CA54', u'msg_type': u'execute_request', u'session': u'719FA251CC25477D9400B6D16AE9084D', u'username': u'username', u'version': u'5.0'}, 'metadata': {}, 'msg_id': u'6B55CDE241B048508451C1991E72CA54', 'msg_type': u'execute_request', 'parent_header': {}}\n    213             except Exception:\n    214                 self.log.error(\"Exception in message handler:\", exc_info=True)\n    215             finally:\n    216                 self.post_handler_hook()\n\n...........................................................................\nC:\\Anaconda2\\lib\\site-packages\\ipykernel\\kernelbase.py in execute_request(self=<ipykernel.ipkernel.IPythonKernel object>, stream=<zmq.eventloop.zmqstream.ZMQStream object>, ident=['719FA251CC25477D9400B6D16AE9084D'], parent={'buffers': [], 'content': {u'allow_stdin': True, u'code': u'\\nprint \"best classifier was:\"\\nclf=linear_mod...est_def,\" GS F1:\",test_GS,\"\\\\n\" #after gridseach', u'silent': False, u'stop_on_error': True, u'store_history': True, u'user_expressions': {}}, 'header': {'date': '2016-04-01T16:11:43.726000', u'msg_id': u'6B55CDE241B048508451C1991E72CA54', u'msg_type': u'execute_request', u'session': u'719FA251CC25477D9400B6D16AE9084D', u'username': u'username', u'version': u'5.0'}, 'metadata': {}, 'msg_id': u'6B55CDE241B048508451C1991E72CA54', 'msg_type': u'execute_request', 'parent_header': {}})\n    365         if not silent:\n    366             self.execution_count += 1\n    367             self._publish_execute_input(code, parent, self.execution_count)\n    368 \n    369         reply_content = self.do_execute(code, silent, store_history,\n--> 370                                         user_expressions, allow_stdin)\n        user_expressions = {}\n        allow_stdin = True\n    371 \n    372         # Flush output before sending the reply.\n    373         sys.stdout.flush()\n    374         sys.stderr.flush()\n\n...........................................................................\nC:\\Anaconda2\\lib\\site-packages\\ipykernel\\ipkernel.py in do_execute(self=<ipykernel.ipkernel.IPythonKernel object>, code=u'\\nprint \"best classifier was:\"\\nclf=linear_mod...est_def,\" GS F1:\",test_GS,\"\\\\n\" #after gridseach', silent=False, store_history=True, user_expressions={}, allow_stdin=True)\n    170 \n    171         reply_content = {}\n    172         # FIXME: the shell calls the exception handler itself.\n    173         shell._reply_content = None\n    174         try:\n--> 175             shell.run_cell(code, store_history=store_history, silent=silent)\n        shell.run_cell = <bound method ZMQInteractiveShell.run_cell of <ipykernel.zmqshell.ZMQInteractiveShell object>>\n        code = u'\\nprint \"best classifier was:\"\\nclf=linear_mod...est_def,\" GS F1:\",test_GS,\"\\\\n\" #after gridseach'\n        store_history = True\n        silent = False\n    176         except:\n    177             status = u'error'\n    178             # FIXME: this code right now isn't being used yet by default,\n    179             # because the run_cell() call above directly fires off exception\n\n...........................................................................\nC:\\Anaconda2\\lib\\site-packages\\IPython\\core\\interactiveshell.py in run_cell(self=<ipykernel.zmqshell.ZMQInteractiveShell object>, raw_cell=u'\\nprint \"best classifier was:\"\\nclf=linear_mod...est_def,\" GS F1:\",test_GS,\"\\\\n\" #after gridseach', store_history=True, silent=False, shell_futures=True)\n   2718                 self.displayhook.exec_result = result\n   2719 \n   2720                 # Execute the user code\n   2721                 interactivity = \"none\" if silent else self.ast_node_interactivity\n   2722                 self.run_ast_nodes(code_ast.body, cell_name,\n-> 2723                    interactivity=interactivity, compiler=compiler, result=result)\n        interactivity = 'last_expr'\n        compiler = <IPython.core.compilerop.CachingCompiler instance>\n   2724 \n   2725                 # Reset this so later displayed values do not modify the\n   2726                 # ExecutionResult\n   2727                 self.displayhook.exec_result = None\n\n...........................................................................\nC:\\Anaconda2\\lib\\site-packages\\IPython\\core\\interactiveshell.py in run_ast_nodes(self=<ipykernel.zmqshell.ZMQInteractiveShell object>, nodelist=[<_ast.Print object>, <_ast.Assign object>, <_ast.Assign object>, <_ast.Print object>, <_ast.Assign object>, <_ast.Assign object>, <_ast.Assign object>, <_ast.Print object>, <_ast.Print object>, <_ast.If object>], cell_name='<ipython-input-389-238ccd5d1420>', interactivity='none', compiler=<IPython.core.compilerop.CachingCompiler instance>, result=<IPython.core.interactiveshell.ExecutionResult object>)\n   2820 \n   2821         try:\n   2822             for i, node in enumerate(to_run_exec):\n   2823                 mod = ast.Module([node])\n   2824                 code = compiler(mod, cell_name, \"exec\")\n-> 2825                 if self.run_code(code, result):\n        self.run_code = <bound method ZMQInteractiveShell.run_code of <ipykernel.zmqshell.ZMQInteractiveShell object>>\n        code = <code object <module> at 000000002113FAB0, file \"<ipython-input-389-238ccd5d1420>\", line 16>\n        result = <IPython.core.interactiveshell.ExecutionResult object>\n   2826                     return True\n   2827 \n   2828             for i, node in enumerate(to_run_interactive):\n   2829                 mod = ast.Interactive([node])\n\n...........................................................................\nC:\\Anaconda2\\lib\\site-packages\\IPython\\core\\interactiveshell.py in run_code(self=<ipykernel.zmqshell.ZMQInteractiveShell object>, code_obj=<code object <module> at 000000002113FAB0, file \"<ipython-input-389-238ccd5d1420>\", line 16>, result=<IPython.core.interactiveshell.ExecutionResult object>)\n   2880         outflag = 1  # happens in more places, so it's easier as default\n   2881         try:\n   2882             try:\n   2883                 self.hooks.pre_run_code_hook()\n   2884                 #rprint('Running code', repr(code_obj)) # dbg\n-> 2885                 exec(code_obj, self.user_global_ns, self.user_ns)\n        code_obj = <code object <module> at 000000002113FAB0, file \"<ipython-input-389-238ccd5d1420>\", line 16>\n        self.user_global_ns = {'ALLOW_THREADS': 1, 'Annotation': <class 'matplotlib.text.Annotation'>, 'Arrow': <class 'matplotlib.patches.Arrow'>, 'Artist': <class 'matplotlib.artist.Artist'>, 'AutoLocator': <class 'matplotlib.ticker.AutoLocator'>, 'Axes': <class 'matplotlib.axes._axes.Axes'>, 'BUFSIZE': 8192, 'Button': <class 'matplotlib.widgets.Button'>, 'CLIP': 0, 'Circle': <class 'matplotlib.patches.Circle'>, ...}\n        self.user_ns = {'ALLOW_THREADS': 1, 'Annotation': <class 'matplotlib.text.Annotation'>, 'Arrow': <class 'matplotlib.patches.Arrow'>, 'Artist': <class 'matplotlib.artist.Artist'>, 'AutoLocator': <class 'matplotlib.ticker.AutoLocator'>, 'Axes': <class 'matplotlib.axes._axes.Axes'>, 'BUFSIZE': 8192, 'Button': <class 'matplotlib.widgets.Button'>, 'CLIP': 0, 'Circle': <class 'matplotlib.patches.Circle'>, ...}\n   2886             finally:\n   2887                 # Reset our crash handler in place\n   2888                 sys.excepthook = old_excepthook\n   2889         except SystemExit as e:\n\n...........................................................................\nC:\\cygwin\\home\\llathrop\\projects\\udacity-Projects\\student_intervention\\<ipython-input-389-238ccd5d1420> in <module>()\n     11         #'penalty': ['l1', 'l2']\n     12        }\n     13 print \"\\nOriginal clf:\\n\",clf #compare after gridsearch\n     14 test_def,testDelta_def,train_def,trainDelta_def,timeTrainf_def=train_predict(clf, X_train, y_train, X_test, y_test)\n     15 \n---> 16 clf_tuned=modelTune(clf, params,X_train,y_train)\n     17 test_GS,testDelta_GS,train_GS,trainDelta_GS,timeTrainf_GS=train_predict(clf_tuned, X_train, y_train, X_test, y_test)\n     18 \n     19 print \"GridSearch best clf:\\n\",clf_tuned \n     20 \n\n...........................................................................\nC:\\cygwin\\home\\llathrop\\projects\\udacity-Projects\\student_intervention\\<ipython-input-388-205d55bcc19c> in modelTune(clf=LogisticRegression(C=1.0, class_weight=None, dua...ol=0.0001,\n          verbose=0, warm_start=False), params={'C': [0.005, 0.05, 0.5, 1.0, 10.0, 100.0, 0.08]}, X=     school_GP  school_MS  sex_F  sex_M  age  ad...   1       5         4  \n\n[300 rows x 48 columns], y=210    0\n75     1\n104    1\n374    1\n16     1\n66 ...   0\n348    1\n102    1\nName: passed, dtype: int64)\n     12                                n_jobs= -1,\n     13                                scoring=make_scorer(f1_score, \n     14                                                    pos_label=\"yes\",\n     15                                                    greater_is_better=True)) \n     16 \n---> 17     grid_search.fit(X, y)\n     18 \n     19     #reach into the grid search and pull out the best parameters, and set those on clf. probably not necesary, but easier to deal with\n     20     bestGridParams={}\n     21     for bp in grid_search.best_params_:\n\n...........................................................................\nC:\\Anaconda2\\lib\\site-packages\\sklearn\\grid_search.py in fit(self=GridSearchCV(cv=StratifiedShuffleSplit(labels=[0...=make_scorer(f1_score, pos_label=yes), verbose=0), X=     school_GP  school_MS  sex_F  sex_M  age  ad...   1       5         4  \n\n[300 rows x 48 columns], y=210    0\n75     1\n104    1\n374    1\n16     1\n66 ...   0\n348    1\n102    1\nName: passed, dtype: int64)\n    799         y : array-like, shape = [n_samples] or [n_samples, n_output], optional\n    800             Target relative to X for classification or regression;\n    801             None for unsupervised learning.\n    802 \n    803         \"\"\"\n--> 804         return self._fit(X, y, ParameterGrid(self.param_grid))\n        self._fit = <bound method GridSearchCV._fit of GridSearchCV(...make_scorer(f1_score, pos_label=yes), verbose=0)>\n        X =      school_GP  school_MS  sex_F  sex_M  age  ad...   1       5         4  \n\n[300 rows x 48 columns]\n        y = 210    0\n75     1\n104    1\n374    1\n16     1\n66 ...   0\n348    1\n102    1\nName: passed, dtype: int64\n        self.param_grid = {'C': [0.005, 0.05, 0.5, 1.0, 10.0, 100.0, 0.08]}\n    805 \n    806 \n    807 class RandomizedSearchCV(BaseSearchCV):\n    808     \"\"\"Randomized search on hyper parameters.\n\n...........................................................................\nC:\\Anaconda2\\lib\\site-packages\\sklearn\\grid_search.py in _fit(self=GridSearchCV(cv=StratifiedShuffleSplit(labels=[0...=make_scorer(f1_score, pos_label=yes), verbose=0), X=     school_GP  school_MS  sex_F  sex_M  age  ad...   1       5         4  \n\n[300 rows x 48 columns], y=210    0\n75     1\n104    1\n374    1\n16     1\n66 ...   0\n348    1\n102    1\nName: passed, dtype: int64, parameter_iterable=<sklearn.grid_search.ParameterGrid object>)\n    548         )(\n    549             delayed(_fit_and_score)(clone(base_estimator), X, y, self.scorer_,\n    550                                     train, test, self.verbose, parameters,\n    551                                     self.fit_params, return_parameters=True,\n    552                                     error_score=self.error_score)\n--> 553                 for parameters in parameter_iterable\n        parameters = undefined\n        parameter_iterable = <sklearn.grid_search.ParameterGrid object>\n    554                 for train, test in cv)\n    555 \n    556         # Out is a list of triplet: score, estimator, n_test_samples\n    557         n_fits = len(out)\n\n...........................................................................\nC:\\Anaconda2\\lib\\site-packages\\sklearn\\externals\\joblib\\parallel.py in __call__(self=Parallel(n_jobs=-1), iterable=<generator object <genexpr>>)\n    807             if pre_dispatch == \"all\" or n_jobs == 1:\n    808                 # The iterable was consumed all at once by the above for loop.\n    809                 # No need to wait for async callbacks to trigger to\n    810                 # consumption.\n    811                 self._iterating = False\n--> 812             self.retrieve()\n        self.retrieve = <bound method Parallel.retrieve of Parallel(n_jobs=-1)>\n    813             # Make sure that we get a last message telling us we are done\n    814             elapsed_time = time.time() - self._start_time\n    815             self._print('Done %3i out of %3i | elapsed: %s finished',\n    816                         (len(self._output), len(self._output),\n\n---------------------------------------------------------------------------\nSub-process traceback:\n---------------------------------------------------------------------------\nValueError                                         Fri Apr 01 16:11:45 2016\nPID: 15024                           Python 2.7.11: C:\\Anaconda2\\python.exe\n...........................................................................\nC:\\Anaconda2\\lib\\site-packages\\sklearn\\externals\\joblib\\parallel.pyc in __call__(self=<sklearn.externals.joblib.parallel.BatchedCalls object>)\n     67     def __init__(self, iterator_slice):\n     68         self.items = list(iterator_slice)\n     69         self._size = len(self.items)\n     70 \n     71     def __call__(self):\n---> 72         return [func(*args, **kwargs) for func, args, kwargs in self.items]\n     73 \n     74     def __len__(self):\n     75         return self._size\n     76 \n\n...........................................................................\nC:\\Anaconda2\\lib\\site-packages\\sklearn\\cross_validation.pyc in _fit_and_score(estimator=LogisticRegression(C=0.005, class_weight=None, d...ol=0.0001,\n          verbose=0, warm_start=False), X=     school_GP  school_MS  sex_F  sex_M  age  ad...   1       5         4  \n\n[300 rows x 48 columns], y=210    0\n75     1\n104    1\n374    1\n16     1\n66 ...   0\n348    1\n102    1\nName: passed, dtype: int64, scorer=make_scorer(f1_score, pos_label=yes), train=array([119, 150, 250,  77, 297,  40, 188, 218, 1... 146, 113, 127, 247, 111, 102, 255], dtype=int64), test=array([ 61, 241, 277, 235, 294,  44,  72, 200,  ... 5, 180,\n        20, 197,  34, 158], dtype=int64), verbose=0, parameters={'C': 0.005}, fit_params={}, return_train_score=False, return_parameters=True, error_score='raise')\n   1545                              \" numeric value. (Hint: if using 'raise', please\"\n   1546                              \" make sure that it has been spelled correctly.)\"\n   1547                              )\n   1548 \n   1549     else:\n-> 1550         test_score = _score(estimator, X_test, y_test, scorer)\n   1551         if return_train_score:\n   1552             train_score = _score(estimator, X_train, y_train, scorer)\n   1553 \n   1554     scoring_time = time.time() - start_time\n\n...........................................................................\nC:\\Anaconda2\\lib\\site-packages\\sklearn\\cross_validation.pyc in _score(estimator=LogisticRegression(C=0.005, class_weight=None, d...ol=0.0001,\n          verbose=0, warm_start=False), X_test=     school_GP  school_MS  sex_F  sex_M  age  ad...    1       3         0  \n\n[30 rows x 48 columns], y_test=366    1\n205    0\n191    0\n259    0\n188    0\n287...   1\n261    0\n242    0\nName: passed, dtype: int64, scorer=make_scorer(f1_score, pos_label=yes))\n   1601 def _score(estimator, X_test, y_test, scorer):\n   1602     \"\"\"Compute the score of an estimator on a given test set.\"\"\"\n   1603     if y_test is None:\n   1604         score = scorer(estimator, X_test)\n   1605     else:\n-> 1606         score = scorer(estimator, X_test, y_test)\n   1607     if not isinstance(score, numbers.Number):\n   1608         raise ValueError(\"scoring must return a number, got %s (%s) instead.\"\n   1609                          % (str(score), type(score)))\n   1610     return score\n\n...........................................................................\nC:\\Anaconda2\\lib\\site-packages\\sklearn\\metrics\\scorer.pyc in __call__(self=make_scorer(f1_score, pos_label=yes), estimator=LogisticRegression(C=0.005, class_weight=None, d...ol=0.0001,\n          verbose=0, warm_start=False), X=     school_GP  school_MS  sex_F  sex_M  age  ad...    1       3         0  \n\n[30 rows x 48 columns], y_true=366    1\n205    0\n191    0\n259    0\n188    0\n287...   1\n261    0\n242    0\nName: passed, dtype: int64, sample_weight=None)\n     85             return self._sign * self._score_func(y_true, y_pred,\n     86                                                  sample_weight=sample_weight,\n     87                                                  **self._kwargs)\n     88         else:\n     89             return self._sign * self._score_func(y_true, y_pred,\n---> 90                                                  **self._kwargs)\n     91 \n     92 \n     93 class _ProbaScorer(_BaseScorer):\n     94     def __call__(self, clf, X, y, sample_weight=None):\n\n...........................................................................\nC:\\Anaconda2\\lib\\site-packages\\sklearn\\metrics\\classification.pyc in f1_score(y_true=366    1\n205    0\n191    0\n259    0\n188    0\n287...   1\n261    0\n242    0\nName: passed, dtype: int64, y_pred=array([1, 1, 1, 1, 1, 1, 1, 1, 1, 1, 1, 1, 1, 1,..., 1, 1,\n       1, 1, 1, 1, 1, 1, 1], dtype=int64), labels=None, pos_label='yes', average='binary', sample_weight=None)\n    634 \n    635 \n    636     \"\"\"\n    637     return fbeta_score(y_true, y_pred, 1, labels=labels,\n    638                        pos_label=pos_label, average=average,\n--> 639                        sample_weight=sample_weight)\n        average = 'binary'\n    640 \n    641 \n    642 def fbeta_score(y_true, y_pred, beta, labels=None, pos_label=1,\n    643                 average='binary', sample_weight=None):\n\n...........................................................................\nC:\\Anaconda2\\lib\\site-packages\\sklearn\\metrics\\classification.pyc in fbeta_score(y_true=366    1\n205    0\n191    0\n259    0\n188    0\n287...   1\n261    0\n242    0\nName: passed, dtype: int64, y_pred=array([1, 1, 1, 1, 1, 1, 1, 1, 1, 1, 1, 1, 1, 1,..., 1, 1,\n       1, 1, 1, 1, 1, 1, 1], dtype=int64), beta=1, labels=None, pos_label='yes', average='binary', sample_weight=None)\n    751                                                  beta=beta,\n    752                                                  labels=labels,\n    753                                                  pos_label=pos_label,\n    754                                                  average=average,\n    755                                                  warn_for=('f-score',),\n--> 756                                                  sample_weight=sample_weight)\n    757     return f\n    758 \n    759 \n    760 def _prf_divide(numerator, denominator, metric, modifier, average, warn_for):\n\n...........................................................................\nC:\\Anaconda2\\lib\\site-packages\\sklearn\\metrics\\classification.pyc in precision_recall_fscore_support(y_true=array([1, 0, 0, 0, 0, 1, 1, 1, 1, 1, 1, 1, 1, 1,..., 1, 1,\n       1, 1, 1, 1, 1, 0, 0], dtype=int64), y_pred=array([1, 1, 1, 1, 1, 1, 1, 1, 1, 1, 1, 1, 1, 1,..., 1, 1,\n       1, 1, 1, 1, 1, 1, 1], dtype=int64), beta=1, labels=None, pos_label='yes', average='binary', warn_for=('f-score',), sample_weight=None)\n    979                 if len(present_labels) < 2:\n    980                     # Only negative labels\n    981                     return (0., 0., 0., 0)\n    982                 else:\n    983                     raise ValueError(\"pos_label=%r is not a valid label: %r\" %\n--> 984                                      (pos_label, present_labels))\n    985             labels = [pos_label]\n    986     if labels is None:\n    987         labels = present_labels\n    988         n_labels = None\n\nValueError: pos_label='yes' is not a valid label: array([0, 1], dtype=int64)\n___________________________________________________________________________"
     ]
    }
   ],
   "source": [
    "\n",
    "print \"best classifier was:\"\n",
    "clf=linear_model.LogisticRegression(n_jobs =-1)\n",
    "\n",
    "params={'C' : [.005,.05,.5,1.,10.,100.,0.08],\n",
    "        #'fit_intercept' : [True, False],\n",
    "        #'class_weight': [ None,'balanced'],\n",
    "        #'random_state' : [None,42],\n",
    "        #'solver' : ['newton-cg', 'lbfgs', 'liblinear'],#, 'sag'],\n",
    "        #'tol': [0.00001,0.0001,.001],\n",
    "        #'penalty': ['l1', 'l2']\n",
    "       }\n",
    "print \"\\nOriginal clf:\\n\",clf #compare after gridsearch\n",
    "test_def,testDelta_def,train_def,trainDelta_def,timeTrainf_def=train_predict(clf, X_train, y_train, X_test, y_test)\n",
    "\n",
    "clf_tuned=modelTune(clf, params,X_train,y_train)\n",
    "test_GS,testDelta_GS,train_GS,trainDelta_GS,timeTrainf_GS=train_predict(clf_tuned, X_train, y_train, X_test, y_test)\n",
    "\n",
    "print \"GridSearch best clf:\\n\",clf_tuned \n",
    "\n",
    "# the dataset is small gridsearch may not provide a better set of parameters than the default\n",
    "# We'll check for that situation and return the best options F1 score for the full data set\n",
    "print \"------------------------------------------\"\n",
    "if test_GS >test_def: \n",
    "    print \"\\nFinal clf_GS, F1 score:\",test_GS,\" def F1:\",test_def,\"\\n\" #after gridseach\n",
    "\n",
    "else:\n",
    "    print \"\\nFinal clf_def, F1 score:\",test_def,\" GS F1:\",test_GS,\"\\n\" #after gridseach"
   ]
  },
  {
   "cell_type": "code",
   "execution_count": 378,
   "metadata": {
    "collapsed": false,
    "scrolled": true
   },
   "outputs": [
    {
     "name": "stdout",
     "output_type": "stream",
     "text": [
      "next best: AdaBoostClassifier\n",
      "AdaBoostClassifier(algorithm='SAMME.R', base_estimator=None,\n",
      "          learning_rate=1.0, n_estimators=50, random_state=None)\n",
      "GridSearch best clf:\n",
      "AdaBoostClassifier(algorithm='SAMME.R', base_estimator=None,\n",
      "          learning_rate=0.96, n_estimators=25, random_state=None)\n",
      "------------------------------------------\n",
      "\n",
      "Final clf_def, F1 score: 0.781954887218  GS F1: 0.766917293233 \n",
      "\n"
     ]
    }
   ],
   "source": [
    "clf=ensemble.AdaBoostClassifier()\n",
    "params={'n_estimators' : [25,50,75], \n",
    "        'learning_rate' :[.96,1,1.4]\n",
    "       }\n",
    "print \"next best: AdaBoostClassifier\\n\",clf\n",
    "test_def,testDelta_def,train_def,trainDelta_def,timeTrainf_def=train_predict(clf, X_train, y_train, X_test, y_test)\n",
    "\n",
    "clf_tuned=modelTune(clf, params,X_train,y_train)\n",
    "test_GS,testDelta_GS,train_GS,trainDelta_GS,timeTrainf_GS=train_predict(clf_tuned, X_train, y_train, X_test, y_test)\n",
    "\n",
    "print \"GridSearch best clf:\\n\",clf_tuned \n",
    "\n",
    "# the dataset is small gridsearch may not provide a better set of parameters than the default\n",
    "# We'll check for that situation and return the best options F1 score for the full data set\n",
    "print \"------------------------------------------\"\n",
    "if test_GS >test_def: \n",
    "    print \"\\nFinal clf_GS, F1 score:\",test_GS,\" def F1:\",test_def,\"\\n\" #after gridseach\n",
    "\n",
    "else:\n",
    "    print \"\\nFinal clf_def, F1 score:\",test_def,\" GS F1:\",test_GS,\"\\n\" #after gridseach"
   ]
  },
  {
   "cell_type": "code",
   "execution_count": 377,
   "metadata": {
    "collapsed": false,
    "scrolled": true
   },
   "outputs": [
    {
     "name": "stdout",
     "output_type": "stream",
     "text": [
      "next best: KNeighborsClassifier\n",
      "KNeighborsClassifier(algorithm='auto', leaf_size=30, metric='minkowski',\n",
      "           metric_params=None, n_jobs=-1, n_neighbors=5, p=2,\n",
      "           weights='uniform')\n",
      "GridSearch best clf:\n",
      "KNeighborsClassifier(algorithm='auto', leaf_size=22, metric='minkowski',\n",
      "           metric_params=None, n_jobs=-1, n_neighbors=45, p=2,\n",
      "           weights='uniform')\n",
      "------------------------------------------\n",
      "\n",
      "Final clf_def, F1 score: 0.780141843972  GS F1: 0.779220779221 \n",
      "\n"
     ]
    }
   ],
   "source": [
    "clf=KNeighborsClassifier(n_jobs =-1)\n",
    "params={'leaf_size' : [7,15,22,30,37,45,60], \n",
    "        'n_neighbors' : [7,15,22,30,37,45,60], \n",
    "        'weights':['uniform','distance'], 'p':[1,2]\n",
    "       }\n",
    "print \"next best: KNeighborsClassifier\\n\",clf\n",
    "test_def,testDelta_def,train_def,trainDelta_def,timeTrainf_def=train_predict(clf, X_train, y_train, X_test, y_test)\n",
    "\n",
    "clf_tuned=modelTune(clf, params,X_train,y_train)\n",
    "test_GS,testDelta_GS,train_GS,trainDelta_GS,timeTrainf_GS=train_predict(clf_tuned, X_train, y_train, X_test, y_test)\n",
    "\n",
    "print \"GridSearch best clf:\\n\",clf_tuned \n",
    "\n",
    "# the dataset is small gridsearch may not provide a better set of parameters than the default\n",
    "# We'll check for that situation and return the best options F1 score for the full data set\n",
    "print \"------------------------------------------\"\n",
    "if test_GS >test_def: \n",
    "    print \"\\nFinal clf_GS, F1 score:\",test_GS,\" def F1:\",test_def,\"\\n\" #after gridseach\n",
    "\n",
    "else:\n",
    "    print \"\\nFinal clf_def, F1 score:\",test_def,\" GS F1:\",test_GS,\"\\n\" #after gridseach"
   ]
  },
  {
   "cell_type": "markdown",
   "metadata": {},
   "source": [
    "#EOF"
   ]
  }
 ],
 "metadata": {
  "kernelspec": {
   "display_name": "Python 2",
   "language": "python",
   "name": "python2"
  },
  "language_info": {
   "codemirror_mode": {
    "name": "ipython",
    "version": 2
   },
   "file_extension": ".py",
   "mimetype": "text/x-python",
   "name": "python",
   "nbconvert_exporter": "python",
   "pygments_lexer": "ipython2",
   "version": "2.7.11"
  }
 },
 "nbformat": 4,
 "nbformat_minor": 0
}
