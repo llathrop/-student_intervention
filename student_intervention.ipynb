{
 "cells": [
  {
   "cell_type": "markdown",
   "metadata": {},
   "source": [
    "# Project 2: Supervised Learning\n",
    "### Building a Student Intervention System"
   ]
  },
  {
   "cell_type": "markdown",
   "metadata": {},
   "source": [
    "## 1. Classification vs Regression\n",
    "\n",
    "*Your goal is to identify students who might need early intervention - which type of supervised machine learning problem is this, classification or regression? Why?*\n",
    "\n",
    "This problem is best suited for Classificaton. This is due to the nature of the output, where we require a determination of the student as \"need early intervention\", or not."
   ]
  },
  {
   "cell_type": "markdown",
   "metadata": {},
   "source": [
    "## 2. Exploring the Data\n",
    "\n",
    "Let's go ahead and read in the student dataset first.\n",
    "\n",
    "_To execute a code cell, click inside it and press **Shift+Enter**._"
   ]
  },
  {
   "cell_type": "code",
   "execution_count": 3,
   "metadata": {
    "collapsed": false,
    "scrolled": true
   },
   "outputs": [],
   "source": [
    "# Import libraries\n",
    "import numpy as np\n",
    "import pandas as pd"
   ]
  },
  {
   "cell_type": "code",
   "execution_count": 4,
   "metadata": {
    "collapsed": false,
    "scrolled": true
   },
   "outputs": [
    {
     "name": "stdout",
     "output_type": "stream",
     "text": [
      "Student data read successfully!\n"
     ]
    }
   ],
   "source": [
    "# Read student data\n",
    "student_data = pd.read_csv(\"student-data.csv\")\n",
    "print \"Student data read successfully!\"\n",
    "# Note: The last column 'passed' is the target/label, all other are feature columns\n"
   ]
  },
  {
   "cell_type": "markdown",
   "metadata": {},
   "source": [
    "Now, can you find out the following facts about the dataset?\n",
    "- Total number of students\n",
    "- Number of students who passed\n",
    "- Number of students who failed\n",
    "- Graduation rate of the class (%)\n",
    "- Number of features\n",
    "\n",
    "_Use the code block below to compute these values. Instructions/steps are marked using **TODO**s._"
   ]
  },
  {
   "cell_type": "code",
   "execution_count": 5,
   "metadata": {
    "collapsed": false,
    "scrolled": true
   },
   "outputs": [
    {
     "name": "stdout",
     "output_type": "stream",
     "text": [
      "Total number of students: 395\n",
      "Number of students who passed: 265\n",
      "Number of students who failed: 130\n",
      "Number of features: 31\n",
      "Graduation rate of the class: 0.67%\n"
     ]
    }
   ],
   "source": [
    "# TODO: Compute desired values - replace each '?' with an appropriate expression/function call\n",
    "n_students =student_data.shape[0]\n",
    "n_features = student_data.shape[1]\n",
    "n_passed = student_data[student_data['passed']=='yes'].shape[0]\n",
    "n_failed = student_data[student_data['passed']=='no'].shape[0]\n",
    "grad_rate = n_passed/float(n_students)\n",
    "print \"Total number of students: {}\".format(n_students)\n",
    "print \"Number of students who passed: {}\".format(n_passed)\n",
    "print \"Number of students who failed: {}\".format(n_failed)\n",
    "print \"Number of features: {}\".format(n_features)\n",
    "print \"Graduation rate of the class: {:.2f}%\".format(grad_rate)"
   ]
  },
  {
   "cell_type": "markdown",
   "metadata": {},
   "source": [
    "## 3. Preparing the Data\n",
    "In this section, we will prepare the data for modeling, training and testing.\n",
    "\n",
    "### Identify feature and target columns\n",
    "It is often the case that the data you obtain contains non-numeric features. This can be a problem, as most machine learning algorithms expect numeric data to perform computations with.\n",
    "\n",
    "Let's first separate our data into feature and target columns, and see if any features are non-numeric.<br/>\n",
    "**Note**: For this dataset, the last column (`'passed'`) is the target or label we are trying to predict."
   ]
  },
  {
   "cell_type": "code",
   "execution_count": 6,
   "metadata": {
    "collapsed": false,
    "scrolled": true
   },
   "outputs": [
    {
     "name": "stdout",
     "output_type": "stream",
     "text": [
      "Feature column(s):-\n",
      "['school', 'sex', 'age', 'address', 'famsize', 'Pstatus', 'Medu', 'Fedu', 'Mjob', 'Fjob', 'reason', 'guardian', 'traveltime', 'studytime', 'failures', 'schoolsup', 'famsup', 'paid', 'activities', 'nursery', 'higher', 'internet', 'romantic', 'famrel', 'freetime', 'goout', 'Dalc', 'Walc', 'health', 'absences']\n",
      "Target column: passed\n",
      "\n",
      "Feature values:-\n",
      "  school sex  age address famsize Pstatus  Medu  Fedu     Mjob      Fjob  \\\n",
      "0     GP   F   18       U     GT3       A     4     4  at_home   teacher   \n",
      "1     GP   F   17       U     GT3       T     1     1  at_home     other   \n",
      "2     GP   F   15       U     LE3       T     1     1  at_home     other   \n",
      "3     GP   F   15       U     GT3       T     4     2   health  services   \n",
      "4     GP   F   16       U     GT3       T     3     3    other     other   \n",
      "\n",
      "    ...    higher internet  romantic  famrel  freetime goout Dalc Walc health  \\\n",
      "0   ...       yes       no        no       4         3     4    1    1      3   \n",
      "1   ...       yes      yes        no       5         3     3    1    1      3   \n",
      "2   ...       yes      yes        no       4         3     2    2    3      3   \n",
      "3   ...       yes      yes       yes       3         2     2    1    1      5   \n",
      "4   ...       yes       no        no       4         3     2    1    2      5   \n",
      "\n",
      "  absences  \n",
      "0        6  \n",
      "1        4  \n",
      "2       10  \n",
      "3        2  \n",
      "4        4  \n",
      "\n",
      "[5 rows x 30 columns]\n"
     ]
    }
   ],
   "source": [
    "# Extract feature (X) and target (y) columns\n",
    "feature_cols = list(student_data.columns[:-1])  # all columns but last are features\n",
    "target_col = student_data.columns[-1]  # last column is the target/label\n",
    "print \"Feature column(s):-\\n{}\".format(feature_cols)\n",
    "print \"Target column: {}\".format(target_col)\n",
    "\n",
    "X_all = student_data[feature_cols]  # feature values for all students\n",
    "y_all = student_data[target_col]  # corresponding targets/labels\n",
    "print \"\\nFeature values:-\"\n",
    "print X_all.head()  # print the first 5 rows"
   ]
  },
  {
   "cell_type": "markdown",
   "metadata": {},
   "source": [
    "### Preprocess feature columns\n",
    "\n",
    "As you can see, there are several non-numeric columns that need to be converted! Many of them are simply `yes`/`no`, e.g. `internet`. These can be reasonably converted into `1`/`0` (binary) values.\n",
    "\n",
    "Other columns, like `Mjob` and `Fjob`, have more than two values, and are known as _categorical variables_. The recommended way to handle such a column is to create as many columns as possible values (e.g. `Fjob_teacher`, `Fjob_other`, `Fjob_services`, etc.), and assign a `1` to one of them and `0` to all others.\n",
    "\n",
    "These generated columns are sometimes called _dummy variables_, and we will use the [`pandas.get_dummies()`](http://pandas.pydata.org/pandas-docs/stable/generated/pandas.get_dummies.html?highlight=get_dummies#pandas.get_dummies) function to perform this transformation."
   ]
  },
  {
   "cell_type": "code",
   "execution_count": 7,
   "metadata": {
    "collapsed": false,
    "scrolled": true
   },
   "outputs": [
    {
     "name": "stdout",
     "output_type": "stream",
     "text": [
      "Processed feature columns (48):-\n",
      "['school_GP', 'school_MS', 'sex_F', 'sex_M', 'age', 'address_R', 'address_U', 'famsize_GT3', 'famsize_LE3', 'Pstatus_A', 'Pstatus_T', 'Medu', 'Fedu', 'Mjob_at_home', 'Mjob_health', 'Mjob_other', 'Mjob_services', 'Mjob_teacher', 'Fjob_at_home', 'Fjob_health', 'Fjob_other', 'Fjob_services', 'Fjob_teacher', 'reason_course', 'reason_home', 'reason_other', 'reason_reputation', 'guardian_father', 'guardian_mother', 'guardian_other', 'traveltime', 'studytime', 'failures', 'schoolsup', 'famsup', 'paid', 'activities', 'nursery', 'higher', 'internet', 'romantic', 'famrel', 'freetime', 'goout', 'Dalc', 'Walc', 'health', 'absences']\n"
     ]
    }
   ],
   "source": [
    "# Preprocess feature columns\n",
    "def preprocess_features(X):\n",
    "    outX = pd.DataFrame(index=X.index)  # output dataframe, initially empty\n",
    "\n",
    "    # Check each column\n",
    "    for col, col_data in X.iteritems():\n",
    "        # If data type is non-numeric, try to replace all yes/no values with 1/0\n",
    "        if col_data.dtype == object:\n",
    "            col_data = col_data.replace(['yes', 'no'], [1, 0])\n",
    "        # Note: This should change the data type for yes/no columns to int\n",
    "\n",
    "        # If still non-numeric, convert to one or more dummy variables\n",
    "        if col_data.dtype == object:\n",
    "            col_data = pd.get_dummies(col_data, prefix=col)  # e.g. 'school' => 'school_GP', 'school_MS'\n",
    "\n",
    "        outX = outX.join(col_data)  # collect column(s) in output dataframe\n",
    "\n",
    "    return outX\n",
    "\n",
    "X_all = preprocess_features(X_all)\n",
    "print \"Processed feature columns ({}):-\\n{}\".format(len(X_all.columns), list(X_all.columns))"
   ]
  },
  {
   "cell_type": "markdown",
   "metadata": {},
   "source": [
    "### Split data into training and test sets\n",
    "\n",
    "So far, we have converted all _categorical_ features into numeric values. In this next step, we split the data (both features and corresponding labels) into training and test sets."
   ]
  },
  {
   "cell_type": "code",
   "execution_count": 8,
   "metadata": {
    "collapsed": false,
    "scrolled": true
   },
   "outputs": [
    {
     "name": "stdout",
     "output_type": "stream",
     "text": [
      "Training set: 300 samples\n",
      "Test set: 95 samples\n"
     ]
    }
   ],
   "source": [
    "# First, decide how many training vs test samples you want\n",
    "num_all = student_data.shape[0]  # same as len(student_data)\n",
    "num_train = 300  # about 75% of the data\n",
    "num_test = num_all - num_train\n",
    "\n",
    "# TODO: Then, select features (X) and corresponding labels (y) for the training and test sets\n",
    "# Note: Shuffle the data or randomly select samples to avoid any bias due to ordering in the dataset\n",
    "\n",
    "from sklearn.cross_validation import train_test_split\n",
    "X_train,X_test,y_train,y_test = train_test_split( X_all, y_all, test_size=num_test, random_state=42)\n",
    "\n",
    "print \"Training set: {} samples\".format(X_train.shape[0])\n",
    "print \"Test set: {} samples\".format(X_test.shape[0])\n",
    "# Note: If you need a validation set, extract it from within training data"
   ]
  },
  {
   "cell_type": "markdown",
   "metadata": {},
   "source": [
    "## 4. Training and Evaluating Models\n",
    "Choose 3 supervised learning models that are available in scikit-learn, and appropriate for this problem. For each model:\n",
    "\n",
    "- What is the theoretical O(n) time & space complexity in terms of input size?\n",
    "- What are the general applications of this model? What are its strengths and weaknesses?\n",
    "- Given what you know about the data so far, why did you choose this model to apply?\n",
    "- Fit this model to the training data, try to predict labels (for both training and test sets), and measure the F<sub>1</sub> score. Repeat this process with different training set sizes (100, 200, 300), keeping test set constant.\n",
    "\n",
    "Produce a table showing training time, prediction time, F<sub>1</sub> score on training set and F<sub>1</sub> score on test set, for each training set size.\n",
    "\n",
    "Note: You need to produce 3 such tables - one for each model."
   ]
  },
  {
   "cell_type": "code",
   "execution_count": 9,
   "metadata": {
    "collapsed": false,
    "scrolled": true
   },
   "outputs": [
    {
     "name": "stdout",
     "output_type": "stream",
     "text": [
      "Training GaussianNB...\n",
      "Done!\n",
      "Training time (secs): 0.004\n",
      "GaussianNB()\n"
     ]
    }
   ],
   "source": [
    "# Train a model\n",
    "import time\n",
    "\n",
    "def train_classifier(clf, X_train, y_train):\n",
    "    print \"Training {}...\".format(clf.__class__.__name__)\n",
    "    start = time.time()\n",
    "    clf.fit(X_train, y_train)\n",
    "    end = time.time()\n",
    "    print \"Done!\\nTraining time (secs): {:.3f}\".format(end - start)\n",
    "\n",
    "# TODO: Choose a model, import it and instantiate an object\n",
    "from sklearn.naive_bayes import GaussianNB\n",
    "clf = GaussianNB()\n",
    "\n",
    "# Fit model to training data\n",
    "train_classifier(clf, X_train, y_train)  # note: using entire training set here\n",
    "print clf  # you can inspect the learned model by printing it"
   ]
  },
  {
   "cell_type": "code",
   "execution_count": 10,
   "metadata": {
    "collapsed": false,
    "scrolled": true
   },
   "outputs": [
    {
     "name": "stdout",
     "output_type": "stream",
     "text": [
      "Predicting labels using GaussianNB...\n",
      "Done!\n",
      "Prediction time (secs): 0.002\n",
      "F1 score for training set: 0.80378250591\n"
     ]
    }
   ],
   "source": [
    "# Predict on training set and compute F1 score\n",
    "from sklearn.metrics import f1_score\n",
    "\n",
    "def predict_labels(clf, features, target):\n",
    "    print \"Predicting labels using {}...\".format(clf.__class__.__name__)\n",
    "    start = time.time()\n",
    "    y_pred = clf.predict(features)\n",
    "    end = time.time()\n",
    "    print \"Done!\\nPrediction time (secs): {:.3f}\".format(end - start)\n",
    "    return f1_score(target.values, y_pred, pos_label='yes')\n",
    "\n",
    "train_f1_score = predict_labels(clf, X_train, y_train)\n",
    "print \"F1 score for training set: {}\".format(train_f1_score)"
   ]
  },
  {
   "cell_type": "code",
   "execution_count": 11,
   "metadata": {
    "collapsed": false,
    "scrolled": true
   },
   "outputs": [
    {
     "name": "stdout",
     "output_type": "stream",
     "text": [
      "Predicting labels using GaussianNB...\n",
      "Done!\n",
      "Prediction time (secs): 0.001\n",
      "F1 score for test set: 0.763358778626\n"
     ]
    }
   ],
   "source": [
    "# Predict on test data\n",
    "print \"F1 score for test set: {}\".format(predict_labels(clf, X_test, y_test))"
   ]
  },
  {
   "cell_type": "code",
   "execution_count": 12,
   "metadata": {
    "collapsed": false,
    "scrolled": true
   },
   "outputs": [
    {
     "name": "stdout",
     "output_type": "stream",
     "text": [
      "------------------------------------------\n",
      "Training set size: 300\n",
      "Training GaussianNB...\n",
      "Done!\n",
      "Training time (secs): 0.002\n",
      "Predicting labels using GaussianNB...\n",
      "Done!\n",
      "Prediction time (secs): 0.002\n",
      "F1 score for training set: 0.80378250591\n",
      "Predicting labels using GaussianNB...\n",
      "Done!\n",
      "Prediction time (secs): 0.002\n",
      "F1 score for test set: 0.763358778626\n",
      "Test: 0.763358778626 Train: 0.80378250591\n"
     ]
    }
   ],
   "source": [
    "# Train and predict using different training set sizes\n",
    "def train_predict(clf, X_train, y_train, X_test, y_test):\n",
    "    print \"------------------------------------------\"\n",
    "    print \"Training set size: {}\".format(len(X_train))\n",
    "    train_classifier(clf, X_train, y_train)\n",
    "    predict_train=predict_labels(clf, X_train, y_train)\n",
    "    print \"F1 score for training set: {}\".format(predict_train)\n",
    "    predict_test=predict_labels(clf, X_test, y_test)\n",
    "    print \"F1 score for test set: {}\".format(predict_test)\n",
    "    return predict_test,predict_train # let's return the scores, so we can use them for comparisons\n",
    "\n",
    "# TODO: Run the helper function above for desired subsets of training data\n",
    "# Note: Keep the test set constant\n",
    "test,train = train_predict(clf, X_train, y_train, X_test, y_test)\n",
    "print \"Test:\",test,\"Train:\",train"
   ]
  },
  {
   "cell_type": "code",
   "execution_count": 112,
   "metadata": {
    "collapsed": false,
    "scrolled": true
   },
   "outputs": [
    {
     "name": "stdout",
     "output_type": "stream",
     "text": [
      "------------------------------------------\n",
      "Training set size: 300\n",
      "Training DecisionTreeClassifier...\n",
      "Done!\n",
      "Training time (secs): 0.002\n",
      "Predicting labels using DecisionTreeClassifier...\n",
      "Done!\n",
      "Prediction time (secs): 0.001\n",
      "F1 score for training set: 1.0\n",
      "Predicting labels using DecisionTreeClassifier...\n",
      "Done!\n",
      "Prediction time (secs): 0.001\n",
      "F1 score for test set: 0.724409448819\n",
      "------------------------------------------\n",
      "Training set size: 300\n",
      "Training KNeighborsClassifier...\n",
      "Done!\n",
      "Training time (secs): 0.001\n",
      "Predicting labels using KNeighborsClassifier...\n",
      "Done!\n",
      "Prediction time (secs): 0.155\n",
      "F1 score for training set: 0.880898876404\n",
      "Predicting labels using KNeighborsClassifier...\n",
      "Done!\n",
      "Prediction time (secs): 0.142\n",
      "F1 score for test set: 0.780141843972\n",
      "------------------------------------------\n",
      "Training set size: 300\n",
      "Training LinearSVC...\n",
      "Done!\n",
      "Training time (secs): 0.055\n",
      "Predicting labels using LinearSVC...\n",
      "Done!\n",
      "Prediction time (secs): 0.000\n",
      "F1 score for training set: 0.603278688525\n",
      "Predicting labels using LinearSVC...\n",
      "Done!\n",
      "Prediction time (secs): 0.000\n",
      "F1 score for test set: 0.666666666667\n",
      "------------------------------------------\n",
      "Training set size: 300\n",
      "Training SVC...\n",
      "Done!\n",
      "Training time (secs): 0.053\n",
      "Predicting labels using SVC...\n",
      "Done!\n",
      "Prediction time (secs): 0.030\n",
      "F1 score for training set: 0.864864864865\n",
      "Predicting labels using SVC...\n",
      "Done!\n",
      "Prediction time (secs): 0.002\n",
      "F1 score for test set: 0.724409448819\n",
      "------------------------------------------\n",
      "Training set size: 300\n",
      "Training LogisticRegression...\n",
      "Done!\n",
      "Training time (secs): 0.017\n",
      "Predicting labels using LogisticRegression...\n",
      "Done!\n",
      "Prediction time (secs): 0.000\n",
      "F1 score for training set: 0.846846846847\n",
      "Predicting labels using LogisticRegression...\n",
      "Done!\n",
      "Prediction time (secs): 0.000\n",
      "F1 score for test set: 0.805970149254\n",
      "------------------------------------------\n",
      "Training set size: 300\n",
      "Training AdaBoostClassifier...\n",
      "Done!\n",
      "Training time (secs): 0.118\n",
      "Predicting labels using AdaBoostClassifier...\n",
      "Done!\n",
      "Prediction time (secs): 0.008\n",
      "F1 score for training set: 0.863741339492\n",
      "Predicting labels using AdaBoostClassifier...\n",
      "Done!\n",
      "Prediction time (secs): 0.007\n",
      "F1 score for test set: 0.781954887218\n",
      "------------------------------------------\n",
      "Training set size: 300\n",
      "Training AdaBoostClassifier...\n",
      "Done!\n",
      "Training time (secs): 0.080\n",
      "Predicting labels using AdaBoostClassifier...\n",
      "Done!\n",
      "Prediction time (secs): 0.029\n",
      "F1 score for training set: 0.529411764706\n",
      "Predicting labels using AdaBoostClassifier...\n",
      "Done!\n",
      "Prediction time (secs): 0.013\n",
      "F1 score for test set: 0.36170212766\n",
      "------------------------------------------\n",
      "Training set size: 300\n",
      "Training AdaBoostClassifier...\n",
      "Done!\n",
      "Training time (secs): 0.127\n",
      "Predicting labels using AdaBoostClassifier...\n",
      "Done!\n",
      "Prediction time (secs): 0.007\n",
      "F1 score for training set: 0.99512195122\n",
      "Predicting labels using AdaBoostClassifier...\n",
      "Done!\n",
      "Prediction time (secs): 0.005\n",
      "F1 score for test set: 0.734375\n",
      "------------------------------------------\n",
      "Training set size: 300\n",
      "Training RandomForestClassifier...\n",
      "Done!\n",
      "Training time (secs): 0.126\n",
      "Predicting labels using RandomForestClassifier...\n",
      "Done!\n",
      "Prediction time (secs): 0.127\n",
      "F1 score for training set: 0.99512195122\n",
      "Predicting labels using RandomForestClassifier...\n",
      "Done!\n",
      "Prediction time (secs): 0.119\n",
      "F1 score for test set: 0.771428571429\n",
      "                              test     train\n",
      "LogisticRegression        0.805970  0.846847\n",
      "AdaBoostClassifier-plain  0.781955  0.863741\n",
      "KNeighborsClassifier      0.780142  0.880899\n"
     ]
    }
   ],
   "source": [
    "# TODO: Train and predict using two other models\n",
    "from sklearn.tree import DecisionTreeClassifier\n",
    "from sklearn.neighbors import KNeighborsClassifier\n",
    "from sklearn.svm import SVC, LinearSVC\n",
    "from sklearn import linear_model, decomposition, datasets, ensemble\n",
    "from sklearn.naive_bayes import GaussianNB\n",
    "#from sklearn.neural_network import MLPClassifier # not in vesion .17\n",
    "\n",
    "def runCLF():\n",
    "    scores={}\n",
    "\n",
    "    clf = DecisionTreeClassifier(class_weight =\"balanced\")\n",
    "    test,train = train_predict(clf, X_train, y_train, X_test, y_test)\n",
    "    scores[\"DecisionTreeClassifier\"]=[test,train]\n",
    "\n",
    "    clf = KNeighborsClassifier(n_jobs =-1)\n",
    "    test,train = train_predict(clf, X_train, y_train, X_test, y_test)\n",
    "    scores[\"KNeighborsClassifier\"]=[test,train]\n",
    "\n",
    "    clf=LinearSVC(class_weight=\"balanced\")\n",
    "    test,train = train_predict(clf, X_train, y_train, X_test, y_test)\n",
    "    scores[\"LinearSVC\"]=[test,train]\n",
    "\n",
    "    clf=SVC(class_weight='balanced')\n",
    "    test,train = train_predict(clf, X_train, y_train, X_test, y_test)\n",
    "    scores[\"SVC\"]=[test,train]\n",
    "\n",
    "    clf=linear_model.LogisticRegression(n_jobs =-1)\n",
    "    test,train = train_predict(clf, X_train, y_train, X_test, y_test)\n",
    "    scores[\"LogisticRegression\"]=[test,train]\n",
    "\n",
    "    clf = ensemble.AdaBoostClassifier()\n",
    "    test,train = train_predict(clf, X_train, y_train, X_test, y_test)\n",
    "    scores[\"AdaBoostClassifier-plain\"]=[test,train]\n",
    "\n",
    "    clf = ensemble.AdaBoostClassifier(GaussianNB())\n",
    "    test,train = train_predict(clf, X_train, y_train, X_test, y_test)\n",
    "    scores[\"AdaBoostClassifier-GaussianNB\"]=[test,train]\n",
    "\n",
    "    clf = ensemble.AdaBoostClassifier(DecisionTreeClassifier(max_depth=2,class_weight =\"balanced\"))\n",
    "    test,train = train_predict(clf, X_train, y_train, X_test, y_test)\n",
    "    scores[\"AdaBoostClassifier-DecisionTreeClassifier\"]=[test,train]\n",
    "\n",
    "    clf = ensemble.RandomForestClassifier(n_jobs =-1,class_weight=\"balanced\")\n",
    "    test,train = train_predict(clf, X_train, y_train, X_test, y_test)\n",
    "    scores[\"RandomForestClassifier\"]=[test,train]\n",
    "\n",
    "    scoresDF= pd.DataFrame(scores,index=['test','train']).T\n",
    "    return scoresDF.sort_values('test',ascending=False)[:3]\n",
    "runs = 1\n",
    "holdData=[]\n",
    "for r in range(runs) :\n",
    "    holdData.append(runCLF())\n",
    "\n",
    "for h in holdData:\n",
    "    print h"
   ]
  },
  {
   "cell_type": "markdown",
   "metadata": {},
   "source": [
    "\n",
    "* What is the theoretical O(n) time & space complexity in terms of input size?\n",
    "* What are the general applications of this model? What are its strengths and weaknesses?\n",
    "* Given what you know about the data so far, why did you choose this model to apply?\n",
    "\n",
    "Experimentaion showed three different models that may best classify the data: LogisticRegression, AdaBoost, and KNeighbors.\n",
    "\n",
    "LogisticRegression has an advantage over the others best methods, in that it is fast to query, and an eager learner, but it must be retrained to use new data.\n",
    "\n",
    "AdaBoost is a boost algorithim\n",
    "\n",
    "KNeighbors is a lazy learner, and requires more resources, but continues to learn as it is given new data."
   ]
  },
  {
   "cell_type": "code",
   "execution_count": null,
   "metadata": {
    "collapsed": true
   },
   "outputs": [],
   "source": []
  },
  {
   "cell_type": "markdown",
   "metadata": {},
   "source": [
    "## 5. Choosing the Best Model\n",
    "\n",
    "- Based on the experiments you performed earlier, in 1-2 paragraphs explain to the board of supervisors what single model you chose as the best model. Which model is generally the most appropriate based on the available data, limited resources, cost, and performance?\n",
    "- In 1-2 paragraphs explain to the board of supervisors in layman's terms how the final model chosen is supposed to work (for example if you chose a Decision Tree or Support Vector Machine, how does it make a prediction).\n",
    "- Fine-tune the model. Use Gridsearch with at least one important parameter tuned and with at least 3 settings. Use the entire training set for this.\n",
    "- What is the model's final F<sub>1</sub> score?"
   ]
  },
  {
   "cell_type": "code",
   "execution_count": 118,
   "metadata": {
    "collapsed": false,
    "scrolled": true
   },
   "outputs": [],
   "source": [
    "# TODO: Fine-tune your model and report the best F1 score\n",
    "\n",
    "def modelTune(clf, params, X, y):\n",
    "    #Fine tune model with grid search\n",
    "    from sklearn.grid_search import GridSearchCV\n",
    "    from sklearn.metrics import make_scorer, f1_score\n",
    "\n",
    "\n",
    "    grid_search = GridSearchCV(clf, \n",
    "                               param_grid=params, \n",
    "                               cv=4, \n",
    "                               n_jobs= 2,\n",
    "                               scoring=make_scorer(f1_score, \n",
    "                                                   pos_label=\"yes\",\n",
    "                                                   greater_is_better=True)) \n",
    "\n",
    "    grid_search.fit(X, y)\n",
    "\n",
    "    #reach into the grid search and pull out the best parameters, and set those on clf. probably not necesary, but easier to deal with\n",
    "    bestGridParams={}\n",
    "    for bp in grid_search.best_params_:\n",
    "        bestGridParams[bp]=grid_search.best_params_[bp]\n",
    "\n",
    "    clf.set_params(**bestGridParams)\n",
    "    return clf\n",
    "    # Check out each parameter combination and it's score:\n",
    "    #for gs in grid_search.grid_scores_:\n",
    "    #    print gs\n"
   ]
  },
  {
   "cell_type": "code",
   "execution_count": 119,
   "metadata": {
    "collapsed": false
   },
   "outputs": [
    {
     "name": "stdout",
     "output_type": "stream",
     "text": [
      "best classifier was:\n",
      "------------------------------------------\n",
      "Training set size: 300\n",
      "Training LogisticRegression...\n",
      "Done!\n",
      "Training time (secs): 0.004\n",
      "Predicting labels using LogisticRegression...\n",
      "Done!\n",
      "Prediction time (secs): 0.000\n",
      "F1 score for training set: 0.846846846847\n",
      "Predicting labels using LogisticRegression...\n",
      "Done!\n",
      "Prediction time (secs): 0.000\n",
      "F1 score for test set: 0.805970149254\n",
      "\n",
      "Original clf:\n",
      "LogisticRegression(C=1.0, class_weight=None, dual=False, fit_intercept=True,\n",
      "          intercept_scaling=1, max_iter=100, multi_class='ovr', n_jobs=-1,\n",
      "          penalty='l2', random_state=None, solver='liblinear', tol=0.0001,\n",
      "          verbose=0, warm_start=False)\n"
     ]
    },
    {
     "ename": "JoblibValueError",
     "evalue": "JoblibValueError\n___________________________________________________________________________\nMultiprocessing exception:\n...........................................................................\nC:\\Anaconda2\\lib\\runpy.py in _run_module_as_main(mod_name='ipykernel.__main__', alter_argv=1)\n    157     pkg_name = mod_name.rpartition('.')[0]\n    158     main_globals = sys.modules[\"__main__\"].__dict__\n    159     if alter_argv:\n    160         sys.argv[0] = fname\n    161     return _run_code(code, main_globals, None,\n--> 162                      \"__main__\", fname, loader, pkg_name)\n        fname = r'C:\\Anaconda2\\lib\\site-packages\\ipykernel\\__main__.py'\n        loader = <pkgutil.ImpLoader instance>\n        pkg_name = 'ipykernel'\n    163 \n    164 def run_module(mod_name, init_globals=None,\n    165                run_name=None, alter_sys=False):\n    166     \"\"\"Execute a module's code without importing it\n\n...........................................................................\nC:\\Anaconda2\\lib\\runpy.py in _run_code(code=<code object <module> at 000000000226FBB0, file ...lib\\site-packages\\ipykernel\\__main__.py\", line 1>, run_globals={'__builtins__': <module '__builtin__' (built-in)>, '__doc__': None, '__file__': r'C:\\Anaconda2\\lib\\site-packages\\ipykernel\\__main__.py', '__loader__': <pkgutil.ImpLoader instance>, '__name__': '__main__', '__package__': 'ipykernel', 'app': <module 'ipykernel.kernelapp' from 'C:\\Anaconda2\\lib\\site-packages\\ipykernel\\kernelapp.pyc'>}, init_globals=None, mod_name='__main__', mod_fname=r'C:\\Anaconda2\\lib\\site-packages\\ipykernel\\__main__.py', mod_loader=<pkgutil.ImpLoader instance>, pkg_name='ipykernel')\n     67         run_globals.update(init_globals)\n     68     run_globals.update(__name__ = mod_name,\n     69                        __file__ = mod_fname,\n     70                        __loader__ = mod_loader,\n     71                        __package__ = pkg_name)\n---> 72     exec code in run_globals\n        code = <code object <module> at 000000000226FBB0, file ...lib\\site-packages\\ipykernel\\__main__.py\", line 1>\n        run_globals = {'__builtins__': <module '__builtin__' (built-in)>, '__doc__': None, '__file__': r'C:\\Anaconda2\\lib\\site-packages\\ipykernel\\__main__.py', '__loader__': <pkgutil.ImpLoader instance>, '__name__': '__main__', '__package__': 'ipykernel', 'app': <module 'ipykernel.kernelapp' from 'C:\\Anaconda2\\lib\\site-packages\\ipykernel\\kernelapp.pyc'>}\n     73     return run_globals\n     74 \n     75 def _run_module_code(code, init_globals=None,\n     76                     mod_name=None, mod_fname=None,\n\n...........................................................................\nC:\\Anaconda2\\lib\\site-packages\\ipykernel\\__main__.py in <module>()\n      1 \n      2 \n----> 3 \n      4 if __name__ == '__main__':\n      5     from ipykernel import kernelapp as app\n      6     app.launch_new_instance()\n      7 \n      8 \n      9 \n     10 \n\n...........................................................................\nC:\\Anaconda2\\lib\\site-packages\\traitlets\\config\\application.py in launch_instance(cls=<class 'ipykernel.kernelapp.IPKernelApp'>, argv=None, **kwargs={})\n    584         \n    585         If a global instance already exists, this reinitializes and starts it\n    586         \"\"\"\n    587         app = cls.instance(**kwargs)\n    588         app.initialize(argv)\n--> 589         app.start()\n        app.start = <bound method IPKernelApp.start of <ipykernel.kernelapp.IPKernelApp object>>\n    590 \n    591 #-----------------------------------------------------------------------------\n    592 # utility functions, for convenience\n    593 #-----------------------------------------------------------------------------\n\n...........................................................................\nC:\\Anaconda2\\lib\\site-packages\\ipykernel\\kernelapp.py in start(self=<ipykernel.kernelapp.IPKernelApp object>)\n    398         \n    399         if self.poller is not None:\n    400             self.poller.start()\n    401         self.kernel.start()\n    402         try:\n--> 403             ioloop.IOLoop.instance().start()\n    404         except KeyboardInterrupt:\n    405             pass\n    406 \n    407 launch_new_instance = IPKernelApp.launch_instance\n\n...........................................................................\nC:\\Anaconda2\\lib\\site-packages\\zmq\\eventloop\\ioloop.py in start(self=<zmq.eventloop.ioloop.ZMQIOLoop object>)\n    146             PollIOLoop.configure(ZMQIOLoop)\n    147         return PollIOLoop.instance()\n    148     \n    149     def start(self):\n    150         try:\n--> 151             super(ZMQIOLoop, self).start()\n        self.start = <bound method ZMQIOLoop.start of <zmq.eventloop.ioloop.ZMQIOLoop object>>\n    152         except ZMQError as e:\n    153             if e.errno == ETERM:\n    154                 # quietly return on ETERM\n    155                 pass\n\n...........................................................................\nC:\\Anaconda2\\lib\\site-packages\\tornado\\ioloop.py in start(self=<zmq.eventloop.ioloop.ZMQIOLoop object>)\n    878                 self._events.update(event_pairs)\n    879                 while self._events:\n    880                     fd, events = self._events.popitem()\n    881                     try:\n    882                         fd_obj, handler_func = self._handlers[fd]\n--> 883                         handler_func(fd_obj, events)\n        handler_func = <function null_wrapper>\n        fd_obj = <zmq.sugar.socket.Socket object>\n        events = 1\n    884                     except (OSError, IOError) as e:\n    885                         if errno_from_exception(e) == errno.EPIPE:\n    886                             # Happens when the client closes the connection\n    887                             pass\n\n...........................................................................\nC:\\Anaconda2\\lib\\site-packages\\tornado\\stack_context.py in null_wrapper(*args=(<zmq.sugar.socket.Socket object>, 1), **kwargs={})\n    270         # Fast path when there are no active contexts.\n    271         def null_wrapper(*args, **kwargs):\n    272             try:\n    273                 current_state = _state.contexts\n    274                 _state.contexts = cap_contexts[0]\n--> 275                 return fn(*args, **kwargs)\n        args = (<zmq.sugar.socket.Socket object>, 1)\n        kwargs = {}\n    276             finally:\n    277                 _state.contexts = current_state\n    278         null_wrapper._wrapped = True\n    279         return null_wrapper\n\n...........................................................................\nC:\\Anaconda2\\lib\\site-packages\\zmq\\eventloop\\zmqstream.py in _handle_events(self=<zmq.eventloop.zmqstream.ZMQStream object>, fd=<zmq.sugar.socket.Socket object>, events=1)\n    428             # dispatch events:\n    429             if events & IOLoop.ERROR:\n    430                 gen_log.error(\"got POLLERR event on ZMQStream, which doesn't make sense\")\n    431                 return\n    432             if events & IOLoop.READ:\n--> 433                 self._handle_recv()\n        self._handle_recv = <bound method ZMQStream._handle_recv of <zmq.eventloop.zmqstream.ZMQStream object>>\n    434                 if not self.socket:\n    435                     return\n    436             if events & IOLoop.WRITE:\n    437                 self._handle_send()\n\n...........................................................................\nC:\\Anaconda2\\lib\\site-packages\\zmq\\eventloop\\zmqstream.py in _handle_recv(self=<zmq.eventloop.zmqstream.ZMQStream object>)\n    460                 gen_log.error(\"RECV Error: %s\"%zmq.strerror(e.errno))\n    461         else:\n    462             if self._recv_callback:\n    463                 callback = self._recv_callback\n    464                 # self._recv_callback = None\n--> 465                 self._run_callback(callback, msg)\n        self._run_callback = <bound method ZMQStream._run_callback of <zmq.eventloop.zmqstream.ZMQStream object>>\n        callback = <function null_wrapper>\n        msg = [<zmq.sugar.frame.Frame object>, <zmq.sugar.frame.Frame object>, <zmq.sugar.frame.Frame object>, <zmq.sugar.frame.Frame object>, <zmq.sugar.frame.Frame object>, <zmq.sugar.frame.Frame object>, <zmq.sugar.frame.Frame object>]\n    466                 \n    467         # self.update_state()\n    468         \n    469 \n\n...........................................................................\nC:\\Anaconda2\\lib\\site-packages\\zmq\\eventloop\\zmqstream.py in _run_callback(self=<zmq.eventloop.zmqstream.ZMQStream object>, callback=<function null_wrapper>, *args=([<zmq.sugar.frame.Frame object>, <zmq.sugar.frame.Frame object>, <zmq.sugar.frame.Frame object>, <zmq.sugar.frame.Frame object>, <zmq.sugar.frame.Frame object>, <zmq.sugar.frame.Frame object>, <zmq.sugar.frame.Frame object>],), **kwargs={})\n    402         close our socket.\"\"\"\n    403         try:\n    404             # Use a NullContext to ensure that all StackContexts are run\n    405             # inside our blanket exception handler rather than outside.\n    406             with stack_context.NullContext():\n--> 407                 callback(*args, **kwargs)\n        callback = <function null_wrapper>\n        args = ([<zmq.sugar.frame.Frame object>, <zmq.sugar.frame.Frame object>, <zmq.sugar.frame.Frame object>, <zmq.sugar.frame.Frame object>, <zmq.sugar.frame.Frame object>, <zmq.sugar.frame.Frame object>, <zmq.sugar.frame.Frame object>],)\n        kwargs = {}\n    408         except:\n    409             gen_log.error(\"Uncaught exception, closing connection.\",\n    410                           exc_info=True)\n    411             # Close the socket on an uncaught exception from a user callback\n\n...........................................................................\nC:\\Anaconda2\\lib\\site-packages\\tornado\\stack_context.py in null_wrapper(*args=([<zmq.sugar.frame.Frame object>, <zmq.sugar.frame.Frame object>, <zmq.sugar.frame.Frame object>, <zmq.sugar.frame.Frame object>, <zmq.sugar.frame.Frame object>, <zmq.sugar.frame.Frame object>, <zmq.sugar.frame.Frame object>],), **kwargs={})\n    270         # Fast path when there are no active contexts.\n    271         def null_wrapper(*args, **kwargs):\n    272             try:\n    273                 current_state = _state.contexts\n    274                 _state.contexts = cap_contexts[0]\n--> 275                 return fn(*args, **kwargs)\n        args = ([<zmq.sugar.frame.Frame object>, <zmq.sugar.frame.Frame object>, <zmq.sugar.frame.Frame object>, <zmq.sugar.frame.Frame object>, <zmq.sugar.frame.Frame object>, <zmq.sugar.frame.Frame object>, <zmq.sugar.frame.Frame object>],)\n        kwargs = {}\n    276             finally:\n    277                 _state.contexts = current_state\n    278         null_wrapper._wrapped = True\n    279         return null_wrapper\n\n...........................................................................\nC:\\Anaconda2\\lib\\site-packages\\ipykernel\\kernelbase.py in dispatcher(msg=[<zmq.sugar.frame.Frame object>, <zmq.sugar.frame.Frame object>, <zmq.sugar.frame.Frame object>, <zmq.sugar.frame.Frame object>, <zmq.sugar.frame.Frame object>, <zmq.sugar.frame.Frame object>, <zmq.sugar.frame.Frame object>])\n    255         if self.control_stream:\n    256             self.control_stream.on_recv(self.dispatch_control, copy=False)\n    257 \n    258         def make_dispatcher(stream):\n    259             def dispatcher(msg):\n--> 260                 return self.dispatch_shell(stream, msg)\n        msg = [<zmq.sugar.frame.Frame object>, <zmq.sugar.frame.Frame object>, <zmq.sugar.frame.Frame object>, <zmq.sugar.frame.Frame object>, <zmq.sugar.frame.Frame object>, <zmq.sugar.frame.Frame object>, <zmq.sugar.frame.Frame object>]\n    261             return dispatcher\n    262 \n    263         for s in self.shell_streams:\n    264             s.on_recv(make_dispatcher(s), copy=False)\n\n...........................................................................\nC:\\Anaconda2\\lib\\site-packages\\ipykernel\\kernelbase.py in dispatch_shell(self=<ipykernel.ipkernel.IPythonKernel object>, stream=<zmq.eventloop.zmqstream.ZMQStream object>, msg={'buffers': [], 'content': {u'allow_stdin': True, u'code': u'\\nprint \"best classifier was:\"\\nclf=linear_mod...f_F1,\"\\\\n\",clf #after gridseach\\n    \\nclf_GS_F1', u'silent': False, u'stop_on_error': True, u'store_history': True, u'user_expressions': {}}, 'header': {'date': '2016-03-29T16:53:16.609000', u'msg_id': u'9E5D2DC47D02467B815FC7C75CBC3C6D', u'msg_type': u'execute_request', u'session': u'44400A7D9C034E9F86936DE42A9874F8', u'username': u'username', u'version': u'5.0'}, 'metadata': {}, 'msg_id': u'9E5D2DC47D02467B815FC7C75CBC3C6D', 'msg_type': u'execute_request', 'parent_header': {}})\n    207             self.log.error(\"UNKNOWN MESSAGE TYPE: %r\", msg_type)\n    208         else:\n    209             self.log.debug(\"%s: %s\", msg_type, msg)\n    210             self.pre_handler_hook()\n    211             try:\n--> 212                 handler(stream, idents, msg)\n        handler = <bound method IPythonKernel.execute_request of <ipykernel.ipkernel.IPythonKernel object>>\n        stream = <zmq.eventloop.zmqstream.ZMQStream object>\n        idents = ['44400A7D9C034E9F86936DE42A9874F8']\n        msg = {'buffers': [], 'content': {u'allow_stdin': True, u'code': u'\\nprint \"best classifier was:\"\\nclf=linear_mod...f_F1,\"\\\\n\",clf #after gridseach\\n    \\nclf_GS_F1', u'silent': False, u'stop_on_error': True, u'store_history': True, u'user_expressions': {}}, 'header': {'date': '2016-03-29T16:53:16.609000', u'msg_id': u'9E5D2DC47D02467B815FC7C75CBC3C6D', u'msg_type': u'execute_request', u'session': u'44400A7D9C034E9F86936DE42A9874F8', u'username': u'username', u'version': u'5.0'}, 'metadata': {}, 'msg_id': u'9E5D2DC47D02467B815FC7C75CBC3C6D', 'msg_type': u'execute_request', 'parent_header': {}}\n    213             except Exception:\n    214                 self.log.error(\"Exception in message handler:\", exc_info=True)\n    215             finally:\n    216                 self.post_handler_hook()\n\n...........................................................................\nC:\\Anaconda2\\lib\\site-packages\\ipykernel\\kernelbase.py in execute_request(self=<ipykernel.ipkernel.IPythonKernel object>, stream=<zmq.eventloop.zmqstream.ZMQStream object>, ident=['44400A7D9C034E9F86936DE42A9874F8'], parent={'buffers': [], 'content': {u'allow_stdin': True, u'code': u'\\nprint \"best classifier was:\"\\nclf=linear_mod...f_F1,\"\\\\n\",clf #after gridseach\\n    \\nclf_GS_F1', u'silent': False, u'stop_on_error': True, u'store_history': True, u'user_expressions': {}}, 'header': {'date': '2016-03-29T16:53:16.609000', u'msg_id': u'9E5D2DC47D02467B815FC7C75CBC3C6D', u'msg_type': u'execute_request', u'session': u'44400A7D9C034E9F86936DE42A9874F8', u'username': u'username', u'version': u'5.0'}, 'metadata': {}, 'msg_id': u'9E5D2DC47D02467B815FC7C75CBC3C6D', 'msg_type': u'execute_request', 'parent_header': {}})\n    365         if not silent:\n    366             self.execution_count += 1\n    367             self._publish_execute_input(code, parent, self.execution_count)\n    368 \n    369         reply_content = self.do_execute(code, silent, store_history,\n--> 370                                         user_expressions, allow_stdin)\n        user_expressions = {}\n        allow_stdin = True\n    371 \n    372         # Flush output before sending the reply.\n    373         sys.stdout.flush()\n    374         sys.stderr.flush()\n\n...........................................................................\nC:\\Anaconda2\\lib\\site-packages\\ipykernel\\ipkernel.py in do_execute(self=<ipykernel.ipkernel.IPythonKernel object>, code=u'\\nprint \"best classifier was:\"\\nclf=linear_mod...f_F1,\"\\\\n\",clf #after gridseach\\n    \\nclf_GS_F1', silent=False, store_history=True, user_expressions={}, allow_stdin=True)\n    170 \n    171         reply_content = {}\n    172         # FIXME: the shell calls the exception handler itself.\n    173         shell._reply_content = None\n    174         try:\n--> 175             shell.run_cell(code, store_history=store_history, silent=silent)\n        shell.run_cell = <bound method ZMQInteractiveShell.run_cell of <ipykernel.zmqshell.ZMQInteractiveShell object>>\n        code = u'\\nprint \"best classifier was:\"\\nclf=linear_mod...f_F1,\"\\\\n\",clf #after gridseach\\n    \\nclf_GS_F1'\n        store_history = True\n        silent = False\n    176         except:\n    177             status = u'error'\n    178             # FIXME: this code right now isn't being used yet by default,\n    179             # because the run_cell() call above directly fires off exception\n\n...........................................................................\nC:\\Anaconda2\\lib\\site-packages\\IPython\\core\\interactiveshell.py in run_cell(self=<ipykernel.zmqshell.ZMQInteractiveShell object>, raw_cell=u'\\nprint \"best classifier was:\"\\nclf=linear_mod...f_F1,\"\\\\n\",clf #after gridseach\\n    \\nclf_GS_F1', store_history=True, silent=False, shell_futures=True)\n   2718                 self.displayhook.exec_result = result\n   2719 \n   2720                 # Execute the user code\n   2721                 interactivity = \"none\" if silent else self.ast_node_interactivity\n   2722                 self.run_ast_nodes(code_ast.body, cell_name,\n-> 2723                    interactivity=interactivity, compiler=compiler, result=result)\n        interactivity = 'last_expr'\n        compiler = <IPython.core.compilerop.CachingCompiler instance>\n   2724 \n   2725                 # Reset this so later displayed values do not modify the\n   2726                 # ExecutionResult\n   2727                 self.displayhook.exec_result = None\n\n...........................................................................\nC:\\Anaconda2\\lib\\site-packages\\IPython\\core\\interactiveshell.py in run_ast_nodes(self=<ipykernel.zmqshell.ZMQInteractiveShell object>, nodelist=[<_ast.Print object>, <_ast.Assign object>, <_ast.Assign object>, <_ast.Print object>, <_ast.Assign object>, <_ast.Assign object>, <_ast.Assign object>, <_ast.Print object>, <_ast.Assign object>, <_ast.Assign object>, <_ast.If object>, <_ast.Expr object>], cell_name='<ipython-input-119-1deeaf7e00f5>', interactivity='last', compiler=<IPython.core.compilerop.CachingCompiler instance>, result=<IPython.core.interactiveshell.ExecutionResult object>)\n   2820 \n   2821         try:\n   2822             for i, node in enumerate(to_run_exec):\n   2823                 mod = ast.Module([node])\n   2824                 code = compiler(mod, cell_name, \"exec\")\n-> 2825                 if self.run_code(code, result):\n        self.run_code = <bound method ZMQInteractiveShell.run_code of <ipykernel.zmqshell.ZMQInteractiveShell object>>\n        code = <code object <module> at 000000001F583D30, file \"<ipython-input-119-1deeaf7e00f5>\", line 17>\n        result = <IPython.core.interactiveshell.ExecutionResult object>\n   2826                     return True\n   2827 \n   2828             for i, node in enumerate(to_run_interactive):\n   2829                 mod = ast.Interactive([node])\n\n...........................................................................\nC:\\Anaconda2\\lib\\site-packages\\IPython\\core\\interactiveshell.py in run_code(self=<ipykernel.zmqshell.ZMQInteractiveShell object>, code_obj=<code object <module> at 000000001F583D30, file \"<ipython-input-119-1deeaf7e00f5>\", line 17>, result=<IPython.core.interactiveshell.ExecutionResult object>)\n   2880         outflag = 1  # happens in more places, so it's easier as default\n   2881         try:\n   2882             try:\n   2883                 self.hooks.pre_run_code_hook()\n   2884                 #rprint('Running code', repr(code_obj)) # dbg\n-> 2885                 exec(code_obj, self.user_global_ns, self.user_ns)\n        code_obj = <code object <module> at 000000001F583D30, file \"<ipython-input-119-1deeaf7e00f5>\", line 17>\n        self.user_global_ns = {'DecisionTreeClassifier': <class 'sklearn.tree.tree.DecisionTreeClassifier'>, 'GaussianNB': <class 'sklearn.naive_bayes.GaussianNB'>, 'GridSearchCV': <class 'sklearn.grid_search.GridSearchCV'>, 'In': ['', u'# Import libraries\\nimport numpy as np\\nimport pandas as pd', u'# Read student data\\nstudent_data = pd.read_cs... the target/label, all other are feature columns', u'# TODO: Compute desired values - replace each ...on rate of the class: {:.2f}%\".format(grad_rate)', u'# Extract feature (X) and target (y) columns\\n...-\"\\nprint X_all.head()  # print the first 5 rows', u'# Preprocess feature columns\\ndef preprocess_f....format(len(X_all.columns), list(X_all.columns))', u'# First, decide how many training vs test samp...dation set, extract it from within training data', u'# Train a model\\nimport time\\n\\ndef train_clas...you can inspect the learned model by printing it', u'# Predict on training set and compute F1 score...ore for training set: {}\".format(train_f1_score)', u'# Predict on test data\\nprint \"F1 score for te... {}\".format(predict_labels(clf, X_test, y_test))', u'# Train and predict using different training s...test, y_test)\\nprint \"Test:\",test,\"Train:\",train', u'# TODO: Train and predict using two other mode...int scoresDF.sort(\\'test\\',ascending=False)[:-1]', u'# TODO: Fine-tune your model and report the be...ain, X_test, y_test)\\nprint clf #after gridseach', u'# TODO: Fine-tune your model and report the be...ain, X_test, y_test)\\nprint clf #after gridseach', u'# TODO: Fine-tune your model and report the be...ain, X_test, y_test)\\nprint clf #after gridseach', u'# TODO: Fine-tune your model and report the be...ain, X_test, y_test)\\nprint clf #after gridseach', u'# TODO: Fine-tune your model and report the be...ain, X_test, y_test)\\nprint clf #after gridseach', u'# TODO: Train and predict using two other mode...int scoresDF.sort(\\'test\\',ascending=False)[:-1]', u'# TODO: Train and predict using two other mode...int scoresDF.sort(\\'test\\',ascending=False)[:-1]', u'# TODO: Train and predict using two other mode...int scoresDF.sort(\\'test\\',ascending=False)[:-1]', ...], 'KNeighborsClassifier': <class 'sklearn.neighbors.classification.KNeighborsClassifier'>, 'LinearSVC': <class 'sklearn.svm.classes.LinearSVC'>, 'Out': {}, 'SVC': <class 'sklearn.svm.classes.SVC'>, 'X_all':      school_GP  school_MS  sex_F  sex_M  age  ad...   3       5         5  \n\n[395 rows x 48 columns], 'X_test':      school_GP  school_MS  sex_F  sex_M  age  ad...    2       1         0  \n\n[95 rows x 48 columns], ...}\n        self.user_ns = {'DecisionTreeClassifier': <class 'sklearn.tree.tree.DecisionTreeClassifier'>, 'GaussianNB': <class 'sklearn.naive_bayes.GaussianNB'>, 'GridSearchCV': <class 'sklearn.grid_search.GridSearchCV'>, 'In': ['', u'# Import libraries\\nimport numpy as np\\nimport pandas as pd', u'# Read student data\\nstudent_data = pd.read_cs... the target/label, all other are feature columns', u'# TODO: Compute desired values - replace each ...on rate of the class: {:.2f}%\".format(grad_rate)', u'# Extract feature (X) and target (y) columns\\n...-\"\\nprint X_all.head()  # print the first 5 rows', u'# Preprocess feature columns\\ndef preprocess_f....format(len(X_all.columns), list(X_all.columns))', u'# First, decide how many training vs test samp...dation set, extract it from within training data', u'# Train a model\\nimport time\\n\\ndef train_clas...you can inspect the learned model by printing it', u'# Predict on training set and compute F1 score...ore for training set: {}\".format(train_f1_score)', u'# Predict on test data\\nprint \"F1 score for te... {}\".format(predict_labels(clf, X_test, y_test))', u'# Train and predict using different training s...test, y_test)\\nprint \"Test:\",test,\"Train:\",train', u'# TODO: Train and predict using two other mode...int scoresDF.sort(\\'test\\',ascending=False)[:-1]', u'# TODO: Fine-tune your model and report the be...ain, X_test, y_test)\\nprint clf #after gridseach', u'# TODO: Fine-tune your model and report the be...ain, X_test, y_test)\\nprint clf #after gridseach', u'# TODO: Fine-tune your model and report the be...ain, X_test, y_test)\\nprint clf #after gridseach', u'# TODO: Fine-tune your model and report the be...ain, X_test, y_test)\\nprint clf #after gridseach', u'# TODO: Fine-tune your model and report the be...ain, X_test, y_test)\\nprint clf #after gridseach', u'# TODO: Train and predict using two other mode...int scoresDF.sort(\\'test\\',ascending=False)[:-1]', u'# TODO: Train and predict using two other mode...int scoresDF.sort(\\'test\\',ascending=False)[:-1]', u'# TODO: Train and predict using two other mode...int scoresDF.sort(\\'test\\',ascending=False)[:-1]', ...], 'KNeighborsClassifier': <class 'sklearn.neighbors.classification.KNeighborsClassifier'>, 'LinearSVC': <class 'sklearn.svm.classes.LinearSVC'>, 'Out': {}, 'SVC': <class 'sklearn.svm.classes.SVC'>, 'X_all':      school_GP  school_MS  sex_F  sex_M  age  ad...   3       5         5  \n\n[395 rows x 48 columns], 'X_test':      school_GP  school_MS  sex_F  sex_M  age  ad...    2       1         0  \n\n[95 rows x 48 columns], ...}\n   2886             finally:\n   2887                 # Reset our crash handler in place\n   2888                 sys.excepthook = old_excepthook\n   2889         except SystemExit as e:\n\n...........................................................................\nC:\\cygwin\\home\\llathrop\\projects\\udacity-Projects\\student_intervention\\<ipython-input-119-1deeaf7e00f5> in <module>()\n     12         #'solver' : ['newton-cg', 'lbfgs', 'liblinear'],#, 'sag'],\n     13         'tol': [0.00001,0.0001,.001],\n     14         'penalty': ['l1', 'l2']\n     15        }\n     16 \n---> 17 clf_tuned=modelTune(clf, params,X_all,y_all)\n     18 \n     19 test_GS,train_GS=train_predict(clf_tuned, X_train, y_train, X_test, y_test)\n     20 print \"GridSearch best clf:\\n\",clf_tuned \n     21 \n\n...........................................................................\nC:\\cygwin\\home\\llathrop\\projects\\udacity-Projects\\student_intervention\\<ipython-input-118-1382769c7c96> in modelTune(clf=LogisticRegression(C=1.0, class_weight=None, dua...ol=0.0001,\n          verbose=0, warm_start=False), params={'C': [0.005, 0.05, 0.5, 1.0, 10.0, 100.0], 'class_weight': [None, 'balanced'], 'fit_intercept': [True, False], 'penalty': ['l1', 'l2'], 'random_state': [None, 42], 'tol': [1e-05, 0.0001, 0.001]}, X=     school_GP  school_MS  sex_F  sex_M  age  ad...   3       5         5  \n\n[395 rows x 48 columns], y=0      0\n1      0\n2      1\n3      1\n4      1\n5  ...   0\n393    1\n394    0\nName: passed, dtype: int64)\n     12                                n_jobs= 2,\n     13                                scoring=make_scorer(f1_score, \n     14                                                    pos_label=\"yes\",\n     15                                                    greater_is_better=True)) \n     16 \n---> 17     grid_search.fit(X, y)\n     18 \n     19     #reach into the grid search and pull out the best parameters, and set those on clf. probably not necesary, but easier to deal with\n     20     bestGridParams={}\n     21     for bp in grid_search.best_params_:\n\n...........................................................................\nC:\\Anaconda2\\lib\\site-packages\\sklearn\\grid_search.py in fit(self=GridSearchCV(cv=4, error_score='raise',\n       e...=make_scorer(f1_score, pos_label=yes), verbose=0), X=     school_GP  school_MS  sex_F  sex_M  age  ad...   3       5         5  \n\n[395 rows x 48 columns], y=0      0\n1      0\n2      1\n3      1\n4      1\n5  ...   0\n393    1\n394    0\nName: passed, dtype: int64)\n    799         y : array-like, shape = [n_samples] or [n_samples, n_output], optional\n    800             Target relative to X for classification or regression;\n    801             None for unsupervised learning.\n    802 \n    803         \"\"\"\n--> 804         return self._fit(X, y, ParameterGrid(self.param_grid))\n        self._fit = <bound method GridSearchCV._fit of GridSearchCV(...make_scorer(f1_score, pos_label=yes), verbose=0)>\n        X =      school_GP  school_MS  sex_F  sex_M  age  ad...   3       5         5  \n\n[395 rows x 48 columns]\n        y = 0      0\n1      0\n2      1\n3      1\n4      1\n5  ...   0\n393    1\n394    0\nName: passed, dtype: int64\n        self.param_grid = {'C': [0.005, 0.05, 0.5, 1.0, 10.0, 100.0], 'class_weight': [None, 'balanced'], 'fit_intercept': [True, False], 'penalty': ['l1', 'l2'], 'random_state': [None, 42], 'tol': [1e-05, 0.0001, 0.001]}\n    805 \n    806 \n    807 class RandomizedSearchCV(BaseSearchCV):\n    808     \"\"\"Randomized search on hyper parameters.\n\n...........................................................................\nC:\\Anaconda2\\lib\\site-packages\\sklearn\\grid_search.py in _fit(self=GridSearchCV(cv=4, error_score='raise',\n       e...=make_scorer(f1_score, pos_label=yes), verbose=0), X=     school_GP  school_MS  sex_F  sex_M  age  ad...   3       5         5  \n\n[395 rows x 48 columns], y=0      0\n1      0\n2      1\n3      1\n4      1\n5  ...   0\n393    1\n394    0\nName: passed, dtype: int64, parameter_iterable=<sklearn.grid_search.ParameterGrid object>)\n    548         )(\n    549             delayed(_fit_and_score)(clone(base_estimator), X, y, self.scorer_,\n    550                                     train, test, self.verbose, parameters,\n    551                                     self.fit_params, return_parameters=True,\n    552                                     error_score=self.error_score)\n--> 553                 for parameters in parameter_iterable\n        parameters = undefined\n        parameter_iterable = <sklearn.grid_search.ParameterGrid object>\n    554                 for train, test in cv)\n    555 \n    556         # Out is a list of triplet: score, estimator, n_test_samples\n    557         n_fits = len(out)\n\n...........................................................................\nC:\\Anaconda2\\lib\\site-packages\\sklearn\\externals\\joblib\\parallel.py in __call__(self=Parallel(n_jobs=2), iterable=<generator object <genexpr>>)\n    807             if pre_dispatch == \"all\" or n_jobs == 1:\n    808                 # The iterable was consumed all at once by the above for loop.\n    809                 # No need to wait for async callbacks to trigger to\n    810                 # consumption.\n    811                 self._iterating = False\n--> 812             self.retrieve()\n        self.retrieve = <bound method Parallel.retrieve of Parallel(n_jobs=2)>\n    813             # Make sure that we get a last message telling us we are done\n    814             elapsed_time = time.time() - self._start_time\n    815             self._print('Done %3i out of %3i | elapsed: %s finished',\n    816                         (len(self._output), len(self._output),\n\n---------------------------------------------------------------------------\nSub-process traceback:\n---------------------------------------------------------------------------\nValueError                                         Tue Mar 29 16:53:46 2016\nPID: 6764                            Python 2.7.11: C:\\Anaconda2\\python.exe\n...........................................................................\nC:\\Anaconda2\\lib\\site-packages\\sklearn\\externals\\joblib\\parallel.pyc in __call__(self=<sklearn.externals.joblib.parallel.BatchedCalls object>)\n     67     def __init__(self, iterator_slice):\n     68         self.items = list(iterator_slice)\n     69         self._size = len(self.items)\n     70 \n     71     def __call__(self):\n---> 72         return [func(*args, **kwargs) for func, args, kwargs in self.items]\n     73 \n     74     def __len__(self):\n     75         return self._size\n     76 \n\n...........................................................................\nC:\\Anaconda2\\lib\\site-packages\\sklearn\\cross_validation.pyc in _fit_and_score(estimator=LogisticRegression(C=0.005, class_weight=None, d...tol=1e-05,\n          verbose=0, warm_start=False), X=     school_GP  school_MS  sex_F  sex_M  age  ad...   3       5         5  \n\n[395 rows x 48 columns], y=0      0\n1      0\n2      1\n3      1\n4      1\n5  ...   0\n393    1\n394    0\nName: passed, dtype: int64, scorer=make_scorer(f1_score, pos_label=yes), train=array([ 88,  91,  93,  94,  95,  96,  97,  98, 1...    386, 387, 388, 389, 390, 391, 392, 393, 394]), test=array([  0,   1,   2,   3,   4,   5,   6,   7,  ...     99, 100, 103, 106, 114, 118, 124, 127, 128]), verbose=0, parameters={'C': 0.005, 'class_weight': None, 'fit_intercept': True, 'penalty': 'l1', 'random_state': None, 'tol': 1e-05}, fit_params={}, return_train_score=False, return_parameters=True, error_score='raise')\n   1545                              \" numeric value. (Hint: if using 'raise', please\"\n   1546                              \" make sure that it has been spelled correctly.)\"\n   1547                              )\n   1548 \n   1549     else:\n-> 1550         test_score = _score(estimator, X_test, y_test, scorer)\n   1551         if return_train_score:\n   1552             train_score = _score(estimator, X_train, y_train, scorer)\n   1553 \n   1554     scoring_time = time.time() - start_time\n\n...........................................................................\nC:\\Anaconda2\\lib\\site-packages\\sklearn\\cross_validation.pyc in _score(estimator=LogisticRegression(C=0.005, class_weight=None, d...tol=1e-05,\n          verbose=0, warm_start=False), X_test=     school_GP  school_MS  sex_F  sex_M  age  ad...   2       4         0  \n\n[100 rows x 48 columns], y_test=0      0\n1      0\n2      1\n3      1\n4      1\n5  ...   0\n127    0\n128    0\nName: passed, dtype: int64, scorer=make_scorer(f1_score, pos_label=yes))\n   1601 def _score(estimator, X_test, y_test, scorer):\n   1602     \"\"\"Compute the score of an estimator on a given test set.\"\"\"\n   1603     if y_test is None:\n   1604         score = scorer(estimator, X_test)\n   1605     else:\n-> 1606         score = scorer(estimator, X_test, y_test)\n   1607     if not isinstance(score, numbers.Number):\n   1608         raise ValueError(\"scoring must return a number, got %s (%s) instead.\"\n   1609                          % (str(score), type(score)))\n   1610     return score\n\n...........................................................................\nC:\\Anaconda2\\lib\\site-packages\\sklearn\\metrics\\scorer.pyc in __call__(self=make_scorer(f1_score, pos_label=yes), estimator=LogisticRegression(C=0.005, class_weight=None, d...tol=1e-05,\n          verbose=0, warm_start=False), X=     school_GP  school_MS  sex_F  sex_M  age  ad...   2       4         0  \n\n[100 rows x 48 columns], y_true=0      0\n1      0\n2      1\n3      1\n4      1\n5  ...   0\n127    0\n128    0\nName: passed, dtype: int64, sample_weight=None)\n     85             return self._sign * self._score_func(y_true, y_pred,\n     86                                                  sample_weight=sample_weight,\n     87                                                  **self._kwargs)\n     88         else:\n     89             return self._sign * self._score_func(y_true, y_pred,\n---> 90                                                  **self._kwargs)\n     91 \n     92 \n     93 class _ProbaScorer(_BaseScorer):\n     94     def __call__(self, clf, X, y, sample_weight=None):\n\n...........................................................................\nC:\\Anaconda2\\lib\\site-packages\\sklearn\\metrics\\classification.pyc in f1_score(y_true=0      0\n1      0\n2      1\n3      1\n4      1\n5  ...   0\n127    0\n128    0\nName: passed, dtype: int64, y_pred=array([1, 1, 1, 1, 1, 1, 1, 1, 1, 1, 1, 1, 1, 1,..., 1,\n       1, 1, 1, 1, 1, 1, 1, 1], dtype=int64), labels=None, pos_label='yes', average='binary', sample_weight=None)\n    634 \n    635 \n    636     \"\"\"\n    637     return fbeta_score(y_true, y_pred, 1, labels=labels,\n    638                        pos_label=pos_label, average=average,\n--> 639                        sample_weight=sample_weight)\n        average = 'binary'\n    640 \n    641 \n    642 def fbeta_score(y_true, y_pred, beta, labels=None, pos_label=1,\n    643                 average='binary', sample_weight=None):\n\n...........................................................................\nC:\\Anaconda2\\lib\\site-packages\\sklearn\\metrics\\classification.pyc in fbeta_score(y_true=0      0\n1      0\n2      1\n3      1\n4      1\n5  ...   0\n127    0\n128    0\nName: passed, dtype: int64, y_pred=array([1, 1, 1, 1, 1, 1, 1, 1, 1, 1, 1, 1, 1, 1,..., 1,\n       1, 1, 1, 1, 1, 1, 1, 1], dtype=int64), beta=1, labels=None, pos_label='yes', average='binary', sample_weight=None)\n    751                                                  beta=beta,\n    752                                                  labels=labels,\n    753                                                  pos_label=pos_label,\n    754                                                  average=average,\n    755                                                  warn_for=('f-score',),\n--> 756                                                  sample_weight=sample_weight)\n    757     return f\n    758 \n    759 \n    760 def _prf_divide(numerator, denominator, metric, modifier, average, warn_for):\n\n...........................................................................\nC:\\Anaconda2\\lib\\site-packages\\sklearn\\metrics\\classification.pyc in precision_recall_fscore_support(y_true=array([0, 0, 1, 1, 1, 1, 1, 0, 1, 1, 0, 1, 1, 1,..., 0,\n       0, 0, 0, 0, 0, 0, 0, 0], dtype=int64), y_pred=array([1, 1, 1, 1, 1, 1, 1, 1, 1, 1, 1, 1, 1, 1,..., 1,\n       1, 1, 1, 1, 1, 1, 1, 1], dtype=int64), beta=1, labels=None, pos_label='yes', average='binary', warn_for=('f-score',), sample_weight=None)\n    979                 if len(present_labels) < 2:\n    980                     # Only negative labels\n    981                     return (0., 0., 0., 0)\n    982                 else:\n    983                     raise ValueError(\"pos_label=%r is not a valid label: %r\" %\n--> 984                                      (pos_label, present_labels))\n    985             labels = [pos_label]\n    986     if labels is None:\n    987         labels = present_labels\n    988         n_labels = None\n\nValueError: pos_label='yes' is not a valid label: array([0, 1], dtype=int64)\n___________________________________________________________________________",
     "output_type": "error",
     "traceback": [
      "\u001b[1;31m---------------------------------------------------------------------------\u001b[0m",
      "\u001b[1;31mJoblibValueError\u001b[0m                          Traceback (most recent call last)",
      "\u001b[1;32m<ipython-input-119-1deeaf7e00f5>\u001b[0m in \u001b[0;36m<module>\u001b[1;34m()\u001b[0m\n\u001b[0;32m     15\u001b[0m        }\n\u001b[0;32m     16\u001b[0m \u001b[1;33m\u001b[0m\u001b[0m\n\u001b[1;32m---> 17\u001b[1;33m \u001b[0mclf_tuned\u001b[0m\u001b[1;33m=\u001b[0m\u001b[0mmodelTune\u001b[0m\u001b[1;33m(\u001b[0m\u001b[0mclf\u001b[0m\u001b[1;33m,\u001b[0m \u001b[0mparams\u001b[0m\u001b[1;33m,\u001b[0m\u001b[0mX_all\u001b[0m\u001b[1;33m,\u001b[0m\u001b[0my_all\u001b[0m\u001b[1;33m)\u001b[0m\u001b[1;33m\u001b[0m\u001b[0m\n\u001b[0m\u001b[0;32m     18\u001b[0m \u001b[1;33m\u001b[0m\u001b[0m\n\u001b[0;32m     19\u001b[0m \u001b[0mtest_GS\u001b[0m\u001b[1;33m,\u001b[0m\u001b[0mtrain_GS\u001b[0m\u001b[1;33m=\u001b[0m\u001b[0mtrain_predict\u001b[0m\u001b[1;33m(\u001b[0m\u001b[0mclf_tuned\u001b[0m\u001b[1;33m,\u001b[0m \u001b[0mX_train\u001b[0m\u001b[1;33m,\u001b[0m \u001b[0my_train\u001b[0m\u001b[1;33m,\u001b[0m \u001b[0mX_test\u001b[0m\u001b[1;33m,\u001b[0m \u001b[0my_test\u001b[0m\u001b[1;33m)\u001b[0m\u001b[1;33m\u001b[0m\u001b[0m\n",
      "\u001b[1;32m<ipython-input-118-1382769c7c96>\u001b[0m in \u001b[0;36mmodelTune\u001b[1;34m(clf, params, X, y)\u001b[0m\n\u001b[0;32m     15\u001b[0m                                                    greater_is_better=True)) \n\u001b[0;32m     16\u001b[0m \u001b[1;33m\u001b[0m\u001b[0m\n\u001b[1;32m---> 17\u001b[1;33m     \u001b[0mgrid_search\u001b[0m\u001b[1;33m.\u001b[0m\u001b[0mfit\u001b[0m\u001b[1;33m(\u001b[0m\u001b[0mX\u001b[0m\u001b[1;33m,\u001b[0m \u001b[0my\u001b[0m\u001b[1;33m)\u001b[0m\u001b[1;33m\u001b[0m\u001b[0m\n\u001b[0m\u001b[0;32m     18\u001b[0m \u001b[1;33m\u001b[0m\u001b[0m\n\u001b[0;32m     19\u001b[0m     \u001b[1;31m#reach into the grid search and pull out the best parameters, and set those on clf. probably not necesary, but easier to deal with\u001b[0m\u001b[1;33m\u001b[0m\u001b[1;33m\u001b[0m\u001b[0m\n",
      "\u001b[1;32mC:\\Anaconda2\\lib\\site-packages\\sklearn\\grid_search.pyc\u001b[0m in \u001b[0;36mfit\u001b[1;34m(self, X, y)\u001b[0m\n\u001b[0;32m    802\u001b[0m \u001b[1;33m\u001b[0m\u001b[0m\n\u001b[0;32m    803\u001b[0m         \"\"\"\n\u001b[1;32m--> 804\u001b[1;33m         \u001b[1;32mreturn\u001b[0m \u001b[0mself\u001b[0m\u001b[1;33m.\u001b[0m\u001b[0m_fit\u001b[0m\u001b[1;33m(\u001b[0m\u001b[0mX\u001b[0m\u001b[1;33m,\u001b[0m \u001b[0my\u001b[0m\u001b[1;33m,\u001b[0m \u001b[0mParameterGrid\u001b[0m\u001b[1;33m(\u001b[0m\u001b[0mself\u001b[0m\u001b[1;33m.\u001b[0m\u001b[0mparam_grid\u001b[0m\u001b[1;33m)\u001b[0m\u001b[1;33m)\u001b[0m\u001b[1;33m\u001b[0m\u001b[0m\n\u001b[0m\u001b[0;32m    805\u001b[0m \u001b[1;33m\u001b[0m\u001b[0m\n\u001b[0;32m    806\u001b[0m \u001b[1;33m\u001b[0m\u001b[0m\n",
      "\u001b[1;32mC:\\Anaconda2\\lib\\site-packages\\sklearn\\grid_search.pyc\u001b[0m in \u001b[0;36m_fit\u001b[1;34m(self, X, y, parameter_iterable)\u001b[0m\n\u001b[0;32m    551\u001b[0m                                     \u001b[0mself\u001b[0m\u001b[1;33m.\u001b[0m\u001b[0mfit_params\u001b[0m\u001b[1;33m,\u001b[0m \u001b[0mreturn_parameters\u001b[0m\u001b[1;33m=\u001b[0m\u001b[0mTrue\u001b[0m\u001b[1;33m,\u001b[0m\u001b[1;33m\u001b[0m\u001b[0m\n\u001b[0;32m    552\u001b[0m                                     error_score=self.error_score)\n\u001b[1;32m--> 553\u001b[1;33m                 \u001b[1;32mfor\u001b[0m \u001b[0mparameters\u001b[0m \u001b[1;32min\u001b[0m \u001b[0mparameter_iterable\u001b[0m\u001b[1;33m\u001b[0m\u001b[0m\n\u001b[0m\u001b[0;32m    554\u001b[0m                 for train, test in cv)\n\u001b[0;32m    555\u001b[0m \u001b[1;33m\u001b[0m\u001b[0m\n",
      "\u001b[1;32mC:\\Anaconda2\\lib\\site-packages\\sklearn\\externals\\joblib\\parallel.pyc\u001b[0m in \u001b[0;36m__call__\u001b[1;34m(self, iterable)\u001b[0m\n\u001b[0;32m    810\u001b[0m                 \u001b[1;31m# consumption.\u001b[0m\u001b[1;33m\u001b[0m\u001b[1;33m\u001b[0m\u001b[0m\n\u001b[0;32m    811\u001b[0m                 \u001b[0mself\u001b[0m\u001b[1;33m.\u001b[0m\u001b[0m_iterating\u001b[0m \u001b[1;33m=\u001b[0m \u001b[0mFalse\u001b[0m\u001b[1;33m\u001b[0m\u001b[0m\n\u001b[1;32m--> 812\u001b[1;33m             \u001b[0mself\u001b[0m\u001b[1;33m.\u001b[0m\u001b[0mretrieve\u001b[0m\u001b[1;33m(\u001b[0m\u001b[1;33m)\u001b[0m\u001b[1;33m\u001b[0m\u001b[0m\n\u001b[0m\u001b[0;32m    813\u001b[0m             \u001b[1;31m# Make sure that we get a last message telling us we are done\u001b[0m\u001b[1;33m\u001b[0m\u001b[1;33m\u001b[0m\u001b[0m\n\u001b[0;32m    814\u001b[0m             \u001b[0melapsed_time\u001b[0m \u001b[1;33m=\u001b[0m \u001b[0mtime\u001b[0m\u001b[1;33m.\u001b[0m\u001b[0mtime\u001b[0m\u001b[1;33m(\u001b[0m\u001b[1;33m)\u001b[0m \u001b[1;33m-\u001b[0m \u001b[0mself\u001b[0m\u001b[1;33m.\u001b[0m\u001b[0m_start_time\u001b[0m\u001b[1;33m\u001b[0m\u001b[0m\n",
      "\u001b[1;32mC:\\Anaconda2\\lib\\site-packages\\sklearn\\externals\\joblib\\parallel.pyc\u001b[0m in \u001b[0;36mretrieve\u001b[1;34m(self)\u001b[0m\n\u001b[0;32m    760\u001b[0m                         \u001b[1;31m# a working pool as they expect.\u001b[0m\u001b[1;33m\u001b[0m\u001b[1;33m\u001b[0m\u001b[0m\n\u001b[0;32m    761\u001b[0m                         \u001b[0mself\u001b[0m\u001b[1;33m.\u001b[0m\u001b[0m_initialize_pool\u001b[0m\u001b[1;33m(\u001b[0m\u001b[1;33m)\u001b[0m\u001b[1;33m\u001b[0m\u001b[0m\n\u001b[1;32m--> 762\u001b[1;33m                 \u001b[1;32mraise\u001b[0m \u001b[0mexception\u001b[0m\u001b[1;33m\u001b[0m\u001b[0m\n\u001b[0m\u001b[0;32m    763\u001b[0m \u001b[1;33m\u001b[0m\u001b[0m\n\u001b[0;32m    764\u001b[0m     \u001b[1;32mdef\u001b[0m \u001b[0m__call__\u001b[0m\u001b[1;33m(\u001b[0m\u001b[0mself\u001b[0m\u001b[1;33m,\u001b[0m \u001b[0miterable\u001b[0m\u001b[1;33m)\u001b[0m\u001b[1;33m:\u001b[0m\u001b[1;33m\u001b[0m\u001b[0m\n",
      "\u001b[1;31mJoblibValueError\u001b[0m: JoblibValueError\n___________________________________________________________________________\nMultiprocessing exception:\n...........................................................................\nC:\\Anaconda2\\lib\\runpy.py in _run_module_as_main(mod_name='ipykernel.__main__', alter_argv=1)\n    157     pkg_name = mod_name.rpartition('.')[0]\n    158     main_globals = sys.modules[\"__main__\"].__dict__\n    159     if alter_argv:\n    160         sys.argv[0] = fname\n    161     return _run_code(code, main_globals, None,\n--> 162                      \"__main__\", fname, loader, pkg_name)\n        fname = r'C:\\Anaconda2\\lib\\site-packages\\ipykernel\\__main__.py'\n        loader = <pkgutil.ImpLoader instance>\n        pkg_name = 'ipykernel'\n    163 \n    164 def run_module(mod_name, init_globals=None,\n    165                run_name=None, alter_sys=False):\n    166     \"\"\"Execute a module's code without importing it\n\n...........................................................................\nC:\\Anaconda2\\lib\\runpy.py in _run_code(code=<code object <module> at 000000000226FBB0, file ...lib\\site-packages\\ipykernel\\__main__.py\", line 1>, run_globals={'__builtins__': <module '__builtin__' (built-in)>, '__doc__': None, '__file__': r'C:\\Anaconda2\\lib\\site-packages\\ipykernel\\__main__.py', '__loader__': <pkgutil.ImpLoader instance>, '__name__': '__main__', '__package__': 'ipykernel', 'app': <module 'ipykernel.kernelapp' from 'C:\\Anaconda2\\lib\\site-packages\\ipykernel\\kernelapp.pyc'>}, init_globals=None, mod_name='__main__', mod_fname=r'C:\\Anaconda2\\lib\\site-packages\\ipykernel\\__main__.py', mod_loader=<pkgutil.ImpLoader instance>, pkg_name='ipykernel')\n     67         run_globals.update(init_globals)\n     68     run_globals.update(__name__ = mod_name,\n     69                        __file__ = mod_fname,\n     70                        __loader__ = mod_loader,\n     71                        __package__ = pkg_name)\n---> 72     exec code in run_globals\n        code = <code object <module> at 000000000226FBB0, file ...lib\\site-packages\\ipykernel\\__main__.py\", line 1>\n        run_globals = {'__builtins__': <module '__builtin__' (built-in)>, '__doc__': None, '__file__': r'C:\\Anaconda2\\lib\\site-packages\\ipykernel\\__main__.py', '__loader__': <pkgutil.ImpLoader instance>, '__name__': '__main__', '__package__': 'ipykernel', 'app': <module 'ipykernel.kernelapp' from 'C:\\Anaconda2\\lib\\site-packages\\ipykernel\\kernelapp.pyc'>}\n     73     return run_globals\n     74 \n     75 def _run_module_code(code, init_globals=None,\n     76                     mod_name=None, mod_fname=None,\n\n...........................................................................\nC:\\Anaconda2\\lib\\site-packages\\ipykernel\\__main__.py in <module>()\n      1 \n      2 \n----> 3 \n      4 if __name__ == '__main__':\n      5     from ipykernel import kernelapp as app\n      6     app.launch_new_instance()\n      7 \n      8 \n      9 \n     10 \n\n...........................................................................\nC:\\Anaconda2\\lib\\site-packages\\traitlets\\config\\application.py in launch_instance(cls=<class 'ipykernel.kernelapp.IPKernelApp'>, argv=None, **kwargs={})\n    584         \n    585         If a global instance already exists, this reinitializes and starts it\n    586         \"\"\"\n    587         app = cls.instance(**kwargs)\n    588         app.initialize(argv)\n--> 589         app.start()\n        app.start = <bound method IPKernelApp.start of <ipykernel.kernelapp.IPKernelApp object>>\n    590 \n    591 #-----------------------------------------------------------------------------\n    592 # utility functions, for convenience\n    593 #-----------------------------------------------------------------------------\n\n...........................................................................\nC:\\Anaconda2\\lib\\site-packages\\ipykernel\\kernelapp.py in start(self=<ipykernel.kernelapp.IPKernelApp object>)\n    398         \n    399         if self.poller is not None:\n    400             self.poller.start()\n    401         self.kernel.start()\n    402         try:\n--> 403             ioloop.IOLoop.instance().start()\n    404         except KeyboardInterrupt:\n    405             pass\n    406 \n    407 launch_new_instance = IPKernelApp.launch_instance\n\n...........................................................................\nC:\\Anaconda2\\lib\\site-packages\\zmq\\eventloop\\ioloop.py in start(self=<zmq.eventloop.ioloop.ZMQIOLoop object>)\n    146             PollIOLoop.configure(ZMQIOLoop)\n    147         return PollIOLoop.instance()\n    148     \n    149     def start(self):\n    150         try:\n--> 151             super(ZMQIOLoop, self).start()\n        self.start = <bound method ZMQIOLoop.start of <zmq.eventloop.ioloop.ZMQIOLoop object>>\n    152         except ZMQError as e:\n    153             if e.errno == ETERM:\n    154                 # quietly return on ETERM\n    155                 pass\n\n...........................................................................\nC:\\Anaconda2\\lib\\site-packages\\tornado\\ioloop.py in start(self=<zmq.eventloop.ioloop.ZMQIOLoop object>)\n    878                 self._events.update(event_pairs)\n    879                 while self._events:\n    880                     fd, events = self._events.popitem()\n    881                     try:\n    882                         fd_obj, handler_func = self._handlers[fd]\n--> 883                         handler_func(fd_obj, events)\n        handler_func = <function null_wrapper>\n        fd_obj = <zmq.sugar.socket.Socket object>\n        events = 1\n    884                     except (OSError, IOError) as e:\n    885                         if errno_from_exception(e) == errno.EPIPE:\n    886                             # Happens when the client closes the connection\n    887                             pass\n\n...........................................................................\nC:\\Anaconda2\\lib\\site-packages\\tornado\\stack_context.py in null_wrapper(*args=(<zmq.sugar.socket.Socket object>, 1), **kwargs={})\n    270         # Fast path when there are no active contexts.\n    271         def null_wrapper(*args, **kwargs):\n    272             try:\n    273                 current_state = _state.contexts\n    274                 _state.contexts = cap_contexts[0]\n--> 275                 return fn(*args, **kwargs)\n        args = (<zmq.sugar.socket.Socket object>, 1)\n        kwargs = {}\n    276             finally:\n    277                 _state.contexts = current_state\n    278         null_wrapper._wrapped = True\n    279         return null_wrapper\n\n...........................................................................\nC:\\Anaconda2\\lib\\site-packages\\zmq\\eventloop\\zmqstream.py in _handle_events(self=<zmq.eventloop.zmqstream.ZMQStream object>, fd=<zmq.sugar.socket.Socket object>, events=1)\n    428             # dispatch events:\n    429             if events & IOLoop.ERROR:\n    430                 gen_log.error(\"got POLLERR event on ZMQStream, which doesn't make sense\")\n    431                 return\n    432             if events & IOLoop.READ:\n--> 433                 self._handle_recv()\n        self._handle_recv = <bound method ZMQStream._handle_recv of <zmq.eventloop.zmqstream.ZMQStream object>>\n    434                 if not self.socket:\n    435                     return\n    436             if events & IOLoop.WRITE:\n    437                 self._handle_send()\n\n...........................................................................\nC:\\Anaconda2\\lib\\site-packages\\zmq\\eventloop\\zmqstream.py in _handle_recv(self=<zmq.eventloop.zmqstream.ZMQStream object>)\n    460                 gen_log.error(\"RECV Error: %s\"%zmq.strerror(e.errno))\n    461         else:\n    462             if self._recv_callback:\n    463                 callback = self._recv_callback\n    464                 # self._recv_callback = None\n--> 465                 self._run_callback(callback, msg)\n        self._run_callback = <bound method ZMQStream._run_callback of <zmq.eventloop.zmqstream.ZMQStream object>>\n        callback = <function null_wrapper>\n        msg = [<zmq.sugar.frame.Frame object>, <zmq.sugar.frame.Frame object>, <zmq.sugar.frame.Frame object>, <zmq.sugar.frame.Frame object>, <zmq.sugar.frame.Frame object>, <zmq.sugar.frame.Frame object>, <zmq.sugar.frame.Frame object>]\n    466                 \n    467         # self.update_state()\n    468         \n    469 \n\n...........................................................................\nC:\\Anaconda2\\lib\\site-packages\\zmq\\eventloop\\zmqstream.py in _run_callback(self=<zmq.eventloop.zmqstream.ZMQStream object>, callback=<function null_wrapper>, *args=([<zmq.sugar.frame.Frame object>, <zmq.sugar.frame.Frame object>, <zmq.sugar.frame.Frame object>, <zmq.sugar.frame.Frame object>, <zmq.sugar.frame.Frame object>, <zmq.sugar.frame.Frame object>, <zmq.sugar.frame.Frame object>],), **kwargs={})\n    402         close our socket.\"\"\"\n    403         try:\n    404             # Use a NullContext to ensure that all StackContexts are run\n    405             # inside our blanket exception handler rather than outside.\n    406             with stack_context.NullContext():\n--> 407                 callback(*args, **kwargs)\n        callback = <function null_wrapper>\n        args = ([<zmq.sugar.frame.Frame object>, <zmq.sugar.frame.Frame object>, <zmq.sugar.frame.Frame object>, <zmq.sugar.frame.Frame object>, <zmq.sugar.frame.Frame object>, <zmq.sugar.frame.Frame object>, <zmq.sugar.frame.Frame object>],)\n        kwargs = {}\n    408         except:\n    409             gen_log.error(\"Uncaught exception, closing connection.\",\n    410                           exc_info=True)\n    411             # Close the socket on an uncaught exception from a user callback\n\n...........................................................................\nC:\\Anaconda2\\lib\\site-packages\\tornado\\stack_context.py in null_wrapper(*args=([<zmq.sugar.frame.Frame object>, <zmq.sugar.frame.Frame object>, <zmq.sugar.frame.Frame object>, <zmq.sugar.frame.Frame object>, <zmq.sugar.frame.Frame object>, <zmq.sugar.frame.Frame object>, <zmq.sugar.frame.Frame object>],), **kwargs={})\n    270         # Fast path when there are no active contexts.\n    271         def null_wrapper(*args, **kwargs):\n    272             try:\n    273                 current_state = _state.contexts\n    274                 _state.contexts = cap_contexts[0]\n--> 275                 return fn(*args, **kwargs)\n        args = ([<zmq.sugar.frame.Frame object>, <zmq.sugar.frame.Frame object>, <zmq.sugar.frame.Frame object>, <zmq.sugar.frame.Frame object>, <zmq.sugar.frame.Frame object>, <zmq.sugar.frame.Frame object>, <zmq.sugar.frame.Frame object>],)\n        kwargs = {}\n    276             finally:\n    277                 _state.contexts = current_state\n    278         null_wrapper._wrapped = True\n    279         return null_wrapper\n\n...........................................................................\nC:\\Anaconda2\\lib\\site-packages\\ipykernel\\kernelbase.py in dispatcher(msg=[<zmq.sugar.frame.Frame object>, <zmq.sugar.frame.Frame object>, <zmq.sugar.frame.Frame object>, <zmq.sugar.frame.Frame object>, <zmq.sugar.frame.Frame object>, <zmq.sugar.frame.Frame object>, <zmq.sugar.frame.Frame object>])\n    255         if self.control_stream:\n    256             self.control_stream.on_recv(self.dispatch_control, copy=False)\n    257 \n    258         def make_dispatcher(stream):\n    259             def dispatcher(msg):\n--> 260                 return self.dispatch_shell(stream, msg)\n        msg = [<zmq.sugar.frame.Frame object>, <zmq.sugar.frame.Frame object>, <zmq.sugar.frame.Frame object>, <zmq.sugar.frame.Frame object>, <zmq.sugar.frame.Frame object>, <zmq.sugar.frame.Frame object>, <zmq.sugar.frame.Frame object>]\n    261             return dispatcher\n    262 \n    263         for s in self.shell_streams:\n    264             s.on_recv(make_dispatcher(s), copy=False)\n\n...........................................................................\nC:\\Anaconda2\\lib\\site-packages\\ipykernel\\kernelbase.py in dispatch_shell(self=<ipykernel.ipkernel.IPythonKernel object>, stream=<zmq.eventloop.zmqstream.ZMQStream object>, msg={'buffers': [], 'content': {u'allow_stdin': True, u'code': u'\\nprint \"best classifier was:\"\\nclf=linear_mod...f_F1,\"\\\\n\",clf #after gridseach\\n    \\nclf_GS_F1', u'silent': False, u'stop_on_error': True, u'store_history': True, u'user_expressions': {}}, 'header': {'date': '2016-03-29T16:53:16.609000', u'msg_id': u'9E5D2DC47D02467B815FC7C75CBC3C6D', u'msg_type': u'execute_request', u'session': u'44400A7D9C034E9F86936DE42A9874F8', u'username': u'username', u'version': u'5.0'}, 'metadata': {}, 'msg_id': u'9E5D2DC47D02467B815FC7C75CBC3C6D', 'msg_type': u'execute_request', 'parent_header': {}})\n    207             self.log.error(\"UNKNOWN MESSAGE TYPE: %r\", msg_type)\n    208         else:\n    209             self.log.debug(\"%s: %s\", msg_type, msg)\n    210             self.pre_handler_hook()\n    211             try:\n--> 212                 handler(stream, idents, msg)\n        handler = <bound method IPythonKernel.execute_request of <ipykernel.ipkernel.IPythonKernel object>>\n        stream = <zmq.eventloop.zmqstream.ZMQStream object>\n        idents = ['44400A7D9C034E9F86936DE42A9874F8']\n        msg = {'buffers': [], 'content': {u'allow_stdin': True, u'code': u'\\nprint \"best classifier was:\"\\nclf=linear_mod...f_F1,\"\\\\n\",clf #after gridseach\\n    \\nclf_GS_F1', u'silent': False, u'stop_on_error': True, u'store_history': True, u'user_expressions': {}}, 'header': {'date': '2016-03-29T16:53:16.609000', u'msg_id': u'9E5D2DC47D02467B815FC7C75CBC3C6D', u'msg_type': u'execute_request', u'session': u'44400A7D9C034E9F86936DE42A9874F8', u'username': u'username', u'version': u'5.0'}, 'metadata': {}, 'msg_id': u'9E5D2DC47D02467B815FC7C75CBC3C6D', 'msg_type': u'execute_request', 'parent_header': {}}\n    213             except Exception:\n    214                 self.log.error(\"Exception in message handler:\", exc_info=True)\n    215             finally:\n    216                 self.post_handler_hook()\n\n...........................................................................\nC:\\Anaconda2\\lib\\site-packages\\ipykernel\\kernelbase.py in execute_request(self=<ipykernel.ipkernel.IPythonKernel object>, stream=<zmq.eventloop.zmqstream.ZMQStream object>, ident=['44400A7D9C034E9F86936DE42A9874F8'], parent={'buffers': [], 'content': {u'allow_stdin': True, u'code': u'\\nprint \"best classifier was:\"\\nclf=linear_mod...f_F1,\"\\\\n\",clf #after gridseach\\n    \\nclf_GS_F1', u'silent': False, u'stop_on_error': True, u'store_history': True, u'user_expressions': {}}, 'header': {'date': '2016-03-29T16:53:16.609000', u'msg_id': u'9E5D2DC47D02467B815FC7C75CBC3C6D', u'msg_type': u'execute_request', u'session': u'44400A7D9C034E9F86936DE42A9874F8', u'username': u'username', u'version': u'5.0'}, 'metadata': {}, 'msg_id': u'9E5D2DC47D02467B815FC7C75CBC3C6D', 'msg_type': u'execute_request', 'parent_header': {}})\n    365         if not silent:\n    366             self.execution_count += 1\n    367             self._publish_execute_input(code, parent, self.execution_count)\n    368 \n    369         reply_content = self.do_execute(code, silent, store_history,\n--> 370                                         user_expressions, allow_stdin)\n        user_expressions = {}\n        allow_stdin = True\n    371 \n    372         # Flush output before sending the reply.\n    373         sys.stdout.flush()\n    374         sys.stderr.flush()\n\n...........................................................................\nC:\\Anaconda2\\lib\\site-packages\\ipykernel\\ipkernel.py in do_execute(self=<ipykernel.ipkernel.IPythonKernel object>, code=u'\\nprint \"best classifier was:\"\\nclf=linear_mod...f_F1,\"\\\\n\",clf #after gridseach\\n    \\nclf_GS_F1', silent=False, store_history=True, user_expressions={}, allow_stdin=True)\n    170 \n    171         reply_content = {}\n    172         # FIXME: the shell calls the exception handler itself.\n    173         shell._reply_content = None\n    174         try:\n--> 175             shell.run_cell(code, store_history=store_history, silent=silent)\n        shell.run_cell = <bound method ZMQInteractiveShell.run_cell of <ipykernel.zmqshell.ZMQInteractiveShell object>>\n        code = u'\\nprint \"best classifier was:\"\\nclf=linear_mod...f_F1,\"\\\\n\",clf #after gridseach\\n    \\nclf_GS_F1'\n        store_history = True\n        silent = False\n    176         except:\n    177             status = u'error'\n    178             # FIXME: this code right now isn't being used yet by default,\n    179             # because the run_cell() call above directly fires off exception\n\n...........................................................................\nC:\\Anaconda2\\lib\\site-packages\\IPython\\core\\interactiveshell.py in run_cell(self=<ipykernel.zmqshell.ZMQInteractiveShell object>, raw_cell=u'\\nprint \"best classifier was:\"\\nclf=linear_mod...f_F1,\"\\\\n\",clf #after gridseach\\n    \\nclf_GS_F1', store_history=True, silent=False, shell_futures=True)\n   2718                 self.displayhook.exec_result = result\n   2719 \n   2720                 # Execute the user code\n   2721                 interactivity = \"none\" if silent else self.ast_node_interactivity\n   2722                 self.run_ast_nodes(code_ast.body, cell_name,\n-> 2723                    interactivity=interactivity, compiler=compiler, result=result)\n        interactivity = 'last_expr'\n        compiler = <IPython.core.compilerop.CachingCompiler instance>\n   2724 \n   2725                 # Reset this so later displayed values do not modify the\n   2726                 # ExecutionResult\n   2727                 self.displayhook.exec_result = None\n\n...........................................................................\nC:\\Anaconda2\\lib\\site-packages\\IPython\\core\\interactiveshell.py in run_ast_nodes(self=<ipykernel.zmqshell.ZMQInteractiveShell object>, nodelist=[<_ast.Print object>, <_ast.Assign object>, <_ast.Assign object>, <_ast.Print object>, <_ast.Assign object>, <_ast.Assign object>, <_ast.Assign object>, <_ast.Print object>, <_ast.Assign object>, <_ast.Assign object>, <_ast.If object>, <_ast.Expr object>], cell_name='<ipython-input-119-1deeaf7e00f5>', interactivity='last', compiler=<IPython.core.compilerop.CachingCompiler instance>, result=<IPython.core.interactiveshell.ExecutionResult object>)\n   2820 \n   2821         try:\n   2822             for i, node in enumerate(to_run_exec):\n   2823                 mod = ast.Module([node])\n   2824                 code = compiler(mod, cell_name, \"exec\")\n-> 2825                 if self.run_code(code, result):\n        self.run_code = <bound method ZMQInteractiveShell.run_code of <ipykernel.zmqshell.ZMQInteractiveShell object>>\n        code = <code object <module> at 000000001F583D30, file \"<ipython-input-119-1deeaf7e00f5>\", line 17>\n        result = <IPython.core.interactiveshell.ExecutionResult object>\n   2826                     return True\n   2827 \n   2828             for i, node in enumerate(to_run_interactive):\n   2829                 mod = ast.Interactive([node])\n\n...........................................................................\nC:\\Anaconda2\\lib\\site-packages\\IPython\\core\\interactiveshell.py in run_code(self=<ipykernel.zmqshell.ZMQInteractiveShell object>, code_obj=<code object <module> at 000000001F583D30, file \"<ipython-input-119-1deeaf7e00f5>\", line 17>, result=<IPython.core.interactiveshell.ExecutionResult object>)\n   2880         outflag = 1  # happens in more places, so it's easier as default\n   2881         try:\n   2882             try:\n   2883                 self.hooks.pre_run_code_hook()\n   2884                 #rprint('Running code', repr(code_obj)) # dbg\n-> 2885                 exec(code_obj, self.user_global_ns, self.user_ns)\n        code_obj = <code object <module> at 000000001F583D30, file \"<ipython-input-119-1deeaf7e00f5>\", line 17>\n        self.user_global_ns = {'DecisionTreeClassifier': <class 'sklearn.tree.tree.DecisionTreeClassifier'>, 'GaussianNB': <class 'sklearn.naive_bayes.GaussianNB'>, 'GridSearchCV': <class 'sklearn.grid_search.GridSearchCV'>, 'In': ['', u'# Import libraries\\nimport numpy as np\\nimport pandas as pd', u'# Read student data\\nstudent_data = pd.read_cs... the target/label, all other are feature columns', u'# TODO: Compute desired values - replace each ...on rate of the class: {:.2f}%\".format(grad_rate)', u'# Extract feature (X) and target (y) columns\\n...-\"\\nprint X_all.head()  # print the first 5 rows', u'# Preprocess feature columns\\ndef preprocess_f....format(len(X_all.columns), list(X_all.columns))', u'# First, decide how many training vs test samp...dation set, extract it from within training data', u'# Train a model\\nimport time\\n\\ndef train_clas...you can inspect the learned model by printing it', u'# Predict on training set and compute F1 score...ore for training set: {}\".format(train_f1_score)', u'# Predict on test data\\nprint \"F1 score for te... {}\".format(predict_labels(clf, X_test, y_test))', u'# Train and predict using different training s...test, y_test)\\nprint \"Test:\",test,\"Train:\",train', u'# TODO: Train and predict using two other mode...int scoresDF.sort(\\'test\\',ascending=False)[:-1]', u'# TODO: Fine-tune your model and report the be...ain, X_test, y_test)\\nprint clf #after gridseach', u'# TODO: Fine-tune your model and report the be...ain, X_test, y_test)\\nprint clf #after gridseach', u'# TODO: Fine-tune your model and report the be...ain, X_test, y_test)\\nprint clf #after gridseach', u'# TODO: Fine-tune your model and report the be...ain, X_test, y_test)\\nprint clf #after gridseach', u'# TODO: Fine-tune your model and report the be...ain, X_test, y_test)\\nprint clf #after gridseach', u'# TODO: Train and predict using two other mode...int scoresDF.sort(\\'test\\',ascending=False)[:-1]', u'# TODO: Train and predict using two other mode...int scoresDF.sort(\\'test\\',ascending=False)[:-1]', u'# TODO: Train and predict using two other mode...int scoresDF.sort(\\'test\\',ascending=False)[:-1]', ...], 'KNeighborsClassifier': <class 'sklearn.neighbors.classification.KNeighborsClassifier'>, 'LinearSVC': <class 'sklearn.svm.classes.LinearSVC'>, 'Out': {}, 'SVC': <class 'sklearn.svm.classes.SVC'>, 'X_all':      school_GP  school_MS  sex_F  sex_M  age  ad...   3       5         5  \n\n[395 rows x 48 columns], 'X_test':      school_GP  school_MS  sex_F  sex_M  age  ad...    2       1         0  \n\n[95 rows x 48 columns], ...}\n        self.user_ns = {'DecisionTreeClassifier': <class 'sklearn.tree.tree.DecisionTreeClassifier'>, 'GaussianNB': <class 'sklearn.naive_bayes.GaussianNB'>, 'GridSearchCV': <class 'sklearn.grid_search.GridSearchCV'>, 'In': ['', u'# Import libraries\\nimport numpy as np\\nimport pandas as pd', u'# Read student data\\nstudent_data = pd.read_cs... the target/label, all other are feature columns', u'# TODO: Compute desired values - replace each ...on rate of the class: {:.2f}%\".format(grad_rate)', u'# Extract feature (X) and target (y) columns\\n...-\"\\nprint X_all.head()  # print the first 5 rows', u'# Preprocess feature columns\\ndef preprocess_f....format(len(X_all.columns), list(X_all.columns))', u'# First, decide how many training vs test samp...dation set, extract it from within training data', u'# Train a model\\nimport time\\n\\ndef train_clas...you can inspect the learned model by printing it', u'# Predict on training set and compute F1 score...ore for training set: {}\".format(train_f1_score)', u'# Predict on test data\\nprint \"F1 score for te... {}\".format(predict_labels(clf, X_test, y_test))', u'# Train and predict using different training s...test, y_test)\\nprint \"Test:\",test,\"Train:\",train', u'# TODO: Train and predict using two other mode...int scoresDF.sort(\\'test\\',ascending=False)[:-1]', u'# TODO: Fine-tune your model and report the be...ain, X_test, y_test)\\nprint clf #after gridseach', u'# TODO: Fine-tune your model and report the be...ain, X_test, y_test)\\nprint clf #after gridseach', u'# TODO: Fine-tune your model and report the be...ain, X_test, y_test)\\nprint clf #after gridseach', u'# TODO: Fine-tune your model and report the be...ain, X_test, y_test)\\nprint clf #after gridseach', u'# TODO: Fine-tune your model and report the be...ain, X_test, y_test)\\nprint clf #after gridseach', u'# TODO: Train and predict using two other mode...int scoresDF.sort(\\'test\\',ascending=False)[:-1]', u'# TODO: Train and predict using two other mode...int scoresDF.sort(\\'test\\',ascending=False)[:-1]', u'# TODO: Train and predict using two other mode...int scoresDF.sort(\\'test\\',ascending=False)[:-1]', ...], 'KNeighborsClassifier': <class 'sklearn.neighbors.classification.KNeighborsClassifier'>, 'LinearSVC': <class 'sklearn.svm.classes.LinearSVC'>, 'Out': {}, 'SVC': <class 'sklearn.svm.classes.SVC'>, 'X_all':      school_GP  school_MS  sex_F  sex_M  age  ad...   3       5         5  \n\n[395 rows x 48 columns], 'X_test':      school_GP  school_MS  sex_F  sex_M  age  ad...    2       1         0  \n\n[95 rows x 48 columns], ...}\n   2886             finally:\n   2887                 # Reset our crash handler in place\n   2888                 sys.excepthook = old_excepthook\n   2889         except SystemExit as e:\n\n...........................................................................\nC:\\cygwin\\home\\llathrop\\projects\\udacity-Projects\\student_intervention\\<ipython-input-119-1deeaf7e00f5> in <module>()\n     12         #'solver' : ['newton-cg', 'lbfgs', 'liblinear'],#, 'sag'],\n     13         'tol': [0.00001,0.0001,.001],\n     14         'penalty': ['l1', 'l2']\n     15        }\n     16 \n---> 17 clf_tuned=modelTune(clf, params,X_all,y_all)\n     18 \n     19 test_GS,train_GS=train_predict(clf_tuned, X_train, y_train, X_test, y_test)\n     20 print \"GridSearch best clf:\\n\",clf_tuned \n     21 \n\n...........................................................................\nC:\\cygwin\\home\\llathrop\\projects\\udacity-Projects\\student_intervention\\<ipython-input-118-1382769c7c96> in modelTune(clf=LogisticRegression(C=1.0, class_weight=None, dua...ol=0.0001,\n          verbose=0, warm_start=False), params={'C': [0.005, 0.05, 0.5, 1.0, 10.0, 100.0], 'class_weight': [None, 'balanced'], 'fit_intercept': [True, False], 'penalty': ['l1', 'l2'], 'random_state': [None, 42], 'tol': [1e-05, 0.0001, 0.001]}, X=     school_GP  school_MS  sex_F  sex_M  age  ad...   3       5         5  \n\n[395 rows x 48 columns], y=0      0\n1      0\n2      1\n3      1\n4      1\n5  ...   0\n393    1\n394    0\nName: passed, dtype: int64)\n     12                                n_jobs= 2,\n     13                                scoring=make_scorer(f1_score, \n     14                                                    pos_label=\"yes\",\n     15                                                    greater_is_better=True)) \n     16 \n---> 17     grid_search.fit(X, y)\n     18 \n     19     #reach into the grid search and pull out the best parameters, and set those on clf. probably not necesary, but easier to deal with\n     20     bestGridParams={}\n     21     for bp in grid_search.best_params_:\n\n...........................................................................\nC:\\Anaconda2\\lib\\site-packages\\sklearn\\grid_search.py in fit(self=GridSearchCV(cv=4, error_score='raise',\n       e...=make_scorer(f1_score, pos_label=yes), verbose=0), X=     school_GP  school_MS  sex_F  sex_M  age  ad...   3       5         5  \n\n[395 rows x 48 columns], y=0      0\n1      0\n2      1\n3      1\n4      1\n5  ...   0\n393    1\n394    0\nName: passed, dtype: int64)\n    799         y : array-like, shape = [n_samples] or [n_samples, n_output], optional\n    800             Target relative to X for classification or regression;\n    801             None for unsupervised learning.\n    802 \n    803         \"\"\"\n--> 804         return self._fit(X, y, ParameterGrid(self.param_grid))\n        self._fit = <bound method GridSearchCV._fit of GridSearchCV(...make_scorer(f1_score, pos_label=yes), verbose=0)>\n        X =      school_GP  school_MS  sex_F  sex_M  age  ad...   3       5         5  \n\n[395 rows x 48 columns]\n        y = 0      0\n1      0\n2      1\n3      1\n4      1\n5  ...   0\n393    1\n394    0\nName: passed, dtype: int64\n        self.param_grid = {'C': [0.005, 0.05, 0.5, 1.0, 10.0, 100.0], 'class_weight': [None, 'balanced'], 'fit_intercept': [True, False], 'penalty': ['l1', 'l2'], 'random_state': [None, 42], 'tol': [1e-05, 0.0001, 0.001]}\n    805 \n    806 \n    807 class RandomizedSearchCV(BaseSearchCV):\n    808     \"\"\"Randomized search on hyper parameters.\n\n...........................................................................\nC:\\Anaconda2\\lib\\site-packages\\sklearn\\grid_search.py in _fit(self=GridSearchCV(cv=4, error_score='raise',\n       e...=make_scorer(f1_score, pos_label=yes), verbose=0), X=     school_GP  school_MS  sex_F  sex_M  age  ad...   3       5         5  \n\n[395 rows x 48 columns], y=0      0\n1      0\n2      1\n3      1\n4      1\n5  ...   0\n393    1\n394    0\nName: passed, dtype: int64, parameter_iterable=<sklearn.grid_search.ParameterGrid object>)\n    548         )(\n    549             delayed(_fit_and_score)(clone(base_estimator), X, y, self.scorer_,\n    550                                     train, test, self.verbose, parameters,\n    551                                     self.fit_params, return_parameters=True,\n    552                                     error_score=self.error_score)\n--> 553                 for parameters in parameter_iterable\n        parameters = undefined\n        parameter_iterable = <sklearn.grid_search.ParameterGrid object>\n    554                 for train, test in cv)\n    555 \n    556         # Out is a list of triplet: score, estimator, n_test_samples\n    557         n_fits = len(out)\n\n...........................................................................\nC:\\Anaconda2\\lib\\site-packages\\sklearn\\externals\\joblib\\parallel.py in __call__(self=Parallel(n_jobs=2), iterable=<generator object <genexpr>>)\n    807             if pre_dispatch == \"all\" or n_jobs == 1:\n    808                 # The iterable was consumed all at once by the above for loop.\n    809                 # No need to wait for async callbacks to trigger to\n    810                 # consumption.\n    811                 self._iterating = False\n--> 812             self.retrieve()\n        self.retrieve = <bound method Parallel.retrieve of Parallel(n_jobs=2)>\n    813             # Make sure that we get a last message telling us we are done\n    814             elapsed_time = time.time() - self._start_time\n    815             self._print('Done %3i out of %3i | elapsed: %s finished',\n    816                         (len(self._output), len(self._output),\n\n---------------------------------------------------------------------------\nSub-process traceback:\n---------------------------------------------------------------------------\nValueError                                         Tue Mar 29 16:53:46 2016\nPID: 6764                            Python 2.7.11: C:\\Anaconda2\\python.exe\n...........................................................................\nC:\\Anaconda2\\lib\\site-packages\\sklearn\\externals\\joblib\\parallel.pyc in __call__(self=<sklearn.externals.joblib.parallel.BatchedCalls object>)\n     67     def __init__(self, iterator_slice):\n     68         self.items = list(iterator_slice)\n     69         self._size = len(self.items)\n     70 \n     71     def __call__(self):\n---> 72         return [func(*args, **kwargs) for func, args, kwargs in self.items]\n     73 \n     74     def __len__(self):\n     75         return self._size\n     76 \n\n...........................................................................\nC:\\Anaconda2\\lib\\site-packages\\sklearn\\cross_validation.pyc in _fit_and_score(estimator=LogisticRegression(C=0.005, class_weight=None, d...tol=1e-05,\n          verbose=0, warm_start=False), X=     school_GP  school_MS  sex_F  sex_M  age  ad...   3       5         5  \n\n[395 rows x 48 columns], y=0      0\n1      0\n2      1\n3      1\n4      1\n5  ...   0\n393    1\n394    0\nName: passed, dtype: int64, scorer=make_scorer(f1_score, pos_label=yes), train=array([ 88,  91,  93,  94,  95,  96,  97,  98, 1...    386, 387, 388, 389, 390, 391, 392, 393, 394]), test=array([  0,   1,   2,   3,   4,   5,   6,   7,  ...     99, 100, 103, 106, 114, 118, 124, 127, 128]), verbose=0, parameters={'C': 0.005, 'class_weight': None, 'fit_intercept': True, 'penalty': 'l1', 'random_state': None, 'tol': 1e-05}, fit_params={}, return_train_score=False, return_parameters=True, error_score='raise')\n   1545                              \" numeric value. (Hint: if using 'raise', please\"\n   1546                              \" make sure that it has been spelled correctly.)\"\n   1547                              )\n   1548 \n   1549     else:\n-> 1550         test_score = _score(estimator, X_test, y_test, scorer)\n   1551         if return_train_score:\n   1552             train_score = _score(estimator, X_train, y_train, scorer)\n   1553 \n   1554     scoring_time = time.time() - start_time\n\n...........................................................................\nC:\\Anaconda2\\lib\\site-packages\\sklearn\\cross_validation.pyc in _score(estimator=LogisticRegression(C=0.005, class_weight=None, d...tol=1e-05,\n          verbose=0, warm_start=False), X_test=     school_GP  school_MS  sex_F  sex_M  age  ad...   2       4         0  \n\n[100 rows x 48 columns], y_test=0      0\n1      0\n2      1\n3      1\n4      1\n5  ...   0\n127    0\n128    0\nName: passed, dtype: int64, scorer=make_scorer(f1_score, pos_label=yes))\n   1601 def _score(estimator, X_test, y_test, scorer):\n   1602     \"\"\"Compute the score of an estimator on a given test set.\"\"\"\n   1603     if y_test is None:\n   1604         score = scorer(estimator, X_test)\n   1605     else:\n-> 1606         score = scorer(estimator, X_test, y_test)\n   1607     if not isinstance(score, numbers.Number):\n   1608         raise ValueError(\"scoring must return a number, got %s (%s) instead.\"\n   1609                          % (str(score), type(score)))\n   1610     return score\n\n...........................................................................\nC:\\Anaconda2\\lib\\site-packages\\sklearn\\metrics\\scorer.pyc in __call__(self=make_scorer(f1_score, pos_label=yes), estimator=LogisticRegression(C=0.005, class_weight=None, d...tol=1e-05,\n          verbose=0, warm_start=False), X=     school_GP  school_MS  sex_F  sex_M  age  ad...   2       4         0  \n\n[100 rows x 48 columns], y_true=0      0\n1      0\n2      1\n3      1\n4      1\n5  ...   0\n127    0\n128    0\nName: passed, dtype: int64, sample_weight=None)\n     85             return self._sign * self._score_func(y_true, y_pred,\n     86                                                  sample_weight=sample_weight,\n     87                                                  **self._kwargs)\n     88         else:\n     89             return self._sign * self._score_func(y_true, y_pred,\n---> 90                                                  **self._kwargs)\n     91 \n     92 \n     93 class _ProbaScorer(_BaseScorer):\n     94     def __call__(self, clf, X, y, sample_weight=None):\n\n...........................................................................\nC:\\Anaconda2\\lib\\site-packages\\sklearn\\metrics\\classification.pyc in f1_score(y_true=0      0\n1      0\n2      1\n3      1\n4      1\n5  ...   0\n127    0\n128    0\nName: passed, dtype: int64, y_pred=array([1, 1, 1, 1, 1, 1, 1, 1, 1, 1, 1, 1, 1, 1,..., 1,\n       1, 1, 1, 1, 1, 1, 1, 1], dtype=int64), labels=None, pos_label='yes', average='binary', sample_weight=None)\n    634 \n    635 \n    636     \"\"\"\n    637     return fbeta_score(y_true, y_pred, 1, labels=labels,\n    638                        pos_label=pos_label, average=average,\n--> 639                        sample_weight=sample_weight)\n        average = 'binary'\n    640 \n    641 \n    642 def fbeta_score(y_true, y_pred, beta, labels=None, pos_label=1,\n    643                 average='binary', sample_weight=None):\n\n...........................................................................\nC:\\Anaconda2\\lib\\site-packages\\sklearn\\metrics\\classification.pyc in fbeta_score(y_true=0      0\n1      0\n2      1\n3      1\n4      1\n5  ...   0\n127    0\n128    0\nName: passed, dtype: int64, y_pred=array([1, 1, 1, 1, 1, 1, 1, 1, 1, 1, 1, 1, 1, 1,..., 1,\n       1, 1, 1, 1, 1, 1, 1, 1], dtype=int64), beta=1, labels=None, pos_label='yes', average='binary', sample_weight=None)\n    751                                                  beta=beta,\n    752                                                  labels=labels,\n    753                                                  pos_label=pos_label,\n    754                                                  average=average,\n    755                                                  warn_for=('f-score',),\n--> 756                                                  sample_weight=sample_weight)\n    757     return f\n    758 \n    759 \n    760 def _prf_divide(numerator, denominator, metric, modifier, average, warn_for):\n\n...........................................................................\nC:\\Anaconda2\\lib\\site-packages\\sklearn\\metrics\\classification.pyc in precision_recall_fscore_support(y_true=array([0, 0, 1, 1, 1, 1, 1, 0, 1, 1, 0, 1, 1, 1,..., 0,\n       0, 0, 0, 0, 0, 0, 0, 0], dtype=int64), y_pred=array([1, 1, 1, 1, 1, 1, 1, 1, 1, 1, 1, 1, 1, 1,..., 1,\n       1, 1, 1, 1, 1, 1, 1, 1], dtype=int64), beta=1, labels=None, pos_label='yes', average='binary', warn_for=('f-score',), sample_weight=None)\n    979                 if len(present_labels) < 2:\n    980                     # Only negative labels\n    981                     return (0., 0., 0., 0)\n    982                 else:\n    983                     raise ValueError(\"pos_label=%r is not a valid label: %r\" %\n--> 984                                      (pos_label, present_labels))\n    985             labels = [pos_label]\n    986     if labels is None:\n    987         labels = present_labels\n    988         n_labels = None\n\nValueError: pos_label='yes' is not a valid label: array([0, 1], dtype=int64)\n___________________________________________________________________________"
     ]
    }
   ],
   "source": [
    "\n",
    "print \"best classifier was:\"\n",
    "clf=linear_model.LogisticRegression(n_jobs =-1)\n",
    "test_def,train_def=train_predict(clf, X_train, y_train, X_test, y_test)\n",
    "print \"\\nOriginal clf:\\n\",clf #compare after gridsearch\n",
    "\n",
    "\n",
    "params={'C' : [.005,.05,.5,1.,10.,100.,],\n",
    "        'fit_intercept' : [True, False],\n",
    "        'class_weight': [ None,'balanced'],\n",
    "        'random_state' : [None,42],\n",
    "        #'solver' : ['newton-cg', 'lbfgs', 'liblinear'],#, 'sag'],\n",
    "        'tol': [0.00001,0.0001,.001],\n",
    "        'penalty': ['l1', 'l2']\n",
    "       }\n",
    "\n",
    "clf_tuned=modelTune(clf, params,X_all,y_all)\n",
    "\n",
    "test_GS,train_GS=train_predict(clf_tuned, X_train, y_train, X_test, y_test)\n",
    "print \"GridSearch best clf:\\n\",clf_tuned \n",
    "\n",
    "# the dataset is small gridsearch may not provide a better set of parameters than the default\n",
    "# We'll check for that situation and return the best options F1 score for the full data set\n",
    "clf_GS_F1=predict_labels(clf_tuned, X_all, y_all)\n",
    "clff_F1= predict_labels(clf, X_all, y_all)\n",
    "if clf_GS_F1 >=clf_def_F1: \n",
    "    print \"\\nFinal clf_GS, F1 score:\",clf_GS_F1,\"\\n\",clf_tuned #after gridseach\n",
    "\n",
    "else:\n",
    "    print \"\\nFinal clf_def, F1 score:\",clf_def_F1,\"\\n\",clf #after gridseach\n",
    "    \n",
    "clf_GS_F1"
   ]
  }
 ],
 "metadata": {
  "kernelspec": {
   "display_name": "Python 2",
   "language": "python",
   "name": "python2"
  },
  "language_info": {
   "codemirror_mode": {
    "name": "ipython",
    "version": 2
   },
   "file_extension": ".py",
   "mimetype": "text/x-python",
   "name": "python",
   "nbconvert_exporter": "python",
   "pygments_lexer": "ipython2",
   "version": "2.7.11"
  }
 },
 "nbformat": 4,
 "nbformat_minor": 0
}
